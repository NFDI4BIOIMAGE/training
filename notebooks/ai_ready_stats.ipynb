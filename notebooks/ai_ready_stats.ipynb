{
 "cells": [
  {
   "cell_type": "code",
   "execution_count": 13,
   "id": "62d8bbca-01f6-4cf0-8d9c-df1480395152",
   "metadata": {},
   "outputs": [],
   "source": [
    "import sys\n",
    "sys.path.append(\"../scripts/\")\n",
    "import pandas as pd\n",
    "from generate_link_lists import load_dataframe"
   ]
  },
  {
   "cell_type": "code",
   "execution_count": 14,
   "id": "691510c4-e613-4e4e-ab03-ae965914c96c",
   "metadata": {},
   "outputs": [],
   "source": [
    "df = load_dataframe(\"../resources/\")"
   ]
  },
  {
   "cell_type": "code",
   "execution_count": 15,
   "id": "b1136970-57b1-42fb-8128-b3601853fd1f",
   "metadata": {},
   "outputs": [
    {
     "data": {
      "text/html": [
       "<div>\n",
       "<style scoped>\n",
       "    .dataframe tbody tr th:only-of-type {\n",
       "        vertical-align: middle;\n",
       "    }\n",
       "\n",
       "    .dataframe tbody tr th {\n",
       "        vertical-align: top;\n",
       "    }\n",
       "\n",
       "    .dataframe thead th {\n",
       "        text-align: right;\n",
       "    }\n",
       "</style>\n",
       "<table border=\"1\" class=\"dataframe\">\n",
       "  <thead>\n",
       "    <tr style=\"text-align: right;\">\n",
       "      <th></th>\n",
       "      <th>authors</th>\n",
       "      <th>name</th>\n",
       "      <th>proficiency_level</th>\n",
       "      <th>tags</th>\n",
       "      <th>type</th>\n",
       "      <th>url</th>\n",
       "      <th>license</th>\n",
       "      <th>event_date</th>\n",
       "      <th>event_location</th>\n",
       "      <th>description</th>\n",
       "      <th>num_downloads</th>\n",
       "      <th>publication_date</th>\n",
       "      <th>fingerprint</th>\n",
       "      <th>author</th>\n",
       "      <th>submission_date</th>\n",
       "    </tr>\n",
       "  </thead>\n",
       "  <tbody>\n",
       "  </tbody>\n",
       "</table>\n",
       "</div>"
      ],
      "text/plain": [
       "Empty DataFrame\n",
       "Columns: [authors, name, proficiency_level, tags, type, url, license, event_date, event_location, description, num_downloads, publication_date, fingerprint, author, submission_date]\n",
       "Index: []"
      ]
     },
     "execution_count": 15,
     "metadata": {},
     "output_type": "execute_result"
    }
   ],
   "source": [
    "\n",
    "\n",
    "filtered_df = df[df['tags'].str.contains(\"ai-ready\", na=False, case=True)]\n",
    "filtered_df.head()"
   ]
  },
  {
   "cell_type": "code",
   "execution_count": 21,
   "id": "2e19f431-4606-4b9a-884d-b3ca5a5d65ad",
   "metadata": {},
   "outputs": [
    {
     "data": {
      "text/html": [
       "<div>\n",
       "<style scoped>\n",
       "    .dataframe tbody tr th:only-of-type {\n",
       "        vertical-align: middle;\n",
       "    }\n",
       "\n",
       "    .dataframe tbody tr th {\n",
       "        vertical-align: top;\n",
       "    }\n",
       "\n",
       "    .dataframe thead th {\n",
       "        text-align: right;\n",
       "    }\n",
       "</style>\n",
       "<table border=\"1\" class=\"dataframe\">\n",
       "  <thead>\n",
       "    <tr style=\"text-align: right;\">\n",
       "      <th></th>\n",
       "      <th>authors</th>\n",
       "      <th>name</th>\n",
       "      <th>proficiency_level</th>\n",
       "      <th>tags</th>\n",
       "      <th>type</th>\n",
       "      <th>url</th>\n",
       "      <th>license</th>\n",
       "      <th>event_date</th>\n",
       "      <th>event_location</th>\n",
       "      <th>description</th>\n",
       "      <th>num_downloads</th>\n",
       "      <th>publication_date</th>\n",
       "      <th>fingerprint</th>\n",
       "      <th>author</th>\n",
       "      <th>submission_date</th>\n",
       "      <th>tags_str</th>\n",
       "    </tr>\n",
       "  </thead>\n",
       "  <tbody>\n",
       "    <tr>\n",
       "      <th>632</th>\n",
       "      <td>[Jean-Yves Tinevez, Joanna W. Pylvänäinen, Gui...</td>\n",
       "      <td>Segmenting cells in a spheroid in 3D using 2D ...</td>\n",
       "      <td>NaN</td>\n",
       "      <td>[AI-ready]</td>\n",
       "      <td>[Data]</td>\n",
       "      <td>[https://zenodo.org/records/5220610, https://d...</td>\n",
       "      <td>cc-by-4.0</td>\n",
       "      <td>NaN</td>\n",
       "      <td>NaN</td>\n",
       "      <td>3D image of cells in a spheroid, imaged on a c...</td>\n",
       "      <td>452.0</td>\n",
       "      <td>2021-08-19</td>\n",
       "      <td>NaN</td>\n",
       "      <td>NaN</td>\n",
       "      <td>2025-05-29T19:38:24.237753</td>\n",
       "      <td>['ai-ready']</td>\n",
       "    </tr>\n",
       "    <tr>\n",
       "      <th>633</th>\n",
       "      <td>[Kubow, Kristopoher, Pengo, Thomas]</td>\n",
       "      <td>LMRG Image Analysis Study - FISH datasets</td>\n",
       "      <td>NaN</td>\n",
       "      <td>[AI-ready]</td>\n",
       "      <td>[Data]</td>\n",
       "      <td>[https://zenodo.org/records/6560910, https://d...</td>\n",
       "      <td>cc-by-4.0</td>\n",
       "      <td>NaN</td>\n",
       "      <td>NaN</td>\n",
       "      <td>Original image files, label (ground truth) fil...</td>\n",
       "      <td>53.0</td>\n",
       "      <td>2022-05-18</td>\n",
       "      <td>NaN</td>\n",
       "      <td>NaN</td>\n",
       "      <td>2025-05-29T19:38:24.766943</td>\n",
       "      <td>['ai-ready']</td>\n",
       "    </tr>\n",
       "    <tr>\n",
       "      <th>634</th>\n",
       "      <td>[Fuhui Long, Hanchuan Peng, Xiao Liu, Stuart K...</td>\n",
       "      <td>3D nuclei instance segmentation dataset of flu...</td>\n",
       "      <td>NaN</td>\n",
       "      <td>[AI-ready]</td>\n",
       "      <td>[Data]</td>\n",
       "      <td>[https://zenodo.org/records/5942575, https://d...</td>\n",
       "      <td>cc-by-4.0</td>\n",
       "      <td>NaN</td>\n",
       "      <td>NaN</td>\n",
       "      <td>The dataset consists of 28 confocal microscopy...</td>\n",
       "      <td>142.0</td>\n",
       "      <td>2022-02-01</td>\n",
       "      <td>NaN</td>\n",
       "      <td>NaN</td>\n",
       "      <td>2025-05-29T19:38:25.339506</td>\n",
       "      <td>['ai-ready']</td>\n",
       "    </tr>\n",
       "    <tr>\n",
       "      <th>635</th>\n",
       "      <td>[Kubow, Kristopher, Pengo, Thomas]</td>\n",
       "      <td>LMRG Image Analysis Study - nuclei datasets</td>\n",
       "      <td>NaN</td>\n",
       "      <td>[AI-ready]</td>\n",
       "      <td>[Data]</td>\n",
       "      <td>[https://zenodo.org/records/6560759, https://d...</td>\n",
       "      <td>cc-by-4.0</td>\n",
       "      <td>NaN</td>\n",
       "      <td>NaN</td>\n",
       "      <td>Original image files, label (ground truth) fil...</td>\n",
       "      <td>90.0</td>\n",
       "      <td>2022-05-18</td>\n",
       "      <td>NaN</td>\n",
       "      <td>NaN</td>\n",
       "      <td>2025-05-29T19:38:25.822989</td>\n",
       "      <td>['ai-ready']</td>\n",
       "    </tr>\n",
       "    <tr>\n",
       "      <th>636</th>\n",
       "      <td>[Romain Guiet]</td>\n",
       "      <td>Automatic labelling of HeLa \"Kyoto\" cells usin...</td>\n",
       "      <td>NaN</td>\n",
       "      <td>[AI-ready]</td>\n",
       "      <td>[Data]</td>\n",
       "      <td>[https://zenodo.org/records/6140064, https://d...</td>\n",
       "      <td>cc-by-4.0</td>\n",
       "      <td>NaN</td>\n",
       "      <td>NaN</td>\n",
       "      <td>Name: Automatic labelling&amp;nbsp;of HeLa &amp;ldquo;...</td>\n",
       "      <td>151.0</td>\n",
       "      <td>2022-02-25</td>\n",
       "      <td>NaN</td>\n",
       "      <td>NaN</td>\n",
       "      <td>2025-05-29T19:38:26.752489</td>\n",
       "      <td>['ai-ready']</td>\n",
       "    </tr>\n",
       "  </tbody>\n",
       "</table>\n",
       "</div>"
      ],
      "text/plain": [
       "                                               authors  \\\n",
       "632  [Jean-Yves Tinevez, Joanna W. Pylvänäinen, Gui...   \n",
       "633                [Kubow, Kristopoher, Pengo, Thomas]   \n",
       "634  [Fuhui Long, Hanchuan Peng, Xiao Liu, Stuart K...   \n",
       "635                 [Kubow, Kristopher, Pengo, Thomas]   \n",
       "636                                     [Romain Guiet]   \n",
       "\n",
       "                                                  name proficiency_level  \\\n",
       "632  Segmenting cells in a spheroid in 3D using 2D ...               NaN   \n",
       "633          LMRG Image Analysis Study - FISH datasets               NaN   \n",
       "634  3D nuclei instance segmentation dataset of flu...               NaN   \n",
       "635        LMRG Image Analysis Study - nuclei datasets               NaN   \n",
       "636  Automatic labelling of HeLa \"Kyoto\" cells usin...               NaN   \n",
       "\n",
       "           tags    type                                                url  \\\n",
       "632  [AI-ready]  [Data]  [https://zenodo.org/records/5220610, https://d...   \n",
       "633  [AI-ready]  [Data]  [https://zenodo.org/records/6560910, https://d...   \n",
       "634  [AI-ready]  [Data]  [https://zenodo.org/records/5942575, https://d...   \n",
       "635  [AI-ready]  [Data]  [https://zenodo.org/records/6560759, https://d...   \n",
       "636  [AI-ready]  [Data]  [https://zenodo.org/records/6140064, https://d...   \n",
       "\n",
       "       license event_date event_location  \\\n",
       "632  cc-by-4.0        NaN            NaN   \n",
       "633  cc-by-4.0        NaN            NaN   \n",
       "634  cc-by-4.0        NaN            NaN   \n",
       "635  cc-by-4.0        NaN            NaN   \n",
       "636  cc-by-4.0        NaN            NaN   \n",
       "\n",
       "                                           description  num_downloads  \\\n",
       "632  3D image of cells in a spheroid, imaged on a c...          452.0   \n",
       "633  Original image files, label (ground truth) fil...           53.0   \n",
       "634  The dataset consists of 28 confocal microscopy...          142.0   \n",
       "635  Original image files, label (ground truth) fil...           90.0   \n",
       "636  Name: Automatic labelling&nbsp;of HeLa &ldquo;...          151.0   \n",
       "\n",
       "    publication_date fingerprint author             submission_date  \\\n",
       "632       2021-08-19         NaN    NaN  2025-05-29T19:38:24.237753   \n",
       "633       2022-05-18         NaN    NaN  2025-05-29T19:38:24.766943   \n",
       "634       2022-02-01         NaN    NaN  2025-05-29T19:38:25.339506   \n",
       "635       2022-05-18         NaN    NaN  2025-05-29T19:38:25.822989   \n",
       "636       2022-02-25         NaN    NaN  2025-05-29T19:38:26.752489   \n",
       "\n",
       "         tags_str  \n",
       "632  ['ai-ready']  \n",
       "633  ['ai-ready']  \n",
       "634  ['ai-ready']  \n",
       "635  ['ai-ready']  \n",
       "636  ['ai-ready']  "
      ]
     },
     "execution_count": 21,
     "metadata": {},
     "output_type": "execute_result"
    }
   ],
   "source": [
    "df[\"tags_str\"] = [s.lower() for s in df[\"tags\"].astype(str)]\n",
    "\n",
    "\n",
    "filtered_df = df[df['tags_str'].str.contains(\"ai-ready\", na=False, case=True)]\n",
    "filtered_df.head()"
   ]
  },
  {
   "cell_type": "markdown",
   "id": "aedd10c6-293d-420e-9126-85df9815530b",
   "metadata": {},
   "source": [
    "## General statistics\n",
    "Here we provide general statistics."
   ]
  },
  {
   "cell_type": "code",
   "execution_count": 33,
   "id": "5459a3f0-63dd-4d98-adb8-2ec6ffc29cf8",
   "metadata": {},
   "outputs": [
    {
     "data": {
      "text/plain": [
       "(85, 16)"
      ]
     },
     "execution_count": 33,
     "metadata": {},
     "output_type": "execute_result"
    }
   ],
   "source": [
    "filtered_df.shape"
   ]
  },
  {
   "cell_type": "markdown",
   "id": "a7da3075-b4c6-4be9-9482-5e7c883fb6cf",
   "metadata": {},
   "source": [
    "## Authors\n",
    "Here we identify the unique names of all authors of the datasets."
   ]
  },
  {
   "cell_type": "code",
   "execution_count": 30,
   "id": "15e19799-9704-4ab8-8d76-e0d5e5038b7d",
   "metadata": {},
   "outputs": [
    {
     "name": "stdout",
     "output_type": "stream",
     "text": [
      "315\n",
      "['Aaron Valero Puche', 'Abhijeet Patil', 'Abhishek Vahadane', 'Abo-Alela F Younes', 'Abu Imran Baba', 'Ahmad M Elkashash', 'Ahmad Sadeghi', 'Ahmed F Ismail', 'Ahmed M Alhusseiny', 'Ahmed M Gadallah', 'Alain Chen', 'Ali Abdulkarim', 'Ali Erturk', 'Alice Pollitt', 'Alison J. Beckett', 'Allan Hanbury', 'Amirreza Mahbod', 'Amit Sethi', 'Anas M Saad', 'Andreas Diepold', 'Andreas Hocke', 'Andrew L. Lemire', 'Anne E. Carpenter', 'Anne L. Martel', 'Anne-Florence Bitbol', 'Anubha Gupta', 'Ao Chen', 'Arrate Muñoz-Barrutia', 'Arturo Susarrey-Arce', 'Athul Vijayan', 'Augoustina Maria Economou', 'Basma M Zaki', 'Belevich Ilya', 'Benjamin Bancher', 'Beth A Cimini', 'Biagio Brattoli', 'Bizhe Bai', 'Bo Wang', 'Bozek Katarzyna', 'Burri Olivier', 'Büttner Reinhard', 'Can Shi', 'Carly Kempster', 'Carsen Stringer', 'Carson Purnell', 'Chan-Young Ock', 'Cheng Ge', 'Christine Polak', 'Christoph Spahn', 'Chun Hei Michael Chan', 'Constantin Pape', 'Cristian Goina', 'Dagmar Kainmüller', 'Daniel Bodmer', 'Darren Gilmour', 'David A Gutman', 'David J. Logan', 'David Manthey', 'David Svoboda', 'David Van Valen', 'De Leval Laurence', 'Deepak R Chittajallu', 'Denis Alain Henri Lucien Joly', 'Denis Wirtz', 'Deyun Zhang', 'Donggeun Yoo', 'Doris Kaltenecker', 'Duaa M Younes', 'Edward Delp', 'Eich Marie-Lisa', 'Eija Jokitalo', 'Elisa Gallo', 'Eric Upschulte', 'Erin Weisbart', 'Estibaliz Gómez-de-Mariscal', 'Eugene Myers', 'Eugene W Myers', 'Eugene W. Myers', 'Eva Bozsaky', 'Florian Kromp', 'Francesca Ermoli', 'Frauke Wilm', 'Frederike Alwes', 'Fredrick E. Henry', 'Friederike Wanke', 'Fuhui Long', 'Gary D. Bader', 'Gautier Follain', 'Georg Dorffner', 'Gihun Lee', 'Giulia Paci', 'Greg Fleishman', 'Guillaume Jacquemet', 'Gábor Tamás', 'Habiba Elfandy', 'Hagar Hussein', 'Hanchuan Peng', 'Hao Xu', 'Haofeng Li', 'Harsharan Singh Bhatia', 'Hasini Jayatilaka', 'Hazem S E Salem', 'Huanlin Liu', 'Hui Yang', 'Hussein Al-Akhrass', 'Ian A. Prior', 'Inas A Ruhban', 'Ines Fernandez Mosquera', 'Inge M. Ambros', 'Ioritz Sorzabal Bellido', 'Isabella Ellinger', 'JaeWoong Shin', 'Jan Moritz Middeke', 'Jan-Niklas Eckardt', 'Jean Jacquemier', 'Jean-Yves Tinevez', 'Jeongun Ryu', 'Jessica Heebner', 'Jing Guo', 'Jing Shan', 'Jinghong Fan', 'Jingwen Wang', 'Jinhee Lee', 'Jinjiang Gong', 'Jo Forthergill', 'Joanna Pylvänäinen', 'Joanna W. Pylvänäinen', 'Johan Auwerx', 'Johanna Ivaska', 'Johanna Jukkala', 'Johannes C. Paetzold', 'Jonas Hartmann', 'Jonathan Beezley', 'Joonkee Kim', 'José Guilherme de Almeida', 'Joumana Ahmed', 'Julian Bär', 'Julian Wanner', 'Julie Meystre', 'Jun Ma', 'József Molnár', 'Karel Svoboda', 'Katharina Feldmann', 'Katharina Gelles', 'Katherine L. Sokolnicki', 'Kay Schneitz', 'Kenneth Dunn', 'Klaus Beiske', 'Ko Sugawara', 'Konrad Rokicki', 'Kristopher Kubow', 'Kristopoher Kubow', 'Krisztian Koos', 'Kyunghyun Paeng', 'Lamees A Atteya', 'Lamia S Abo Elnasr', 'Laé Marick', 'Lee A D Cooper', 'Leon Espinosa', 'Liming Wu', 'Lin Han', 'Lohneis Philipp', 'Lorenz Lamm', 'Loïc Sauteur', 'Luca Barbieri', 'Luciano Höher', 'Luis Kuhn Cuellar', 'Lóránd Kelemen', 'MIC Group', 'Magdalena Ambros', 'Magnus Andersson', 'Maha A T Elsebaie', 'Mai A T Elsebaie', 'Malou Arvidsson', 'Marc Aubreville', 'Marco Labagnara', 'Maria Berneder', 'Mariam M Khalaf', 'Mariana Pinho', 'Marius Pachitariu', 'Mark Eddison', 'Mark Schuiveling', 'Martin Weigert', 'Martin Wohlwend', 'Martyna Mazur', 'Mateusz Kozinski', 'Matt Swulius', 'Matthew Hartley', 'Matthias Minder', 'Maurizio Cortada', 'Maxime Scheder', 'Mei Li', 'Melanie Dohmen', 'Mia Conduit', 'Michael Grillo', 'Michael Lanz', 'Michal Kozubek', 'Michal Kozubkek', 'Michalis Averof', 'Michalis Michaelos', 'Mie Wong', 'Mihail Todorov', 'Mike Heilemann', 'Mike Marsh', 'Mirja Mittermaier', 'Mohamed Amgad', 'Mohamed H Osman', 'Mohammad Mostafavi', 'Mohammad Peikari', 'Mustafijur Rahman', 'Nada M Elgazar', 'Naji Hussein', 'Nathan H. Roy', 'Naveiras Olaia', 'Naylor Peter Jack', 'Neeraj Kumar', 'Nicola Dietler', 'Nicolas Chen', 'Nikhil Cherian Kurian', 'Noah F. Greenwald', 'Ofra Golani', 'Olivier Burri', 'Oscar Brück', 'Pablo Vicente Munuera', 'Paul Salama', 'Paul W. Tillberg', 'Pedro Matos Pereira', 'Peter F. Ambros', 'Peter Horvath', 'Qiang Kang', 'Ramona Woitek', 'Rasmita Raval', 'Reyal Fabien', 'Ritu Gupta', 'Roald M. Tiggelaar', 'Rokia A Sakr', 'Romain Guiet', 'Ronald Xie', 'Ruchika Verma', 'Rumsha Khan', 'Ryan Hylton', 'Sabine Taschner-Mandl', 'Sahand Jamal Rahi', 'Salma Kazemi Rashed', 'Salma Y Fala', 'Sangeeta N. Bhatia', 'Sanuj Sharma', 'Saqib Qamar', 'Sarkis Rita', 'Scott M. Sternson', 'Seonwook Park', 'Sepideh Hatamikia', 'Seth Winfree', 'Sha Liao', 'Shamini Ayyadhury', 'Shan Zhao', 'Sharon Nofech-Mozes', 'Shenggan Gan', 'Shengjin Xu', 'Sherine Salama', 'Simon Adrian', 'Simon Graham', 'Soledad Levano', 'Song Gu', 'Sonja Aits', 'Soo Ick Cho', 'Stanislav Stejskal', 'Stephan Saalfeld', 'Stuart K Kim', 'Stèphane Verger', 'Sujan Ghimire', 'Surabhi Bhargava', 'Swapnil Rane', 'Syed Nauyan Rashid', 'Séamus Holden', 'Sérgio Pereira', 'Tam Mignot', 'Tamar Geiger', 'Tamara Weiss', 'Tejasvinee Mody', 'Teresa Zulueta-Coarasa', 'Thomas Pengo', 'Tim Wang', 'Timo Dickscheid', 'Trevor Cheung', 'Uwe Schmidt', 'Vebjorn Ljosa', 'Vishnu Mohan', 'Vojislav Gligorovski', 'Walter Thomas', 'Wangkai Li', 'Wei Lou', 'Wei Ouyang', 'Weigert Martin', 'Wenqi Tang', 'Wojciech Krauze', 'Wolfgang Doerr', 'Wonkyung Jung', 'Wyatt Korff', 'Xiao Liu', 'Xiaochen Cai', 'Xin Yang', 'Yahya Alagha', 'Yanlan Mao', 'Yao Zhang', 'Ying Chen', 'Ying Zhang', 'Yixin Wang', 'Yuhan Wang', 'Yumei Li', 'Yuri A. Diaz Fernandez', 'Zhaoyang Li', 'Zhonghan Deng', 'Zhongtian Shao', 'Ziming Qiu']\n"
     ]
    }
   ],
   "source": [
    "unique_authors_set = set()\n",
    "for entry in filtered_df[\"authors\"]:\n",
    "    entry = [author if \", \" not in author else \" \".join(reversed(author.split(\", \"))) for author in entry]\n",
    "    if isinstance(entry, list):\n",
    "        unique_authors_set.update(entry)\n",
    "    elif isinstance(entry, str):\n",
    "        unique_authors_set.add(entry)\n",
    "unique_authors_sorted = sorted(unique_authors_set)\n",
    "print(len(unique_authors_sorted))\n",
    "print(unique_authors_sorted)"
   ]
  },
  {
   "cell_type": "markdown",
   "id": "7d1c7157-bb6f-43ba-b0a1-9890ee25b14c",
   "metadata": {},
   "source": [
    "## License statistics\n"
   ]
  },
  {
   "cell_type": "code",
   "execution_count": 34,
   "id": "21e715a1-bf57-4fa1-bfcb-b2a633ed02b8",
   "metadata": {},
   "outputs": [
    {
     "data": {
      "text/plain": [
       "632         cc-by-4.0\n",
       "633         cc-by-4.0\n",
       "634         cc-by-4.0\n",
       "635         cc-by-4.0\n",
       "636         cc-by-4.0\n",
       "            ...      \n",
       "721    Custom license\n",
       "722        UNLICENSED\n",
       "723        UNLICENSED\n",
       "724         CC-BY-3.0\n",
       "725               CC0\n",
       "Name: license, Length: 85, dtype: object"
      ]
     },
     "execution_count": 34,
     "metadata": {},
     "output_type": "execute_result"
    }
   ],
   "source": [
    "filtered_df[\"license\"]"
   ]
  },
  {
   "cell_type": "code",
   "execution_count": 40,
   "id": "8e1feeb4-30b2-4beb-acdb-1e5760ee9d3c",
   "metadata": {},
   "outputs": [
    {
     "data": {
      "text/plain": [
       "Counter({'cc-by': 58,\n",
       "         'cc0': 15,\n",
       "         'cc-by-nc-sa-4.0': 3,\n",
       "         nan: 2,\n",
       "         'cc-by-nc-sa-3.0': 2,\n",
       "         'unlicensed': 2,\n",
       "         'cc-by-nc-nd-4.0': 1,\n",
       "         'mit license': 1,\n",
       "         'custom license': 1})"
      ]
     },
     "execution_count": 40,
     "metadata": {},
     "output_type": "execute_result"
    }
   ],
   "source": [
    "from collections import Counter\n",
    "\n",
    "def normalize_license(license):\n",
    "    if not isinstance(license, str):\n",
    "        return license\n",
    "    license_lower = license.lower()\n",
    "    if license_lower in ['cc-by-4.0', 'cc-by-3.0']:\n",
    "        return 'cc-by'\n",
    "    elif license_lower in ['cc0-1.0', 'cc-zero', 'cc0']:\n",
    "        return 'cc0'\n",
    "    return license_lower\n",
    "\n",
    "license_counts_output = Counter(\n",
    "    normalize_license(license) for license in filtered_df[\"license\"]\n",
    ")\n",
    "license_counts_output"
   ]
  },
  {
   "cell_type": "code",
   "execution_count": 50,
   "id": "bb577aa4-734f-4154-afc9-5c5106055c8c",
   "metadata": {},
   "outputs": [
    {
     "data": {
      "text/markdown": [
       "I will find the minimum and maximum values of the `publication_date` column in `filtered_df`.\n",
       "\n"
      ],
      "text/plain": [
       "<IPython.core.display.Markdown object>"
      ]
     },
     "metadata": {},
     "output_type": "display_data"
    }
   ],
   "source": [
    "%%bob\n",
    "find the minimum and maximum publication_date in filtered_df"
   ]
  },
  {
   "cell_type": "code",
   "execution_count": 51,
   "id": "891422de-ddab-42e3-93fb-41da7933bbe3",
   "metadata": {},
   "outputs": [
    {
     "name": "stdout",
     "output_type": "stream",
     "text": [
      "Minimum publication_date: 2009-06-01 00:00:00\n",
      "Maximum publication_date: 2025-03-19 00:00:00\n"
     ]
    }
   ],
   "source": [
    "min_publication_date = pd.to_datetime(filtered_df['publication_date']).min()\n",
    "max_publication_date = pd.to_datetime(filtered_df['publication_date']).max()\n",
    "print(f\"Minimum publication_date: {min_publication_date}\")\n",
    "print(f\"Maximum publication_date: {max_publication_date}\")"
   ]
  },
  {
   "cell_type": "code",
   "execution_count": 52,
   "id": "94f45802-4a42-4ad8-9bf7-0282c846097f",
   "metadata": {},
   "outputs": [
    {
     "data": {
      "text/markdown": [
       "I will group the `publication_date` values in `filtered_df` into three date ranges: \"pre 2015\", \"2015-2020\", and \"2020-2025\" (excluding the ending years), and then count the number of records in each group.\n",
       "\n"
      ],
      "text/plain": [
       "<IPython.core.display.Markdown object>"
      ]
     },
     "metadata": {},
     "output_type": "display_data"
    }
   ],
   "source": [
    "%%bob group the publication_dates in filtered_df in \"pre 2015\", \"2015-2020\" and \"2020-2025\" exlcuding the ending year each.\n",
    "then count in these groups"
   ]
  },
  {
   "cell_type": "code",
   "execution_count": 53,
   "id": "1f837bcc-52e3-485a-b074-20e25ba68abe",
   "metadata": {},
   "outputs": [
    {
     "name": "stdout",
     "output_type": "stream",
     "text": [
      "publication_date\n",
      "2020-2025    65\n",
      "pre 2015     10\n",
      "2015-2020     9\n",
      "other         1\n",
      "Name: count, dtype: int64\n"
     ]
    }
   ],
   "source": [
    "# Import only necessary function\n",
    "from datetime import datetime\n",
    "\n",
    "# Ensure 'publication_date' is in datetime format without overwriting 'dates'\n",
    "publication_dates = pd.to_datetime(filtered_df['publication_date'])\n",
    "\n",
    "# Define a function for grouping by year ranges\n",
    "def group_year(date):\n",
    "    if date.year < 2015:\n",
    "        return \"pre 2015\"\n",
    "    elif 2015 <= date.year < 2020:\n",
    "        return \"2015-2020\"\n",
    "    elif 2020 <= date.year < 2025:\n",
    "        return \"2020-2025\"\n",
    "    else:\n",
    "        return \"other\"\n",
    "\n",
    "year_groups = publication_dates.apply(group_year)\n",
    "year_group_counts = year_groups.value_counts()\n",
    "print(year_group_counts)"
   ]
  },
  {
   "cell_type": "code",
   "execution_count": 56,
   "id": "70699510-6132-4a1f-b701-1e70b964332e",
   "metadata": {},
   "outputs": [],
   "source": [
    "filtered_df[[\"authors\", \"url\", \"license\"]].to_csv(\"filtered_authors_url_license.csv\", index=False)"
   ]
  },
  {
   "cell_type": "markdown",
   "id": "66f8d909-c21f-4a6f-8970-0e1deba1453b",
   "metadata": {},
   "source": []
  },
  {
   "cell_type": "code",
   "execution_count": null,
   "id": "93b58e43-dbb0-470f-a01b-b691d671929b",
   "metadata": {},
   "outputs": [],
   "source": []
  }
 ],
 "metadata": {
  "kernelspec": {
   "display_name": "Python 3 (ipykernel)",
   "language": "python",
   "name": "python3"
  },
  "language_info": {
   "codemirror_mode": {
    "name": "ipython",
    "version": 3
   },
   "file_extension": ".py",
   "mimetype": "text/x-python",
   "name": "python",
   "nbconvert_exporter": "python",
   "pygments_lexer": "ipython3",
   "version": "3.11.11"
  }
 },
 "nbformat": 4,
 "nbformat_minor": 5
}
