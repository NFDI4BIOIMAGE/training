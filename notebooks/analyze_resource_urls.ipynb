{
 "cells": [
  {
   "cell_type": "markdown",
   "id": "87dc62b6",
   "metadata": {},
   "source": [
    "# Analyze Resource URLs\n",
    "\n",
    "This notebook loads a YAML file containing resources, identifies resources with multiple URLs, and prints the count."
   ]
  },
  {
   "cell_type": "code",
   "execution_count": 1,
   "id": "c755c0b5",
   "metadata": {
    "execution": {
     "iopub.execute_input": "2024-10-21T19:01:00.592533Z",
     "iopub.status.busy": "2024-10-21T19:01:00.592043Z",
     "iopub.status.idle": "2024-10-21T19:01:00.617396Z",
     "shell.execute_reply": "2024-10-21T19:01:00.616799Z"
    }
   },
   "outputs": [],
   "source": [
    "# Import necessary packages\n",
    "import yaml"
   ]
  },
  {
   "cell_type": "markdown",
   "id": "ee4e16c7",
   "metadata": {},
   "source": [
    "## Load YML File\n",
    "\n",
    "Load the resources from the `resources/nfdi4bioimage.yml` file."
   ]
  },
  {
   "cell_type": "code",
   "execution_count": 2,
   "id": "99dd4349",
   "metadata": {
    "execution": {
     "iopub.execute_input": "2024-10-21T19:01:00.619950Z",
     "iopub.status.busy": "2024-10-21T19:01:00.619423Z",
     "iopub.status.idle": "2024-10-21T19:01:00.893913Z",
     "shell.execute_reply": "2024-10-21T19:01:00.893315Z"
    }
   },
   "outputs": [],
   "source": [
    "with open('../resources/nfdi4bioimage.yml', 'r') as file:\n",
    "    data = yaml.safe_load(file)"
   ]
  },
  {
   "cell_type": "markdown",
   "id": "ae65948e",
   "metadata": {},
   "source": [
    "## Inspect Data\n",
    "\n",
    "Print the first few entries to understand the structure."
   ]
  },
  {
   "cell_type": "code",
   "execution_count": 3,
   "id": "405c5f7e",
   "metadata": {
    "execution": {
     "iopub.execute_input": "2024-10-21T19:01:00.896257Z",
     "iopub.status.busy": "2024-10-21T19:01:00.895888Z",
     "iopub.status.idle": "2024-10-21T19:01:00.902561Z",
     "shell.execute_reply": "2024-10-21T19:01:00.901999Z"
    }
   },
   "outputs": [
    {
     "data": {
      "text/plain": [
       "[{'authors': ['Elisabeth Kugler'],\n",
       "  'name': 'Sharing Your Poster on Figshare: A Community Guide to How-To and Why',\n",
       "  'tags': ['Sharing', 'Research Data Management'],\n",
       "  'type': ['Blog'],\n",
       "  'url': 'https://focalplane.biologists.com/2023/07/26/sharing-your-poster-on-figshare/'},\n",
       " {'authors': ['Marcelo Zoccoler'],\n",
       "  'license': 'CC-BY-4.0',\n",
       "  'name': 'Running Deep-Learning Scripts in the BiA-PoL Omero Server',\n",
       "  'tags': ['Python', 'Artificial Intelligence', 'Bioimage Analysis'],\n",
       "  'type': ['Blog'],\n",
       "  'url': 'https://biapol.github.io/blog/marcelo_zoccoler/omero_scripts/readme.html'},\n",
       " {'authors': ['Robert Haase'],\n",
       "  'license': 'CC-BY-4.0',\n",
       "  'name': 'Browsing the Open Microscopy Image Data Resource with Python',\n",
       "  'tags': ['Omero', 'Python'],\n",
       "  'type': ['Blog'],\n",
       "  'url': 'https://biapol.github.io/blog/robert_haase/browsing_idr/readme.html'}]"
      ]
     },
     "execution_count": 3,
     "metadata": {},
     "output_type": "execute_result"
    }
   ],
   "source": [
    "data['resources'][:3]  # Display first three resources for inspection"
   ]
  },
  {
   "cell_type": "markdown",
   "id": "8b7a9882",
   "metadata": {},
   "source": [
    "## Identify Resources with Multiple URLs\n",
    "\n",
    "Loop through the resource list and identify those with more than one URL."
   ]
  },
  {
   "cell_type": "code",
   "execution_count": 4,
   "id": "fe26d225",
   "metadata": {
    "execution": {
     "iopub.execute_input": "2024-10-21T19:01:00.904619Z",
     "iopub.status.busy": "2024-10-21T19:01:00.904293Z",
     "iopub.status.idle": "2024-10-21T19:01:00.907437Z",
     "shell.execute_reply": "2024-10-21T19:01:00.906977Z"
    }
   },
   "outputs": [],
   "source": [
    "multiple_urls_count = 0\n",
    "for resource in data['resources']:\n",
    "    if isinstance(resource['url'], list) and len(resource['url']) > 1:\n",
    "        multiple_urls_count += 1"
   ]
  },
  {
   "cell_type": "markdown",
   "id": "f127fb8a",
   "metadata": {},
   "source": [
    "## Print the Count of Resources with Multiple URLs\n"
   ]
  },
  {
   "cell_type": "code",
   "execution_count": 5,
   "id": "fc4eb490",
   "metadata": {
    "execution": {
     "iopub.execute_input": "2024-10-21T19:01:00.909292Z",
     "iopub.status.busy": "2024-10-21T19:01:00.908932Z",
     "iopub.status.idle": "2024-10-21T19:01:00.912149Z",
     "shell.execute_reply": "2024-10-21T19:01:00.911652Z"
    }
   },
   "outputs": [
    {
     "name": "stdout",
     "output_type": "stream",
     "text": [
      "Number of resources with multiple URLs: 68\n"
     ]
    }
   ],
   "source": [
    "print('Number of resources with multiple URLs:', multiple_urls_count)"
   ]
  }
 ],
 "metadata": {
  "language_info": {
   "codemirror_mode": {
    "name": "ipython",
    "version": 3
   },
   "file_extension": ".py",
   "mimetype": "text/x-python",
   "name": "python",
   "nbconvert_exporter": "python",
   "pygments_lexer": "ipython3",
   "version": "3.12.7"
  }
 },
 "nbformat": 4,
 "nbformat_minor": 5
}
