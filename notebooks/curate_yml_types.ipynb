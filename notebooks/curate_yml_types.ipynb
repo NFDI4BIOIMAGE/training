{
 "cells": [
  {
   "cell_type": "markdown",
   "metadata": {},
   "source": [
    "# Curate .yml file types\n",
    "\n",
    "This notebook automatically identifies entries in `nfdi4bioimage.yml` that are missing a `type` tag and checks if they contain presentation slides. It focuses on Zenodo entries, inspecting them for PowerPoint files or landscape-oriented PDFs. Entries identified as slides will be updated with `type: Slides`."
   ]
  },
  {
   "cell_type": "markdown",
   "metadata": {},
   "source": [
    "### Setup\n",
    "\n",
    "First, we import the required libraries. We will use `ruamel.yaml` to load and save the YAML file while preserving its formatting and comments. `requests` is needed for API calls to Zenodo, and `pypdf` for inspecting PDF files."
   ]
  },
  {
   "cell_type": "code",
   "execution_count": 1,
   "metadata": {
    "execution": {
     "iopub.execute_input": "2025-08-04T17:48:28.926312Z",
     "iopub.status.busy": "2025-08-04T17:48:28.926134Z",
     "iopub.status.idle": "2025-08-04T17:48:31.692956Z",
     "shell.execute_reply": "2025-08-04T17:48:31.692349Z"
    }
   },
   "outputs": [
    {
     "name": "stdout",
     "output_type": "stream",
     "text": [
      "Collecting ruamel.yaml\r\n"
     ]
    },
    {
     "name": "stdout",
     "output_type": "stream",
     "text": [
      "  Downloading ruamel.yaml-0.18.14-py3-none-any.whl.metadata (24 kB)\r\n"
     ]
    },
    {
     "name": "stdout",
     "output_type": "stream",
     "text": [
      "Collecting ruamel.yaml.clib>=0.2.7 (from ruamel.yaml)\r\n",
      "  Downloading ruamel.yaml.clib-0.2.12-cp313-cp313-manylinux_2_17_x86_64.manylinux2014_x86_64.whl.metadata (2.7 kB)\r\n",
      "Downloading ruamel.yaml-0.18.14-py3-none-any.whl (118 kB)\r\n"
     ]
    },
    {
     "name": "stdout",
     "output_type": "stream",
     "text": [
      "Downloading ruamel.yaml.clib-0.2.12-cp313-cp313-manylinux_2_17_x86_64.manylinux2014_x86_64.whl (745 kB)\r\n",
      "\u001b[?25l   \u001b[90m━━━━━━━━━━━━━━━━━━━━━━━━━━━━━━━━━━━━━━━━\u001b[0m \u001b[32m0.0/745.1 kB\u001b[0m \u001b[31m?\u001b[0m eta \u001b[36m-:--:--\u001b[0m\r",
      "\u001b[2K   \u001b[90m━━━━━━━━━━━━━━━━━━━━━━━━━━━━━━━━━━━━━━━━\u001b[0m \u001b[32m745.1/745.1 kB\u001b[0m \u001b[31m61.0 MB/s\u001b[0m  \u001b[33m0:00:00\u001b[0m\r\n",
      "\u001b[?25h"
     ]
    },
    {
     "name": "stdout",
     "output_type": "stream",
     "text": [
      "Installing collected packages: ruamel.yaml.clib, ruamel.yaml\r\n",
      "\u001b[?25l"
     ]
    },
    {
     "name": "stdout",
     "output_type": "stream",
     "text": [
      "\r",
      "\u001b[2K   \u001b[90m━━━━━━━━━━━━━━━━━━━━━━━━━━━━━━━━━━━━━━━━\u001b[0m \u001b[32m2/2\u001b[0m [ruamel.yaml]\r\n",
      "\u001b[?25h\r",
      "\u001b[1A\u001b[2KSuccessfully installed ruamel.yaml-0.18.14 ruamel.yaml.clib-0.2.12\r\n"
     ]
    },
    {
     "name": "stdout",
     "output_type": "stream",
     "text": [
      "Collecting pypdf\r\n"
     ]
    },
    {
     "name": "stdout",
     "output_type": "stream",
     "text": [
      "  Downloading pypdf-5.9.0-py3-none-any.whl.metadata (7.1 kB)\r\n"
     ]
    },
    {
     "name": "stdout",
     "output_type": "stream",
     "text": [
      "Downloading pypdf-5.9.0-py3-none-any.whl (313 kB)\r\n"
     ]
    },
    {
     "name": "stdout",
     "output_type": "stream",
     "text": [
      "Installing collected packages: pypdf\r\n"
     ]
    },
    {
     "name": "stdout",
     "output_type": "stream",
     "text": [
      "Successfully installed pypdf-5.9.0\r\n"
     ]
    }
   ],
   "source": [
    "try:\n",
    "    from ruamel.yaml import YAML\n",
    "except ImportError:\n",
    "    !pip install ruamel.yaml\n",
    "    from ruamel.yaml import YAML\n",
    "\n",
    "try:\n",
    "    import pypdf\n",
    "except ImportError:\n",
    "    !pip install pypdf\n",
    "    import pypdf\n",
    "\n",
    "import re\n",
    "import requests\n",
    "import io\n",
    "from pypdf import PdfReader"
   ]
  },
  {
   "cell_type": "markdown",
   "metadata": {},
   "source": [
    "### Load Data\n",
    "\n",
    "We load the `nfdi4bioimage.yml` file from the `resources` directory."
   ]
  },
  {
   "cell_type": "code",
   "execution_count": 2,
   "metadata": {
    "execution": {
     "iopub.execute_input": "2025-08-04T17:48:31.695193Z",
     "iopub.status.busy": "2025-08-04T17:48:31.694883Z",
     "iopub.status.idle": "2025-08-04T17:48:33.540666Z",
     "shell.execute_reply": "2025-08-04T17:48:33.539707Z"
    }
   },
   "outputs": [
    {
     "ename": "DuplicateKeyError",
     "evalue": "while constructing a mapping\n  in \"../resources/nfdi4bioimage.yml\", line 10607, column 3\nfound duplicate key \"description\" with value \"Raw microscopy image from the NFDI4Bioimage calendar March 2025.\nThe image shows 125x magnified microscopic details of a biofilm formed by Pseudomonas fluorescence on the surface of a liquid culture medium. The culture was inoculated with a cellulose-overexpressing and surface-colonizing mScarlet-tagged wild type and a GFP-tagged mutant that is unable to colonize the surface. The biofilm can collapse over time due to its own mass, so that new strategies have to be developed and thus a life cycle emerges.\nImage Metadata (using REMBI template):\n\n\n\nStudy\n&nbsp;\n\n\nStudy description\nBiofilm formation\n\n\nStudy Component\n&nbsp;\n\n\nImaging method\nStereo microscopy\n\n\nBiosample\n&nbsp;\n\n\nBiological entity\nBacteria\n\n\nOrganism\nPseudomonas fluorescence\n\n\nSpecimen\n&nbsp;\n\n\nSignal/contrast mechanism\nRelief, fluorescence\n\n\nChannel 1 - content\nRelief, grey\n\n\nChannel 1 - biological entity\nDetails of the biofilm in transmitted light\n\n\nChannel 2 - content\nmScarlet, red\n\n\nChannel 2 - biological entity\nWT over-expressing cellulose and colonizing the surface\n\n\nChannel 3 - content\nGFP, green\n\n\nChannel 3 - biological entity\n∆wss mutant unable to colonize the surface\n\n\nImage Acquisition\n&nbsp;\n\n\nMicroscope model\nZeiss Axio Zoom V16\n\n\nImage Data\n&nbsp;\n\n\nMagnification\n125x\n\n\nObjective\nPlanNeoFluar Z 1.0x\n\n\nDimension extents\nx: 2752, y: 2208\n\n\nPixel size description\n0.91 &micro;m x 0.91 &micro;m\n\n\nImage area\n2500&micro;m x 2500&micro;m\n\n\n\n&nbsp;\" (original value: \"Today, research data is often stored in many different places, difficult to find and only available for a limited time. Base4NFDI creates the basis for better findability, accessibility, interoperability ans reusability of research data. For this purpose, common, technical services are developed together with experts for the data in the different research disciplines. Since many scientific fields have similar requirements for research data, Base4NFDI supports common solutions to avoid parallel developments. Already existing services are thereby adapted or extended to be usable for researchers from other disciplines.\nThis slides were presented from Sonja Schimmler at the first Conference on Research Data Infrastructure (CoRDI 2023) on September 14, 2023 in Karlsruhe, Germany. The presentation will give an insight into the idea and structure of Base4NFDI, the processes for developing basic services and the services currently funded.\")\n  in \"../resources/nfdi4bioimage.yml\", line 10644, column 3\n\nTo suppress this check see:\n    https://yaml.dev/doc/ruamel.yaml/api/#Duplicate_keys\n",
     "output_type": "error",
     "traceback": [
      "\u001b[31m---------------------------------------------------------------------------\u001b[39m",
      "\u001b[31mDuplicateKeyError\u001b[39m                         Traceback (most recent call last)",
      "\u001b[36mCell\u001b[39m\u001b[36m \u001b[39m\u001b[32mIn[2]\u001b[39m\u001b[32m, line 7\u001b[39m\n\u001b[32m      4\u001b[39m yaml_loader.indent(mapping=\u001b[32m2\u001b[39m, sequence=\u001b[32m4\u001b[39m, offset=\u001b[32m2\u001b[39m)\n\u001b[32m      6\u001b[39m \u001b[38;5;28;01mwith\u001b[39;00m \u001b[38;5;28mopen\u001b[39m(yml_path, \u001b[33m'\u001b[39m\u001b[33mr\u001b[39m\u001b[33m'\u001b[39m, encoding=\u001b[33m'\u001b[39m\u001b[33mutf-8\u001b[39m\u001b[33m'\u001b[39m) \u001b[38;5;28;01mas\u001b[39;00m f:\n\u001b[32m----> \u001b[39m\u001b[32m7\u001b[39m     data = \u001b[43myaml_loader\u001b[49m\u001b[43m.\u001b[49m\u001b[43mload\u001b[49m\u001b[43m(\u001b[49m\u001b[43mf\u001b[49m\u001b[43m)\u001b[49m\n",
      "\u001b[36mFile \u001b[39m\u001b[32m/opt/hostedtoolcache/Python/3.13.5/x64/lib/python3.13/site-packages/ruamel/yaml/main.py:453\u001b[39m, in \u001b[36mYAML.load\u001b[39m\u001b[34m(self, stream)\u001b[39m\n\u001b[32m    451\u001b[39m constructor, parser = \u001b[38;5;28mself\u001b[39m.get_constructor_parser(stream)\n\u001b[32m    452\u001b[39m \u001b[38;5;28;01mtry\u001b[39;00m:\n\u001b[32m--> \u001b[39m\u001b[32m453\u001b[39m     \u001b[38;5;28;01mreturn\u001b[39;00m \u001b[43mconstructor\u001b[49m\u001b[43m.\u001b[49m\u001b[43mget_single_data\u001b[49m\u001b[43m(\u001b[49m\u001b[43m)\u001b[49m\n\u001b[32m    454\u001b[39m \u001b[38;5;28;01mfinally\u001b[39;00m:\n\u001b[32m    455\u001b[39m     parser.dispose()\n",
      "\u001b[36mFile \u001b[39m\u001b[32m/opt/hostedtoolcache/Python/3.13.5/x64/lib/python3.13/site-packages/ruamel/yaml/constructor.py:119\u001b[39m, in \u001b[36mBaseConstructor.get_single_data\u001b[39m\u001b[34m(self)\u001b[39m\n\u001b[32m    117\u001b[39m node = \u001b[38;5;28mself\u001b[39m.composer.get_single_node()\n\u001b[32m    118\u001b[39m \u001b[38;5;28;01mif\u001b[39;00m node \u001b[38;5;129;01mis\u001b[39;00m \u001b[38;5;129;01mnot\u001b[39;00m \u001b[38;5;28;01mNone\u001b[39;00m:\n\u001b[32m--> \u001b[39m\u001b[32m119\u001b[39m     \u001b[38;5;28;01mreturn\u001b[39;00m \u001b[38;5;28;43mself\u001b[39;49m\u001b[43m.\u001b[49m\u001b[43mconstruct_document\u001b[49m\u001b[43m(\u001b[49m\u001b[43mnode\u001b[49m\u001b[43m)\u001b[49m\n\u001b[32m    120\u001b[39m \u001b[38;5;28;01mreturn\u001b[39;00m \u001b[38;5;28;01mNone\u001b[39;00m\n",
      "\u001b[36mFile \u001b[39m\u001b[32m/opt/hostedtoolcache/Python/3.13.5/x64/lib/python3.13/site-packages/ruamel/yaml/constructor.py:128\u001b[39m, in \u001b[36mBaseConstructor.construct_document\u001b[39m\u001b[34m(self, node)\u001b[39m\n\u001b[32m    126\u001b[39m     \u001b[38;5;28mself\u001b[39m.state_generators = []\n\u001b[32m    127\u001b[39m     \u001b[38;5;28;01mfor\u001b[39;00m generator \u001b[38;5;129;01min\u001b[39;00m state_generators:\n\u001b[32m--> \u001b[39m\u001b[32m128\u001b[39m \u001b[43m        \u001b[49m\u001b[38;5;28;43;01mfor\u001b[39;49;00m\u001b[43m \u001b[49m\u001b[43m_dummy\u001b[49m\u001b[43m \u001b[49m\u001b[38;5;129;43;01min\u001b[39;49;00m\u001b[43m \u001b[49m\u001b[43mgenerator\u001b[49m\u001b[43m:\u001b[49m\n\u001b[32m    129\u001b[39m \u001b[43m            \u001b[49m\u001b[38;5;28;43;01mpass\u001b[39;49;00m\n\u001b[32m    130\u001b[39m \u001b[38;5;28mself\u001b[39m.constructed_objects = {}\n",
      "\u001b[36mFile \u001b[39m\u001b[32m/opt/hostedtoolcache/Python/3.13.5/x64/lib/python3.13/site-packages/ruamel/yaml/constructor.py:1486\u001b[39m, in \u001b[36mRoundTripConstructor.construct_yaml_map\u001b[39m\u001b[34m(self, node)\u001b[39m\n\u001b[32m   1484\u001b[39m data._yaml_set_line_col(node.start_mark.line, node.start_mark.column)\n\u001b[32m   1485\u001b[39m \u001b[38;5;28;01myield\u001b[39;00m data\n\u001b[32m-> \u001b[39m\u001b[32m1486\u001b[39m \u001b[38;5;28;43mself\u001b[39;49m\u001b[43m.\u001b[49m\u001b[43mconstruct_mapping\u001b[49m\u001b[43m(\u001b[49m\u001b[43mnode\u001b[49m\u001b[43m,\u001b[49m\u001b[43m \u001b[49m\u001b[43mdata\u001b[49m\u001b[43m,\u001b[49m\u001b[43m \u001b[49m\u001b[43mdeep\u001b[49m\u001b[43m=\u001b[49m\u001b[38;5;28;43;01mTrue\u001b[39;49;00m\u001b[43m)\u001b[49m\n\u001b[32m   1487\u001b[39m \u001b[38;5;28mself\u001b[39m.set_collection_style(data, node)\n",
      "\u001b[36mFile \u001b[39m\u001b[32m/opt/hostedtoolcache/Python/3.13.5/x64/lib/python3.13/site-packages/ruamel/yaml/constructor.py:1375\u001b[39m, in \u001b[36mRoundTripConstructor.construct_mapping\u001b[39m\u001b[34m(self, node, maptyp, deep)\u001b[39m\n\u001b[32m   1368\u001b[39m \u001b[38;5;28;01mif\u001b[39;00m \u001b[38;5;129;01mnot\u001b[39;00m \u001b[38;5;28misinstance\u001b[39m(key, Hashable):\n\u001b[32m   1369\u001b[39m     \u001b[38;5;28;01mraise\u001b[39;00m ConstructorError(\n\u001b[32m   1370\u001b[39m         \u001b[33m'\u001b[39m\u001b[33mwhile constructing a mapping\u001b[39m\u001b[33m'\u001b[39m,\n\u001b[32m   1371\u001b[39m         node.start_mark,\n\u001b[32m   1372\u001b[39m         \u001b[33m'\u001b[39m\u001b[33mfound unhashable key\u001b[39m\u001b[33m'\u001b[39m,\n\u001b[32m   1373\u001b[39m         key_node.start_mark,\n\u001b[32m   1374\u001b[39m     )\n\u001b[32m-> \u001b[39m\u001b[32m1375\u001b[39m value = \u001b[38;5;28;43mself\u001b[39;49m\u001b[43m.\u001b[49m\u001b[43mconstruct_object\u001b[49m\u001b[43m(\u001b[49m\u001b[43mvalue_node\u001b[49m\u001b[43m,\u001b[49m\u001b[43m \u001b[49m\u001b[43mdeep\u001b[49m\u001b[43m=\u001b[49m\u001b[43mdeep\u001b[49m\u001b[43m)\u001b[49m\n\u001b[32m   1376\u001b[39m \u001b[38;5;28;01mif\u001b[39;00m \u001b[38;5;28mself\u001b[39m.check_mapping_key(node, key_node, maptyp, key, value):\n\u001b[32m   1377\u001b[39m     \u001b[38;5;28;01mif\u001b[39;00m \u001b[38;5;28mself\u001b[39m.loader \u001b[38;5;129;01mand\u001b[39;00m \u001b[38;5;28mself\u001b[39m.loader.comment_handling \u001b[38;5;129;01mis\u001b[39;00m \u001b[38;5;28;01mNone\u001b[39;00m:\n",
      "\u001b[36mFile \u001b[39m\u001b[32m/opt/hostedtoolcache/Python/3.13.5/x64/lib/python3.13/site-packages/ruamel/yaml/constructor.py:150\u001b[39m, in \u001b[36mBaseConstructor.construct_object\u001b[39m\u001b[34m(self, node, deep)\u001b[39m\n\u001b[32m    146\u001b[39m     \u001b[38;5;66;03m# raise ConstructorError(\u001b[39;00m\n\u001b[32m    147\u001b[39m     \u001b[38;5;66;03m#     None, None, 'found unconstructable recursive node', node.start_mark\u001b[39;00m\n\u001b[32m    148\u001b[39m     \u001b[38;5;66;03m# )\u001b[39;00m\n\u001b[32m    149\u001b[39m \u001b[38;5;28mself\u001b[39m.recursive_objects[node] = \u001b[38;5;28;01mNone\u001b[39;00m\n\u001b[32m--> \u001b[39m\u001b[32m150\u001b[39m data = \u001b[38;5;28;43mself\u001b[39;49m\u001b[43m.\u001b[49m\u001b[43mconstruct_non_recursive_object\u001b[49m\u001b[43m(\u001b[49m\u001b[43mnode\u001b[49m\u001b[43m)\u001b[49m\n\u001b[32m    152\u001b[39m \u001b[38;5;28mself\u001b[39m.constructed_objects[node] = data\n\u001b[32m    153\u001b[39m \u001b[38;5;28;01mdel\u001b[39;00m \u001b[38;5;28mself\u001b[39m.recursive_objects[node]\n",
      "\u001b[36mFile \u001b[39m\u001b[32m/opt/hostedtoolcache/Python/3.13.5/x64/lib/python3.13/site-packages/ruamel/yaml/constructor.py:191\u001b[39m, in \u001b[36mBaseConstructor.construct_non_recursive_object\u001b[39m\u001b[34m(self, node, tag)\u001b[39m\n\u001b[32m    189\u001b[39m data = \u001b[38;5;28mnext\u001b[39m(generator)\n\u001b[32m    190\u001b[39m \u001b[38;5;28;01mif\u001b[39;00m \u001b[38;5;28mself\u001b[39m.deep_construct:\n\u001b[32m--> \u001b[39m\u001b[32m191\u001b[39m \u001b[43m    \u001b[49m\u001b[38;5;28;43;01mfor\u001b[39;49;00m\u001b[43m \u001b[49m\u001b[43m_dummy\u001b[49m\u001b[43m \u001b[49m\u001b[38;5;129;43;01min\u001b[39;49;00m\u001b[43m \u001b[49m\u001b[43mgenerator\u001b[49m\u001b[43m:\u001b[49m\n\u001b[32m    192\u001b[39m \u001b[43m        \u001b[49m\u001b[38;5;28;43;01mpass\u001b[39;49;00m\n\u001b[32m    193\u001b[39m \u001b[38;5;28;01melse\u001b[39;00m:\n",
      "\u001b[36mFile \u001b[39m\u001b[32m/opt/hostedtoolcache/Python/3.13.5/x64/lib/python3.13/site-packages/ruamel/yaml/constructor.py:1479\u001b[39m, in \u001b[36mRoundTripConstructor.construct_yaml_seq\u001b[39m\u001b[34m(self, node)\u001b[39m\n\u001b[32m   1476\u001b[39m \u001b[38;5;66;03m# if node.comment:\u001b[39;00m\n\u001b[32m   1477\u001b[39m \u001b[38;5;66;03m#    data._yaml_add_comment(node.comment)\u001b[39;00m\n\u001b[32m   1478\u001b[39m \u001b[38;5;28;01myield\u001b[39;00m data\n\u001b[32m-> \u001b[39m\u001b[32m1479\u001b[39m data.extend(\u001b[38;5;28;43mself\u001b[39;49m\u001b[43m.\u001b[49m\u001b[43mconstruct_rt_sequence\u001b[49m\u001b[43m(\u001b[49m\u001b[43mnode\u001b[49m\u001b[43m,\u001b[49m\u001b[43m \u001b[49m\u001b[43mdata\u001b[49m\u001b[43m)\u001b[49m)\n\u001b[32m   1480\u001b[39m \u001b[38;5;28mself\u001b[39m.set_collection_style(data, node)\n",
      "\u001b[36mFile \u001b[39m\u001b[32m/opt/hostedtoolcache/Python/3.13.5/x64/lib/python3.13/site-packages/ruamel/yaml/constructor.py:1227\u001b[39m, in \u001b[36mRoundTripConstructor.construct_rt_sequence\u001b[39m\u001b[34m(self, node, seqtyp, deep)\u001b[39m\n\u001b[32m   1225\u001b[39m         seqtyp._yaml_add_comment(child.comment, key=idx)\n\u001b[32m   1226\u001b[39m         child.comment = \u001b[38;5;28;01mNone\u001b[39;00m  \u001b[38;5;66;03m# if moved to sequence remove from child\u001b[39;00m\n\u001b[32m-> \u001b[39m\u001b[32m1227\u001b[39m     ret_val.append(\u001b[38;5;28;43mself\u001b[39;49m\u001b[43m.\u001b[49m\u001b[43mconstruct_object\u001b[49m\u001b[43m(\u001b[49m\u001b[43mchild\u001b[49m\u001b[43m,\u001b[49m\u001b[43m \u001b[49m\u001b[43mdeep\u001b[49m\u001b[43m=\u001b[49m\u001b[43mdeep\u001b[49m\u001b[43m)\u001b[49m)\n\u001b[32m   1228\u001b[39m     seqtyp._yaml_set_idx_line_col(\n\u001b[32m   1229\u001b[39m         idx, [child.start_mark.line, child.start_mark.column],\n\u001b[32m   1230\u001b[39m     )\n\u001b[32m   1231\u001b[39m \u001b[38;5;28;01mreturn\u001b[39;00m ret_val\n",
      "\u001b[36mFile \u001b[39m\u001b[32m/opt/hostedtoolcache/Python/3.13.5/x64/lib/python3.13/site-packages/ruamel/yaml/constructor.py:150\u001b[39m, in \u001b[36mBaseConstructor.construct_object\u001b[39m\u001b[34m(self, node, deep)\u001b[39m\n\u001b[32m    146\u001b[39m     \u001b[38;5;66;03m# raise ConstructorError(\u001b[39;00m\n\u001b[32m    147\u001b[39m     \u001b[38;5;66;03m#     None, None, 'found unconstructable recursive node', node.start_mark\u001b[39;00m\n\u001b[32m    148\u001b[39m     \u001b[38;5;66;03m# )\u001b[39;00m\n\u001b[32m    149\u001b[39m \u001b[38;5;28mself\u001b[39m.recursive_objects[node] = \u001b[38;5;28;01mNone\u001b[39;00m\n\u001b[32m--> \u001b[39m\u001b[32m150\u001b[39m data = \u001b[38;5;28;43mself\u001b[39;49m\u001b[43m.\u001b[49m\u001b[43mconstruct_non_recursive_object\u001b[49m\u001b[43m(\u001b[49m\u001b[43mnode\u001b[49m\u001b[43m)\u001b[49m\n\u001b[32m    152\u001b[39m \u001b[38;5;28mself\u001b[39m.constructed_objects[node] = data\n\u001b[32m    153\u001b[39m \u001b[38;5;28;01mdel\u001b[39;00m \u001b[38;5;28mself\u001b[39m.recursive_objects[node]\n",
      "\u001b[36mFile \u001b[39m\u001b[32m/opt/hostedtoolcache/Python/3.13.5/x64/lib/python3.13/site-packages/ruamel/yaml/constructor.py:191\u001b[39m, in \u001b[36mBaseConstructor.construct_non_recursive_object\u001b[39m\u001b[34m(self, node, tag)\u001b[39m\n\u001b[32m    189\u001b[39m data = \u001b[38;5;28mnext\u001b[39m(generator)\n\u001b[32m    190\u001b[39m \u001b[38;5;28;01mif\u001b[39;00m \u001b[38;5;28mself\u001b[39m.deep_construct:\n\u001b[32m--> \u001b[39m\u001b[32m191\u001b[39m \u001b[43m    \u001b[49m\u001b[38;5;28;43;01mfor\u001b[39;49;00m\u001b[43m \u001b[49m\u001b[43m_dummy\u001b[49m\u001b[43m \u001b[49m\u001b[38;5;129;43;01min\u001b[39;49;00m\u001b[43m \u001b[49m\u001b[43mgenerator\u001b[49m\u001b[43m:\u001b[49m\n\u001b[32m    192\u001b[39m \u001b[43m        \u001b[49m\u001b[38;5;28;43;01mpass\u001b[39;49;00m\n\u001b[32m    193\u001b[39m \u001b[38;5;28;01melse\u001b[39;00m:\n",
      "\u001b[36mFile \u001b[39m\u001b[32m/opt/hostedtoolcache/Python/3.13.5/x64/lib/python3.13/site-packages/ruamel/yaml/constructor.py:1486\u001b[39m, in \u001b[36mRoundTripConstructor.construct_yaml_map\u001b[39m\u001b[34m(self, node)\u001b[39m\n\u001b[32m   1484\u001b[39m data._yaml_set_line_col(node.start_mark.line, node.start_mark.column)\n\u001b[32m   1485\u001b[39m \u001b[38;5;28;01myield\u001b[39;00m data\n\u001b[32m-> \u001b[39m\u001b[32m1486\u001b[39m \u001b[38;5;28;43mself\u001b[39;49m\u001b[43m.\u001b[49m\u001b[43mconstruct_mapping\u001b[49m\u001b[43m(\u001b[49m\u001b[43mnode\u001b[49m\u001b[43m,\u001b[49m\u001b[43m \u001b[49m\u001b[43mdata\u001b[49m\u001b[43m,\u001b[49m\u001b[43m \u001b[49m\u001b[43mdeep\u001b[49m\u001b[43m=\u001b[49m\u001b[38;5;28;43;01mTrue\u001b[39;49;00m\u001b[43m)\u001b[49m\n\u001b[32m   1487\u001b[39m \u001b[38;5;28mself\u001b[39m.set_collection_style(data, node)\n",
      "\u001b[36mFile \u001b[39m\u001b[32m/opt/hostedtoolcache/Python/3.13.5/x64/lib/python3.13/site-packages/ruamel/yaml/constructor.py:1376\u001b[39m, in \u001b[36mRoundTripConstructor.construct_mapping\u001b[39m\u001b[34m(self, node, maptyp, deep)\u001b[39m\n\u001b[32m   1369\u001b[39m     \u001b[38;5;28;01mraise\u001b[39;00m ConstructorError(\n\u001b[32m   1370\u001b[39m         \u001b[33m'\u001b[39m\u001b[33mwhile constructing a mapping\u001b[39m\u001b[33m'\u001b[39m,\n\u001b[32m   1371\u001b[39m         node.start_mark,\n\u001b[32m   1372\u001b[39m         \u001b[33m'\u001b[39m\u001b[33mfound unhashable key\u001b[39m\u001b[33m'\u001b[39m,\n\u001b[32m   1373\u001b[39m         key_node.start_mark,\n\u001b[32m   1374\u001b[39m     )\n\u001b[32m   1375\u001b[39m value = \u001b[38;5;28mself\u001b[39m.construct_object(value_node, deep=deep)\n\u001b[32m-> \u001b[39m\u001b[32m1376\u001b[39m \u001b[38;5;28;01mif\u001b[39;00m \u001b[38;5;28;43mself\u001b[39;49m\u001b[43m.\u001b[49m\u001b[43mcheck_mapping_key\u001b[49m\u001b[43m(\u001b[49m\u001b[43mnode\u001b[49m\u001b[43m,\u001b[49m\u001b[43m \u001b[49m\u001b[43mkey_node\u001b[49m\u001b[43m,\u001b[49m\u001b[43m \u001b[49m\u001b[43mmaptyp\u001b[49m\u001b[43m,\u001b[49m\u001b[43m \u001b[49m\u001b[43mkey\u001b[49m\u001b[43m,\u001b[49m\u001b[43m \u001b[49m\u001b[43mvalue\u001b[49m\u001b[43m)\u001b[49m:\n\u001b[32m   1377\u001b[39m     \u001b[38;5;28;01mif\u001b[39;00m \u001b[38;5;28mself\u001b[39m.loader \u001b[38;5;129;01mand\u001b[39;00m \u001b[38;5;28mself\u001b[39m.loader.comment_handling \u001b[38;5;129;01mis\u001b[39;00m \u001b[38;5;28;01mNone\u001b[39;00m:\n\u001b[32m   1378\u001b[39m         \u001b[38;5;28;01mif\u001b[39;00m key_node.comment \u001b[38;5;129;01mand\u001b[39;00m \u001b[38;5;28mlen\u001b[39m(key_node.comment) > \u001b[32m4\u001b[39m \u001b[38;5;129;01mand\u001b[39;00m key_node.comment[\u001b[32m4\u001b[39m]:\n",
      "\u001b[36mFile \u001b[39m\u001b[32m/opt/hostedtoolcache/Python/3.13.5/x64/lib/python3.13/site-packages/ruamel/yaml/constructor.py:281\u001b[39m, in \u001b[36mBaseConstructor.check_mapping_key\u001b[39m\u001b[34m(self, node, key_node, mapping, key, value)\u001b[39m\n\u001b[32m    279\u001b[39m             warnings.warn(DuplicateKeyFutureWarning(*args), stacklevel=\u001b[32m1\u001b[39m)\n\u001b[32m    280\u001b[39m         \u001b[38;5;28;01melse\u001b[39;00m:\n\u001b[32m--> \u001b[39m\u001b[32m281\u001b[39m             \u001b[38;5;28;01mraise\u001b[39;00m DuplicateKeyError(*args)\n\u001b[32m    282\u001b[39m     \u001b[38;5;28;01mreturn\u001b[39;00m \u001b[38;5;28;01mFalse\u001b[39;00m\n\u001b[32m    283\u001b[39m \u001b[38;5;28;01mreturn\u001b[39;00m \u001b[38;5;28;01mTrue\u001b[39;00m\n",
      "\u001b[31mDuplicateKeyError\u001b[39m: while constructing a mapping\n  in \"../resources/nfdi4bioimage.yml\", line 10607, column 3\nfound duplicate key \"description\" with value \"Raw microscopy image from the NFDI4Bioimage calendar March 2025.\nThe image shows 125x magnified microscopic details of a biofilm formed by Pseudomonas fluorescence on the surface of a liquid culture medium. The culture was inoculated with a cellulose-overexpressing and surface-colonizing mScarlet-tagged wild type and a GFP-tagged mutant that is unable to colonize the surface. The biofilm can collapse over time due to its own mass, so that new strategies have to be developed and thus a life cycle emerges.\nImage Metadata (using REMBI template):\n\n\n\nStudy\n&nbsp;\n\n\nStudy description\nBiofilm formation\n\n\nStudy Component\n&nbsp;\n\n\nImaging method\nStereo microscopy\n\n\nBiosample\n&nbsp;\n\n\nBiological entity\nBacteria\n\n\nOrganism\nPseudomonas fluorescence\n\n\nSpecimen\n&nbsp;\n\n\nSignal/contrast mechanism\nRelief, fluorescence\n\n\nChannel 1 - content\nRelief, grey\n\n\nChannel 1 - biological entity\nDetails of the biofilm in transmitted light\n\n\nChannel 2 - content\nmScarlet, red\n\n\nChannel 2 - biological entity\nWT over-expressing cellulose and colonizing the surface\n\n\nChannel 3 - content\nGFP, green\n\n\nChannel 3 - biological entity\n∆wss mutant unable to colonize the surface\n\n\nImage Acquisition\n&nbsp;\n\n\nMicroscope model\nZeiss Axio Zoom V16\n\n\nImage Data\n&nbsp;\n\n\nMagnification\n125x\n\n\nObjective\nPlanNeoFluar Z 1.0x\n\n\nDimension extents\nx: 2752, y: 2208\n\n\nPixel size description\n0.91 &micro;m x 0.91 &micro;m\n\n\nImage area\n2500&micro;m x 2500&micro;m\n\n\n\n&nbsp;\" (original value: \"Today, research data is often stored in many different places, difficult to find and only available for a limited time. Base4NFDI creates the basis for better findability, accessibility, interoperability ans reusability of research data. For this purpose, common, technical services are developed together with experts for the data in the different research disciplines. Since many scientific fields have similar requirements for research data, Base4NFDI supports common solutions to avoid parallel developments. Already existing services are thereby adapted or extended to be usable for researchers from other disciplines.\nThis slides were presented from Sonja Schimmler at the first Conference on Research Data Infrastructure (CoRDI 2023) on September 14, 2023 in Karlsruhe, Germany. The presentation will give an insight into the idea and structure of Base4NFDI, the processes for developing basic services and the services currently funded.\")\n  in \"../resources/nfdi4bioimage.yml\", line 10644, column 3\n\nTo suppress this check see:\n    https://yaml.dev/doc/ruamel.yaml/api/#Duplicate_keys\n"
     ]
    }
   ],
   "source": [
    "yml_path = '../resources/nfdi4bioimage.yml'\n",
    "yaml_loader = YAML()\n",
    "yaml_loader.preserve_quotes = True\n",
    "yaml_loader.indent(mapping=2, sequence=4, offset=2)\n",
    "\n",
    "with open(yml_path, 'r', encoding='utf-8') as f:\n",
    "    data = yaml_loader.load(f)"
   ]
  },
  {
   "cell_type": "markdown",
   "metadata": {},
   "source": [
    "### Identify Candidate Entries\n",
    "\n",
    "We find all entries that are missing a `type` (or have an empty `type`) and contain a link to Zenodo. These are the candidates we will inspect automatically."
   ]
  },
  {
   "cell_type": "code",
   "execution_count": null,
   "metadata": {},
   "outputs": [],
   "source": [
    "entries_to_check = []\n",
    "for entry in data['resources']:\n",
    "    if 'type' not in entry or not entry['type']:\n",
    "        urls = entry.get('url', [])\n",
    "        if not isinstance(urls, list):\n",
    "            urls = [urls]\n",
    "        \n",
    "        for url in urls:\n",
    "            if re.search(r'zenodo\\.org/(?:record|records)/', url):\n",
    "                entries_to_check.append(entry)\n",
    "                break\n",
    "\n",
    "print(f\"Found {len(entries_to_check)} Zenodo entries to check for slides.\")"
   ]
  },
  {
   "cell_type": "markdown",
   "metadata": {},
   "source": [
    "### Define Helper Functions\n",
    "\n",
    "These functions will help us interact with the Zenodo API to check for slide-related files."
   ]
  },
  {
   "cell_type": "code",
   "execution_count": null,
   "metadata": {},
   "outputs": [],
   "source": [
    "def get_record_id(url):\n",
    "    \"\"\"Extracts the Zenodo record ID from a URL.\"\"\"\n",
    "    match = re.search(r'zenodo\\.org/(?:record|records)/(\\d+)', url)\n",
    "    return match.group(1) if match else None\n",
    "\n",
    "def contains_powerpoint(record_id):\n",
    "    \"\"\"Checks a Zenodo record for .ppt or .pptx files via its API.\"\"\"\n",
    "    api_url = f'https://zenodo.org/api/records/{record_id}'\n",
    "    try:\n",
    "        response = requests.get(api_url)\n",
    "        response.raise_for_status()\n",
    "        record_data = response.json()\n",
    "        \n",
    "        for file_info in record_data.get('files', []):\n",
    "            if file_info['key'].lower().endswith(('.pptx', '.ppt')):\n",
    "                return True\n",
    "    except requests.RequestException as e:\n",
    "        print(f\"Could not fetch Zenodo record {record_id}: {e}\")\n",
    "    return False\n",
    "\n",
    "def contains_landscape_pdf(record_id):\n",
    "    \"\"\"Checks a Zenodo record for any landscape-oriented PDF files.\"\"\"\n",
    "    api_url = f'https://zenodo.org/api/records/{record_id}'\n",
    "    try:\n",
    "        response = requests.get(api_url)\n",
    "        response.raise_for_status()\n",
    "        record_data = response.json()\n",
    "\n",
    "        for file_info in record_data.get('files', []):\n",
    "            if file_info['key'].lower().endswith('.pdf'):\n",
    "                pdf_url = file_info['links']['self']\n",
    "                pdf_response = requests.get(pdf_url)\n",
    "                if pdf_response.ok:\n",
    "                    with io.BytesIO(pdf_response.content) as pdf_file:\n",
    "                        reader = PdfReader(pdf_file)\n",
    "                        if len(reader.pages) > 0:\n",
    "                            page = reader.pages[0]\n",
    "                            if page.mediabox.width > page.mediabox.height:\n",
    "                                return True\n",
    "    except Exception as e:\n",
    "        print(f\"Could not process PDFs for record {record_id}: {e}\")\n",
    "    return False"
   ]
  },
  {
   "cell_type": "markdown",
   "metadata": {},
   "source": [
    "### Process Entries and Update Type\n",
    "\n",
    "Now we iterate through the entries. For each candidate, we check for PowerPoint files or landscape PDFs. If either is found, we set the `type` to `Slides`.\n",
    "\n",
    "**Note:** This step involves network requests and may take some time to complete."
   ]
  },
  {
   "cell_type": "code",
   "execution_count": null,
   "metadata": {},
   "outputs": [],
   "source": [
    "modified_entries_count = 0\n",
    "for entry in data['resources']:\n",
    "    if 'type' not in entry or not entry['type']:\n",
    "        urls = entry.get('url', [])\n",
    "        if not isinstance(urls, list):\n",
    "            urls = [urls]\n",
    "\n",
    "        for url in urls:\n",
    "            record_id = get_record_id(url)\n",
    "            if record_id:\n",
    "                print(f\"Checking '{entry['name']}' (Record: {record_id})...\")\n",
    "                if contains_powerpoint(record_id) or contains_landscape_pdf(record_id):\n",
    "                    print(f\"  -> Flagging '{entry['name']}' as Slides.\")\n",
    "                    entry['type'] = 'Slides'\n",
    "                    modified_entries_count += 1\n",
    "                    break"
   ]
  },
  {
   "cell_type": "markdown",
   "metadata": {},
   "source": [
    "### Save Changes\n",
    "\n",
    "Finally, if any entries were modified, we write the updated data structure back to the `nfdi4bioimage.yml` file. This will overwrite the original file."
   ]
  },
  {
   "cell_type": "code",
   "execution_count": null,
   "metadata": {},
   "outputs": [],
   "source": [
    "if modified_entries_count > 0:\n",
    "    with open(yml_path, 'w', encoding='utf-8') as f:\n",
    "        yaml_loader.dump(data, f)\n",
    "    print(f\"\\nSuccessfully updated {modified_entries_count} entries in {yml_path}.\")\n",
    "else:\n",
    "    print(\"\\nNo entries were updated.\")"
   ]
  }
 ],
 "metadata": {
  "language_info": {
   "codemirror_mode": {
    "name": "ipython",
    "version": 3
   },
   "file_extension": ".py",
   "mimetype": "text/x-python",
   "name": "python",
   "nbconvert_exporter": "python",
   "pygments_lexer": "ipython3",
   "version": "3.13.5"
  }
 },
 "nbformat": 4,
 "nbformat_minor": 4
}