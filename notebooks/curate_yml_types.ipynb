{
 "cells": [
  {
   "cell_type": "markdown",
   "metadata": {},
   "source": [
    "# Curate .yml file types\n",
    "\n",
    "This notebook automatically identifies entries in `nfdi4bioimage.yml` that are missing a `type` tag and checks if they contain presentation slides. It focuses on Zenodo entries, inspecting them for PowerPoint files or landscape-oriented PDFs. Entries identified as slides will be updated with `type: Slides`."
   ]
  },
  {
   "cell_type": "markdown",
   "metadata": {},
   "source": [
    "### Setup\n",
    "\n",
    "First, we import the required libraries. We will use `ruamel.yaml` to load and save the YAML file while preserving its formatting and comments. `requests` is needed for API calls to Zenodo, and `pypdf` for inspecting PDF files."
   ]
  },
  {
   "cell_type": "code",
   "execution_count": 1,
   "metadata": {
    "execution": {
     "iopub.execute_input": "2025-08-04T17:49:14.257620Z",
     "iopub.status.busy": "2025-08-04T17:49:14.257431Z",
     "iopub.status.idle": "2025-08-04T17:49:14.384995Z",
     "shell.execute_reply": "2025-08-04T17:49:14.384329Z"
    }
   },
   "outputs": [],
   "source": [
    "try:\n",
    "    from ruamel.yaml import YAML\n",
    "except ImportError:\n",
    "    !pip install ruamel.yaml\n",
    "    from ruamel.yaml import YAML\n",
    "\n",
    "try:\n",
    "    import pypdf\n",
    "except ImportError:\n",
    "    !pip install pypdf\n",
    "    import pypdf\n",
    "\n",
    "import re\n",
    "import requests\n",
    "import io\n",
    "from pypdf import PdfReader"
   ]
  },
  {
   "cell_type": "markdown",
   "metadata": {},
   "source": [
    "### Load Data\n",
    "\n",
    "We load the `nfdi4bioimage.yml` file from the `resources` directory."
   ]
  },
  {
   "cell_type": "code",
   "execution_count": 2,
   "metadata": {
    "execution": {
     "iopub.execute_input": "2025-08-04T17:49:14.387194Z",
     "iopub.status.busy": "2025-08-04T17:49:14.386898Z",
     "iopub.status.idle": "2025-08-04T17:49:15.724089Z",
     "shell.execute_reply": "2025-08-04T17:49:15.723505Z"
    }
   },
   "outputs": [],
   "source": [
    "yml_path = '../resources/nfdi4bioimage.yml'\n",
    "yaml_loader = YAML()\n",
    "yaml_loader.allow_duplicate_keys = True\n",
    "yaml_loader.preserve_quotes = True\n",
    "yaml_loader.indent(mapping=2, sequence=4, offset=2)\n",
    "\n",
    "with open(yml_path, 'r', encoding='utf-8') as f:\n",
    "    data = yaml_loader.load(f)"
   ]
  },
  {
   "cell_type": "markdown",
   "metadata": {},
   "source": [
    "### Identify Candidate Entries\n",
    "\n",
    "We find all entries that are missing a `type` (or have an empty `type`) and contain a link to Zenodo. These are the candidates we will inspect automatically."
   ]
  },
  {
   "cell_type": "code",
   "execution_count": 3,
   "metadata": {
    "execution": {
     "iopub.execute_input": "2025-08-04T17:49:15.726057Z",
     "iopub.status.busy": "2025-08-04T17:49:15.725836Z",
     "iopub.status.idle": "2025-08-04T17:49:15.731059Z",
     "shell.execute_reply": "2025-08-04T17:49:15.730493Z"
    }
   },
   "outputs": [
    {
     "name": "stdout",
     "output_type": "stream",
     "text": [
      "Found 194 Zenodo entries to check for slides.\n"
     ]
    }
   ],
   "source": [
    "entries_to_check = []\n",
    "for entry in data['resources']:\n",
    "    if 'type' not in entry or not entry['type']:\n",
    "        urls = entry.get('url', [])\n",
    "        if not isinstance(urls, list):\n",
    "            urls = [urls]\n",
    "        \n",
    "        for url in urls:\n",
    "            if re.search(r'zenodo\\.org/(?:record|records)/', url):\n",
    "                entries_to_check.append(entry)\n",
    "                break\n",
    "\n",
    "print(f\"Found {len(entries_to_check)} Zenodo entries to check for slides.\")"
   ]
  },
  {
   "cell_type": "markdown",
   "metadata": {},
   "source": [
    "### Define Helper Functions\n",
    "\n",
    "These functions will help us interact with the Zenodo API to check for slide-related files."
   ]
  },
  {
   "cell_type": "code",
   "execution_count": 4,
   "metadata": {
    "execution": {
     "iopub.execute_input": "2025-08-04T17:49:15.732808Z",
     "iopub.status.busy": "2025-08-04T17:49:15.732639Z",
     "iopub.status.idle": "2025-08-04T17:49:15.738089Z",
     "shell.execute_reply": "2025-08-04T17:49:15.737618Z"
    }
   },
   "outputs": [],
   "source": [
    "def get_record_id(url):\n",
    "    \"\"\"Extracts the Zenodo record ID from a URL.\"\"\"\n",
    "    match = re.search(r'zenodo\\.org/(?:record|records)/(\\d+)', url)\n",
    "    return match.group(1) if match else None\n",
    "\n",
    "def contains_powerpoint(record_id):\n",
    "    \"\"\"Checks a Zenodo record for .ppt or .pptx files via its API.\"\"\"\n",
    "    api_url = f'https://zenodo.org/api/records/{record_id}'\n",
    "    try:\n",
    "        response = requests.get(api_url)\n",
    "        response.raise_for_status()\n",
    "        record_data = response.json()\n",
    "        \n",
    "        for file_info in record_data.get('files', []):\n",
    "            if file_info['key'].lower().endswith(('.pptx', '.ppt')):\n",
    "                return True\n",
    "    except requests.RequestException as e:\n",
    "        print(f\"Could not fetch Zenodo record {record_id}: {e}\")\n",
    "    return False\n",
    "\n",
    "def contains_landscape_pdf(record_id):\n",
    "    \"\"\"Checks a Zenodo record for any landscape-oriented PDF files.\"\"\"\n",
    "    api_url = f'https://zenodo.org/api/records/{record_id}'\n",
    "    try:\n",
    "        response = requests.get(api_url)\n",
    "        response.raise_for_status()\n",
    "        record_data = response.json()\n",
    "\n",
    "        for file_info in record_data.get('files', []):\n",
    "            if file_info['key'].lower().endswith('.pdf'):\n",
    "                pdf_url = file_info['links']['self']\n",
    "                pdf_response = requests.get(pdf_url)\n",
    "                if pdf_response.ok:\n",
    "                    with io.BytesIO(pdf_response.content) as pdf_file:\n",
    "                        reader = PdfReader(pdf_file)\n",
    "                        if len(reader.pages) > 0:\n",
    "                            page = reader.pages[0]\n",
    "                            if page.mediabox.width > page.mediabox.height:\n",
    "                                return True\n",
    "    except Exception as e:\n",
    "        print(f\"Could not process PDFs for record {record_id}: {e}\")\n",
    "    return False"
   ]
  },
  {
   "cell_type": "markdown",
   "metadata": {},
   "source": [
    "### Process Entries and Update Type\n",
    "\n",
    "Now we iterate through the entries. For each candidate, we check for PowerPoint files or landscape PDFs. If either is found, we set the `type` to `Slides`.\n",
    "\n",
    "**Note:** This step involves network requests and may take some time to complete."
   ]
  },
  {
   "cell_type": "code",
   "execution_count": 5,
   "metadata": {
    "execution": {
     "iopub.execute_input": "2025-08-04T17:49:15.739750Z",
     "iopub.status.busy": "2025-08-04T17:49:15.739580Z",
     "iopub.status.idle": "2025-08-04T17:57:06.103969Z",
     "shell.execute_reply": "2025-08-04T17:57:06.103423Z"
    }
   },
   "outputs": [
    {
     "name": "stdout",
     "output_type": "stream",
     "text": [
      "Checking 'NFDI4BIOIMAGE - National Research Data Infrastructure for Microscopy and Bioimage Analysis' (Record: 13168693)...\n"
     ]
    },
    {
     "name": "stdout",
     "output_type": "stream",
     "text": [
      "Checking '[GBI EOE VII] Five (or ten) must-have items for making IT infrastructure for managing bioimage data' (Record: 11318151)...\n"
     ]
    },
    {
     "name": "stdout",
     "output_type": "stream",
     "text": [
      "  -> Flagging '[GBI EOE VII] Five (or ten) must-have items for making IT infrastructure for managing bioimage data' as Slides.\n",
      "Checking 'DALIA Interchange Format' (Record: 11521029)...\n"
     ]
    },
    {
     "name": "stdout",
     "output_type": "stream",
     "text": [
      "  -> Flagging 'DALIA Interchange Format' as Slides.\n",
      "Checking 'Large Language Models: An Introduction for Life Scientists' (Record: 13379394)...\n"
     ]
    },
    {
     "name": "stdout",
     "output_type": "stream",
     "text": [
      "  -> Flagging 'Large Language Models: An Introduction for Life Scientists' as Slides.\n",
      "Checking 'ChatGPT for Image Analysis' (Record: 13371196)...\n"
     ]
    },
    {
     "name": "stdout",
     "output_type": "stream",
     "text": [
      "  -> Flagging 'ChatGPT for Image Analysis' as Slides.\n",
      "Checking 'Towards Preservation of Life Science Data with NFDI4BIOIMAGE' (Record: 13506641)...\n"
     ]
    },
    {
     "name": "stdout",
     "output_type": "stream",
     "text": [
      "  -> Flagging 'Towards Preservation of Life Science Data with NFDI4BIOIMAGE' as Slides.\n",
      "Checking '[Workshop] FAIR data handling for microscopy: Structured metadata annotation in OMERO' (Record: 11109616)...\n"
     ]
    },
    {
     "name": "stdout",
     "output_type": "stream",
     "text": [
      "  -> Flagging '[Workshop] FAIR data handling for microscopy: Structured metadata annotation in OMERO' as Slides.\n",
      "Checking 'Getting started with Python: intro and set-up a conda environment' (Record: 13908480)...\n"
     ]
    },
    {
     "name": "stdout",
     "output_type": "stream",
     "text": [
      "Checking 'Bio-image Analysis Code Generation using bia-bob' (Record: 13908108)...\n"
     ]
    },
    {
     "name": "stdout",
     "output_type": "stream",
     "text": [
      "  -> Flagging 'Bio-image Analysis Code Generation using bia-bob' as Slides.\n",
      "Checking 'Towards Transparency and Knowledge Exchange in AI-assisted Data Analysis Code Generation' (Record: 13928832)...\n"
     ]
    },
    {
     "name": "stdout",
     "output_type": "stream",
     "text": [
      "Checking 'From Cells to Pixels: Bridging Biologists and  Image Analysts Through a Common Language' (Record: 13331351)...\n"
     ]
    },
    {
     "name": "stdout",
     "output_type": "stream",
     "text": [
      "Checking 'Bio-image Analysis Code Generation' (Record: 14001044)...\n"
     ]
    },
    {
     "name": "stdout",
     "output_type": "stream",
     "text": [
      "  -> Flagging 'Bio-image Analysis Code Generation' as Slides.\n",
      "Checking '[GBI EoE IX] NFDI4BIOIMAGE\n",
      "National Research Data Infrastructure \n",
      "for Microscopy and BioImage Analysis' (Record: 14001388)...\n"
     ]
    },
    {
     "name": "stderr",
     "output_type": "stream",
     "text": [
      "Ignoring wrong pointing object 88 0 (offset 0)\n"
     ]
    },
    {
     "name": "stderr",
     "output_type": "stream",
     "text": [
      "Ignoring wrong pointing object 159 0 (offset 0)\n"
     ]
    },
    {
     "name": "stdout",
     "output_type": "stream",
     "text": [
      "  -> Flagging '[GBI EoE IX] NFDI4BIOIMAGE\n",
      "National Research Data Infrastructure \n",
      "for Microscopy and BioImage Analysis' as Slides.\n",
      "Checking '[BINA CC] Scalable strategies for a next-generation of FAIR bioimaging' (Record: 13831274)...\n"
     ]
    },
    {
     "name": "stderr",
     "output_type": "stream",
     "text": [
      "Ignoring wrong pointing object 63 0 (offset 0)\n"
     ]
    },
    {
     "name": "stderr",
     "output_type": "stream",
     "text": [
      "Ignoring wrong pointing object 95 0 (offset 0)\n"
     ]
    },
    {
     "name": "stderr",
     "output_type": "stream",
     "text": [
      "Ignoring wrong pointing object 140 0 (offset 0)\n"
     ]
    },
    {
     "name": "stderr",
     "output_type": "stream",
     "text": [
      "Ignoring wrong pointing object 155 0 (offset 0)\n"
     ]
    },
    {
     "name": "stderr",
     "output_type": "stream",
     "text": [
      "Ignoring wrong pointing object 180 0 (offset 0)\n"
     ]
    },
    {
     "name": "stderr",
     "output_type": "stream",
     "text": [
      "Ignoring wrong pointing object 347 0 (offset 0)\n"
     ]
    },
    {
     "name": "stderr",
     "output_type": "stream",
     "text": [
      "Ignoring wrong pointing object 399 0 (offset 0)\n"
     ]
    },
    {
     "name": "stdout",
     "output_type": "stream",
     "text": [
      "  -> Flagging '[BINA CC] Scalable strategies for a next-generation of FAIR bioimaging' as Slides.\n",
      "Checking '[I2K] Scalable strategies for a next-generation of FAIR bioimaging' (Record: 13991322)...\n"
     ]
    },
    {
     "name": "stderr",
     "output_type": "stream",
     "text": [
      "Ignoring wrong pointing object 49 0 (offset 0)\n"
     ]
    },
    {
     "name": "stderr",
     "output_type": "stream",
     "text": [
      "Ignoring wrong pointing object 62 0 (offset 0)\n"
     ]
    },
    {
     "name": "stderr",
     "output_type": "stream",
     "text": [
      "Ignoring wrong pointing object 97 0 (offset 0)\n"
     ]
    },
    {
     "name": "stderr",
     "output_type": "stream",
     "text": [
      "Ignoring wrong pointing object 115 0 (offset 0)\n"
     ]
    },
    {
     "name": "stderr",
     "output_type": "stream",
     "text": [
      "Ignoring wrong pointing object 202 0 (offset 0)\n"
     ]
    },
    {
     "name": "stderr",
     "output_type": "stream",
     "text": [
      "Ignoring wrong pointing object 234 0 (offset 0)\n"
     ]
    },
    {
     "name": "stderr",
     "output_type": "stream",
     "text": [
      "Ignoring wrong pointing object 280 0 (offset 0)\n"
     ]
    },
    {
     "name": "stderr",
     "output_type": "stream",
     "text": [
      "Ignoring wrong pointing object 338 0 (offset 0)\n"
     ]
    },
    {
     "name": "stderr",
     "output_type": "stream",
     "text": [
      "Ignoring wrong pointing object 530 0 (offset 0)\n"
     ]
    },
    {
     "name": "stdout",
     "output_type": "stream",
     "text": [
      "  -> Flagging '[I2K] Scalable strategies for a next-generation of FAIR bioimaging' as Slides.\n",
      "Checking 'Excel template for adding Key-Value Pairs to images' (Record: 14014252)...\n"
     ]
    },
    {
     "name": "stdout",
     "output_type": "stream",
     "text": [
      "Checking 'Forschungsdatenmanagement zukunftsfest gestalten – Impulse für die   Strukturevaluation der Nationalen Forschungsdateninfrastruktur (NFDI)' (Record: 14032908)...\n"
     ]
    },
    {
     "name": "stdout",
     "output_type": "stream",
     "text": [
      "Checking 'Stackview sliceplot example data' (Record: 14030307)...\n"
     ]
    },
    {
     "name": "stdout",
     "output_type": "stream",
     "text": [
      "Checking 'Building FAIR image analysis pipelines for high-content-screening (HCS) data using Galaxy' (Record: 14044640)...\n"
     ]
    },
    {
     "name": "stdout",
     "output_type": "stream",
     "text": [
      "Checking '[Workshop Material] Fit for OMERO - How imaging facilities and IT departments work together to enable RDM for bioimaging, October 16-17, 2024, Heidelberg' (Record: 14013026)...\n"
     ]
    },
    {
     "name": "stdout",
     "output_type": "stream",
     "text": [
      "  -> Flagging '[Workshop Material] Fit for OMERO - How imaging facilities and IT departments work together to enable RDM for bioimaging, October 16-17, 2024, Heidelberg' as Slides.\n",
      "Checking 'Evident OIR sample files tiles + stitched image - FV 4000' (Record: 13680725)...\n"
     ]
    },
    {
     "name": "stdout",
     "output_type": "stream",
     "text": [
      "Checking 'Test Dataset for Whole Slide Image Registration' (Record: 5675686)...\n"
     ]
    },
    {
     "name": "stdout",
     "output_type": "stream",
     "text": [
      "Checking 'Example Operetta Dataset' (Record: 8153907)...\n"
     ]
    },
    {
     "name": "stdout",
     "output_type": "stream",
     "text": [
      "Checking 'CZI file examples' (Record: 8305531)...\n"
     ]
    },
    {
     "name": "stdout",
     "output_type": "stream",
     "text": [
      "Checking 'LimeSeg Test Datasets' (Record: 1472859)...\n"
     ]
    },
    {
     "name": "stdout",
     "output_type": "stream",
     "text": [
      "Checking 'Metadata Annotation Workflow for OMERO with Tabbles' (Record: 8314968)...\n"
     ]
    },
    {
     "name": "stdout",
     "output_type": "stream",
     "text": [
      "  -> Flagging 'Metadata Annotation Workflow for OMERO with Tabbles' as Slides.\n",
      "Checking 'Image Repository Decision Tree - Where do I deposit my imaging data' (Record: 13945179)...\n"
     ]
    },
    {
     "name": "stdout",
     "output_type": "stream",
     "text": [
      "  -> Flagging 'Image Repository Decision Tree - Where do I deposit my imaging data' as Slides.\n",
      "Checking 'Example Microscopy Metadata JSON files produced using Micro-Meta App to document example microscopy experiments performed at individual core facilities' (Record: 5847477)...\n"
     ]
    },
    {
     "name": "stdout",
     "output_type": "stream",
     "text": [
      "Checking 'Data stewardship and research data management tools for multimodal linking of imaging data in plasma medicine' (Record: 10069368)...\n"
     ]
    },
    {
     "name": "stdout",
     "output_type": "stream",
     "text": [
      "Checking 'Leitfaden zur digitalen Datensparsamkeit (mit Praxisbeispielen)' (Record: 11445843)...\n"
     ]
    },
    {
     "name": "stdout",
     "output_type": "stream",
     "text": [
      "Checking '[Workshop Material] Fit for OMERO - How imaging facilities and IT departments work together to enable RDM for bioimaging, October 16-17, 2024, Heidelberg' (Record: 14178789)...\n"
     ]
    },
    {
     "name": "stdout",
     "output_type": "stream",
     "text": [
      "  -> Flagging '[Workshop Material] Fit for OMERO - How imaging facilities and IT departments work together to enable RDM for bioimaging, October 16-17, 2024, Heidelberg' as Slides.\n",
      "Checking 'New Kid on the (NFDI) Block: NFDI4BIOIMAGE  - A National Initiative for FAIR Data Management in Bioimaging and Bioimage Analysis' (Record: 14006558)...\n"
     ]
    },
    {
     "name": "stdout",
     "output_type": "stream",
     "text": [
      "Checking 'NFDI4Bioimage Calendar 2024 October; original image' (Record: 13837146)...\n"
     ]
    },
    {
     "name": "stdout",
     "output_type": "stream",
     "text": [
      "Checking 'Insights from Acquiring Open Medical Imaging  Datasets for Foundation Model Development' (Record: 11503289)...\n"
     ]
    },
    {
     "name": "stdout",
     "output_type": "stream",
     "text": [
      "Checking 'RESEARCH DATA MANAGEMENT on Campus and in NFDI4BIOIMAGE' (Record: 13684187)...\n"
     ]
    },
    {
     "name": "stdout",
     "output_type": "stream",
     "text": [
      "Checking 'Towards Preservation of Life Science Data with NFDI4BIOIMAGE' (Record: 13640979)...\n"
     ]
    },
    {
     "name": "stdout",
     "output_type": "stream",
     "text": [
      "  -> Flagging 'Towards Preservation of Life Science Data with NFDI4BIOIMAGE' as Slides.\n",
      "Checking 'Insights from Acquiring Open Medical Imaging Datasets for Foundation Model Development' (Record: 13380289)...\n"
     ]
    },
    {
     "name": "stdout",
     "output_type": "stream",
     "text": [
      "  -> Flagging 'Insights from Acquiring Open Medical Imaging Datasets for Foundation Model Development' as Slides.\n",
      "Checking 'Institutionalization and Collaboration as a Way of Addressing the Challenges Open Science Presents to Libraries: The University of Konstanz as a National Pioneer' (Record: 12699637)...\n"
     ]
    },
    {
     "name": "stdout",
     "output_type": "stream",
     "text": [
      "Checking 'The role of Helmholtz Centers in NFDI4BIOIMAGE - A national consortium enhancing FAIR data management for microscopy and bioimage analysis' (Record: 11501662)...\n"
     ]
    },
    {
     "name": "stdout",
     "output_type": "stream",
     "text": [
      "Checking '[Workshop] Bioimage data management and analysis with OMERO' (Record: 11350689)...\n"
     ]
    },
    {
     "name": "stdout",
     "output_type": "stream",
     "text": [
      "  -> Flagging '[Workshop] Bioimage data management and analysis with OMERO' as Slides.\n",
      "Checking '[ELMI 2024]  AI's Dirty Little Secret: Without\n",
      "FAIR Data, It's Just Fancy Math' (Record: 11235513)...\n"
     ]
    },
    {
     "name": "stdout",
     "output_type": "stream",
     "text": [
      "Checking 'LEO: Linking ELN with OMERO' (Record: 11146807)...\n"
     ]
    },
    {
     "name": "stdout",
     "output_type": "stream",
     "text": [
      "Checking 'NFDI4BIOIMAGE' (Record: 11031747)...\n"
     ]
    },
    {
     "name": "stdout",
     "output_type": "stream",
     "text": [
      "  -> Flagging 'NFDI4BIOIMAGE' as Slides.\n",
      "Checking '[Short Talk] NFDI4BIOIMAGE - A consortium in the National Research Data Infrastructure' (Record: 10939520)...\n"
     ]
    },
    {
     "name": "stdout",
     "output_type": "stream",
     "text": [
      "  -> Flagging '[Short Talk] NFDI4BIOIMAGE - A consortium in the National Research Data Infrastructure' as Slides.\n",
      "Checking 'A Glimpse of the Open-Source FLIM Analysis Software Tools FLIMfit, FLUTE and napari-flim-phasor-plotter' (Record: 10886750)...\n"
     ]
    },
    {
     "name": "stdout",
     "output_type": "stream",
     "text": [
      "  -> Flagging 'A Glimpse of the Open-Source FLIM Analysis Software Tools FLIMfit, FLUTE and napari-flim-phasor-plotter' as Slides.\n",
      "Checking 'Linked (Open) Data for Microbial Population Biology' (Record: 10808486)...\n"
     ]
    },
    {
     "name": "stdout",
     "output_type": "stream",
     "text": [
      "  -> Flagging 'Linked (Open) Data for Microbial Population Biology' as Slides.\n",
      "Checking 'Hackaton Results - Conversion of KNIME image analysis workflows to Galaxy' (Record: 10793700)...\n"
     ]
    },
    {
     "name": "stdout",
     "output_type": "stream",
     "text": [
      "  -> Flagging 'Hackaton Results - Conversion of KNIME image analysis workflows to Galaxy' as Slides.\n",
      "Checking 'Who you gonna call? - Data Stewards to the rescue' (Record: 10730424)...\n"
     ]
    },
    {
     "name": "stdout",
     "output_type": "stream",
     "text": [
      "Checking 'Key-Value pair template for annotation of datasets in OMERO (PERIKLES study)' (Record: 12546808)...\n"
     ]
    },
    {
     "name": "stdout",
     "output_type": "stream",
     "text": [
      "Checking 'A journey to FAIR microscopy data' (Record: 7890311)...\n"
     ]
    },
    {
     "name": "stdout",
     "output_type": "stream",
     "text": [
      "  -> Flagging 'A journey to FAIR microscopy data' as Slides.\n",
      "Checking 'Report on a pilot study:  Implementation of OMERO for  microscopy data management' (Record: 10103316)...\n"
     ]
    },
    {
     "name": "stdout",
     "output_type": "stream",
     "text": [
      "Checking 'Key-Value pair template for annotation of datasets in OMERO for light- and electron microscopy data within the research group of Prof. Müller-Reichert' (Record: 12547566)...\n"
     ]
    },
    {
     "name": "stdout",
     "output_type": "stream",
     "text": [
      "Checking 'Abdominal Imaging Window (AIW) for Intravital Imaging' (Record: 14168603)...\n"
     ]
    },
    {
     "name": "stdout",
     "output_type": "stream",
     "text": [
      "Checking 'Round Table Workshop 2 - Correction of Drift and Movement' (Record: 14161633)...\n"
     ]
    },
    {
     "name": "stdout",
     "output_type": "stream",
     "text": [
      "  -> Flagging 'Round Table Workshop 2 - Correction of Drift and Movement' as Slides.\n",
      "Checking 'Round Table Workshop 1 - Sample Stabilization in intravital Imaging' (Record: 14161289)...\n"
     ]
    },
    {
     "name": "stdout",
     "output_type": "stream",
     "text": [
      "  -> Flagging 'Round Table Workshop 1 - Sample Stabilization in intravital Imaging' as Slides.\n",
      "Checking 'Conference Slides - 4th Day of Intravital Microscopy' (Record: 14113714)...\n"
     ]
    },
    {
     "name": "stdout",
     "output_type": "stream",
     "text": [
      "  -> Flagging 'Conference Slides - 4th Day of Intravital Microscopy' as Slides.\n",
      "Checking 'Implantation of abdominal imaging windows on the mouse liver' (Record: 13683167)...\n"
     ]
    },
    {
     "name": "stdout",
     "output_type": "stream",
     "text": [
      "Checking 'Implantation of abdominal imaging windows on the mouse liver - short version' (Record: 13736218)...\n"
     ]
    },
    {
     "name": "stdout",
     "output_type": "stream",
     "text": [
      "Checking 'Implantation of abdominal imaging windows on the mouse kidney - short version' (Record: 13736240)...\n"
     ]
    },
    {
     "name": "stdout",
     "output_type": "stream",
     "text": [
      "Checking 'Implantation of abdominal imaging windows on the mouse kidney' (Record: 13682928)...\n"
     ]
    },
    {
     "name": "stdout",
     "output_type": "stream",
     "text": [
      "Checking 'GerBI-Chat: Teil 2 - Wie schreibe ich am besten einen Großegräteantrag' (Record: 13807114)...\n"
     ]
    },
    {
     "name": "stderr",
     "output_type": "stream",
     "text": [
      "Ignoring wrong pointing object 8 0 (offset 0)\n"
     ]
    },
    {
     "name": "stderr",
     "output_type": "stream",
     "text": [
      "Ignoring wrong pointing object 12 0 (offset 0)\n"
     ]
    },
    {
     "name": "stderr",
     "output_type": "stream",
     "text": [
      "Ignoring wrong pointing object 14 0 (offset 0)\n"
     ]
    },
    {
     "name": "stderr",
     "output_type": "stream",
     "text": [
      "Ignoring wrong pointing object 22 0 (offset 0)\n"
     ]
    },
    {
     "name": "stderr",
     "output_type": "stream",
     "text": [
      "Ignoring wrong pointing object 24 0 (offset 0)\n"
     ]
    },
    {
     "name": "stderr",
     "output_type": "stream",
     "text": [
      "Ignoring wrong pointing object 26 0 (offset 0)\n"
     ]
    },
    {
     "name": "stderr",
     "output_type": "stream",
     "text": [
      "Ignoring wrong pointing object 37 0 (offset 0)\n"
     ]
    },
    {
     "name": "stderr",
     "output_type": "stream",
     "text": [
      "Ignoring wrong pointing object 46 0 (offset 0)\n"
     ]
    },
    {
     "name": "stderr",
     "output_type": "stream",
     "text": [
      "Ignoring wrong pointing object 48 0 (offset 0)\n"
     ]
    },
    {
     "name": "stderr",
     "output_type": "stream",
     "text": [
      "Ignoring wrong pointing object 50 0 (offset 0)\n"
     ]
    },
    {
     "name": "stderr",
     "output_type": "stream",
     "text": [
      "Ignoring wrong pointing object 56 0 (offset 0)\n"
     ]
    },
    {
     "name": "stderr",
     "output_type": "stream",
     "text": [
      "Ignoring wrong pointing object 62 0 (offset 0)\n"
     ]
    },
    {
     "name": "stderr",
     "output_type": "stream",
     "text": [
      "Ignoring wrong pointing object 64 0 (offset 0)\n"
     ]
    },
    {
     "name": "stderr",
     "output_type": "stream",
     "text": [
      "Ignoring wrong pointing object 109 0 (offset 0)\n"
     ]
    },
    {
     "name": "stderr",
     "output_type": "stream",
     "text": [
      "Ignoring wrong pointing object 111 0 (offset 0)\n"
     ]
    },
    {
     "name": "stderr",
     "output_type": "stream",
     "text": [
      "Ignoring wrong pointing object 113 0 (offset 0)\n"
     ]
    },
    {
     "name": "stderr",
     "output_type": "stream",
     "text": [
      "Ignoring wrong pointing object 119 0 (offset 0)\n"
     ]
    },
    {
     "name": "stderr",
     "output_type": "stream",
     "text": [
      "Ignoring wrong pointing object 125 0 (offset 0)\n"
     ]
    },
    {
     "name": "stderr",
     "output_type": "stream",
     "text": [
      "Ignoring wrong pointing object 133 0 (offset 0)\n"
     ]
    },
    {
     "name": "stderr",
     "output_type": "stream",
     "text": [
      "Ignoring wrong pointing object 139 0 (offset 0)\n"
     ]
    },
    {
     "name": "stderr",
     "output_type": "stream",
     "text": [
      "Ignoring wrong pointing object 141 0 (offset 0)\n"
     ]
    },
    {
     "name": "stderr",
     "output_type": "stream",
     "text": [
      "Ignoring wrong pointing object 143 0 (offset 0)\n"
     ]
    },
    {
     "name": "stderr",
     "output_type": "stream",
     "text": [
      "Ignoring wrong pointing object 145 0 (offset 0)\n"
     ]
    },
    {
     "name": "stderr",
     "output_type": "stream",
     "text": [
      "Ignoring wrong pointing object 147 0 (offset 0)\n"
     ]
    },
    {
     "name": "stderr",
     "output_type": "stream",
     "text": [
      "Ignoring wrong pointing object 149 0 (offset 0)\n"
     ]
    },
    {
     "name": "stderr",
     "output_type": "stream",
     "text": [
      "Ignoring wrong pointing object 151 0 (offset 0)\n"
     ]
    },
    {
     "name": "stderr",
     "output_type": "stream",
     "text": [
      "Ignoring wrong pointing object 157 0 (offset 0)\n"
     ]
    },
    {
     "name": "stderr",
     "output_type": "stream",
     "text": [
      "Ignoring wrong pointing object 163 0 (offset 0)\n"
     ]
    },
    {
     "name": "stderr",
     "output_type": "stream",
     "text": [
      "Ignoring wrong pointing object 165 0 (offset 0)\n"
     ]
    },
    {
     "name": "stderr",
     "output_type": "stream",
     "text": [
      "Ignoring wrong pointing object 167 0 (offset 0)\n"
     ]
    },
    {
     "name": "stderr",
     "output_type": "stream",
     "text": [
      "Ignoring wrong pointing object 182 0 (offset 0)\n"
     ]
    },
    {
     "name": "stderr",
     "output_type": "stream",
     "text": [
      "Ignoring wrong pointing object 188 0 (offset 0)\n"
     ]
    },
    {
     "name": "stderr",
     "output_type": "stream",
     "text": [
      "Ignoring wrong pointing object 190 0 (offset 0)\n"
     ]
    },
    {
     "name": "stderr",
     "output_type": "stream",
     "text": [
      "Ignoring wrong pointing object 201 0 (offset 0)\n"
     ]
    },
    {
     "name": "stderr",
     "output_type": "stream",
     "text": [
      "Ignoring wrong pointing object 218 0 (offset 0)\n"
     ]
    },
    {
     "name": "stderr",
     "output_type": "stream",
     "text": [
      "Ignoring wrong pointing object 228 0 (offset 0)\n"
     ]
    },
    {
     "name": "stderr",
     "output_type": "stream",
     "text": [
      "Ignoring wrong pointing object 254 0 (offset 0)\n"
     ]
    },
    {
     "name": "stderr",
     "output_type": "stream",
     "text": [
      "Ignoring wrong pointing object 264 0 (offset 0)\n"
     ]
    },
    {
     "name": "stderr",
     "output_type": "stream",
     "text": [
      "Ignoring wrong pointing object 266 0 (offset 0)\n"
     ]
    },
    {
     "name": "stderr",
     "output_type": "stream",
     "text": [
      "Ignoring wrong pointing object 272 0 (offset 0)\n"
     ]
    },
    {
     "name": "stdout",
     "output_type": "stream",
     "text": [
      "  -> Flagging 'GerBI-Chat: Teil 2 - Wie schreibe ich am besten einen Großegräteantrag' as Slides.\n",
      "Checking 'GerBI-Chat: Teil 1 - Vom Bedarf bis zum Großgeräteantrag-Schreiben' (Record: 13810879)...\n"
     ]
    },
    {
     "name": "stdout",
     "output_type": "stream",
     "text": [
      "  -> Flagging 'GerBI-Chat: Teil 1 - Vom Bedarf bis zum Großgeräteantrag-Schreiben' as Slides.\n",
      "Checking 'Key-Value pair template for annotation in OMERO for light microscopy data acquired with AxioScan7 - Core Facility Cellular Imaging (CFCI)' (Record: 12578084)...\n"
     ]
    },
    {
     "name": "stdout",
     "output_type": "stream",
     "text": [
      "Checking 'Zeiss AxioZoom Stage Adapter - 12/6Well Plate' (Record: 7944877)...\n"
     ]
    },
    {
     "name": "stdout",
     "output_type": "stream",
     "text": [
      "Checking 'Zeiss AxioZoom Stage Adapter' (Record: 7963020)...\n"
     ]
    },
    {
     "name": "stdout",
     "output_type": "stream",
     "text": [
      "Checking 'Zeiss AxioZoom Stage Adapter - EM block holder' (Record: 7963006)...\n"
     ]
    },
    {
     "name": "stdout",
     "output_type": "stream",
     "text": [
      "Checking 'Zeiss AxioZoom Stage Adapter - Microscope slides' (Record: 7945018)...\n"
     ]
    },
    {
     "name": "stdout",
     "output_type": "stream",
     "text": [
      "Checking 'Intravital microscopy contrasting agents for application - Database' (Record: 12166710)...\n"
     ]
    },
    {
     "name": "stdout",
     "output_type": "stream",
     "text": [
      "Checking 'Development of a platform for advanced optics education, training and prototyping' (Record: 10925217)...\n"
     ]
    },
    {
     "name": "stdout",
     "output_type": "stream",
     "text": [
      "Checking '[Community Meeting 2024] Supporting and financing RDM projects within GerBI' (Record: 10889694)...\n"
     ]
    },
    {
     "name": "stdout",
     "output_type": "stream",
     "text": [
      "  -> Flagging '[Community Meeting 2024] Supporting and financing RDM projects within GerBI' as Slides.\n",
      "Checking 'Slides about FLUTE: a Python GUI for interactive phasor analysis of FLIM data' (Record: 10839310)...\n"
     ]
    },
    {
     "name": "stdout",
     "output_type": "stream",
     "text": [
      "  -> Flagging 'Slides about FLUTE: a Python GUI for interactive phasor analysis of FLIM data' as Slides.\n",
      "Checking 'The Information Infrastructure for BioImage Data (I3D:bio) project to advance FAIR microscopy data management for the community' (Record: 10805204)...\n"
     ]
    },
    {
     "name": "stdout",
     "output_type": "stream",
     "text": [
      "Checking '[Community Meeting 2024] Overview Team Image Data Analysis and Management' (Record: 10796364)...\n"
     ]
    },
    {
     "name": "stdout",
     "output_type": "stream",
     "text": [
      "Checking 'Euro-BioImaging/BatchConvert: v0.0.4' (Record: 10679318)...\n"
     ]
    },
    {
     "name": "stdout",
     "output_type": "stream",
     "text": [
      "Checking 'Preprint: \"Be Sustainable\", Recommendations for FAIR Resources in Life Sciences research: EOSC-Life's Lessons' (Record: 8338931)...\n"
     ]
    },
    {
     "name": "stdout",
     "output_type": "stream",
     "text": [
      "Checking 'Euro-BioImaging  Scientific Ambassadors Program' (Record: 8182154)...\n"
     ]
    },
    {
     "name": "stdout",
     "output_type": "stream",
     "text": [
      "  -> Flagging 'Euro-BioImaging  Scientific Ambassadors Program' as Slides.\n",
      "Checking 'Euro-BioImaging ERIC Annual Report 2022' (Record: 8146412)...\n"
     ]
    },
    {
     "name": "stdout",
     "output_type": "stream",
     "text": [
      "Checking 'Building a FAIR image data ecosystem for microscopy communities' (Record: 7788899)...\n"
     ]
    },
    {
     "name": "stderr",
     "output_type": "stream",
     "text": [
      "Ignoring wrong pointing object 6 0 (offset 0)\n"
     ]
    },
    {
     "name": "stderr",
     "output_type": "stream",
     "text": [
      "Ignoring wrong pointing object 8 0 (offset 0)\n"
     ]
    },
    {
     "name": "stderr",
     "output_type": "stream",
     "text": [
      "Ignoring wrong pointing object 10 0 (offset 0)\n"
     ]
    },
    {
     "name": "stderr",
     "output_type": "stream",
     "text": [
      "Ignoring wrong pointing object 12 0 (offset 0)\n"
     ]
    },
    {
     "name": "stderr",
     "output_type": "stream",
     "text": [
      "Ignoring wrong pointing object 14 0 (offset 0)\n"
     ]
    },
    {
     "name": "stderr",
     "output_type": "stream",
     "text": [
      "Ignoring wrong pointing object 16 0 (offset 0)\n"
     ]
    },
    {
     "name": "stderr",
     "output_type": "stream",
     "text": [
      "Ignoring wrong pointing object 18 0 (offset 0)\n"
     ]
    },
    {
     "name": "stderr",
     "output_type": "stream",
     "text": [
      "Ignoring wrong pointing object 20 0 (offset 0)\n"
     ]
    },
    {
     "name": "stderr",
     "output_type": "stream",
     "text": [
      "Ignoring wrong pointing object 22 0 (offset 0)\n"
     ]
    },
    {
     "name": "stderr",
     "output_type": "stream",
     "text": [
      "Ignoring wrong pointing object 24 0 (offset 0)\n"
     ]
    },
    {
     "name": "stderr",
     "output_type": "stream",
     "text": [
      "Ignoring wrong pointing object 26 0 (offset 0)\n"
     ]
    },
    {
     "name": "stderr",
     "output_type": "stream",
     "text": [
      "Ignoring wrong pointing object 28 0 (offset 0)\n"
     ]
    },
    {
     "name": "stderr",
     "output_type": "stream",
     "text": [
      "Ignoring wrong pointing object 30 0 (offset 0)\n"
     ]
    },
    {
     "name": "stderr",
     "output_type": "stream",
     "text": [
      "Ignoring wrong pointing object 36 0 (offset 0)\n"
     ]
    },
    {
     "name": "stderr",
     "output_type": "stream",
     "text": [
      "Ignoring wrong pointing object 41 0 (offset 0)\n"
     ]
    },
    {
     "name": "stderr",
     "output_type": "stream",
     "text": [
      "Ignoring wrong pointing object 43 0 (offset 0)\n"
     ]
    },
    {
     "name": "stderr",
     "output_type": "stream",
     "text": [
      "Ignoring wrong pointing object 56 0 (offset 0)\n"
     ]
    },
    {
     "name": "stderr",
     "output_type": "stream",
     "text": [
      "Ignoring wrong pointing object 58 0 (offset 0)\n"
     ]
    },
    {
     "name": "stderr",
     "output_type": "stream",
     "text": [
      "Ignoring wrong pointing object 60 0 (offset 0)\n"
     ]
    },
    {
     "name": "stderr",
     "output_type": "stream",
     "text": [
      "Ignoring wrong pointing object 75 0 (offset 0)\n"
     ]
    },
    {
     "name": "stderr",
     "output_type": "stream",
     "text": [
      "Ignoring wrong pointing object 96 0 (offset 0)\n"
     ]
    },
    {
     "name": "stdout",
     "output_type": "stream",
     "text": [
      "Checking 'Gut Analysis Toolbox' (Record: 13739137)...\n"
     ]
    },
    {
     "name": "stdout",
     "output_type": "stream",
     "text": [
      "Checking 'Gut Analysis Toolbox: Training data and 2D models for segmenting enteric neurons, neuronal subtypes and ganglia' (Record: 10460434)...\n"
     ]
    },
    {
     "name": "stdout",
     "output_type": "stream",
     "text": [
      "Checking 'Research Data Managemet and how not to get overwhelmed with data' (Record: 8372703)...\n"
     ]
    },
    {
     "name": "stdout",
     "output_type": "stream",
     "text": [
      "  -> Flagging 'Research Data Managemet and how not to get overwhelmed with data' as Slides.\n",
      "Checking 'Artificial Blobs and Labels image' (Record: 7919117)...\n"
     ]
    },
    {
     "name": "stdout",
     "output_type": "stream",
     "text": [
      "Checking 'ImageJ tool for percentage estimation of pneumonia in lungs' (Record: 7885379)...\n"
     ]
    },
    {
     "name": "stdout",
     "output_type": "stream",
     "text": [
      "Checking 'Multiplexed histology of COVID-19 post-mortem lung samples - CONTROL CASE 1 FOV1' (Record: 7447491)...\n"
     ]
    },
    {
     "name": "stdout",
     "output_type": "stream",
     "text": [
      "Checking 'Measuring reporter activity domain in EPI aggregates and Gastruloids.ijm' (Record: 7409423)...\n"
     ]
    },
    {
     "name": "stdout",
     "output_type": "stream",
     "text": [
      "Checking 'Interactive Image Data Flow Graphs' (Record: 7215114)...\n"
     ]
    },
    {
     "name": "stdout",
     "output_type": "stream",
     "text": [
      "  -> Flagging 'Interactive Image Data Flow Graphs' as Slides.\n",
      "Checking 'Optimisation and Validation of a Swarm Intelligence based Segmentation Algorithm for low Contrast Positron Emission Tomography' (Record: 7209862)...\n"
     ]
    },
    {
     "name": "stdout",
     "output_type": "stream",
     "text": [
      "Checking 'CZI (Carl Zeiss Image) dataset with artificial test camera images with various dimension for testing libraries reading' (Record: 7015307)...\n"
     ]
    },
    {
     "name": "stdout",
     "output_type": "stream",
     "text": [
      "Checking 'SciAugment' (Record: 6991106)...\n"
     ]
    },
    {
     "name": "stdout",
     "output_type": "stream",
     "text": [
      "Checking 'martinschatz-cz/SciCount: v1.0.0 with reusable example notebooks' (Record: 6953610)...\n"
     ]
    },
    {
     "name": "stdout",
     "output_type": "stream",
     "text": [
      "Checking 'Morphological analysis of neural cells with WEKA and SNT Fiji plugins' (Record: 6834214)...\n"
     ]
    },
    {
     "name": "stdout",
     "output_type": "stream",
     "text": [
      "Checking 'Large tiling confocal acquisition (rat brain)' (Record: 6646128)...\n"
     ]
    },
    {
     "name": "stdout",
     "output_type": "stream",
     "text": [
      "Checking '3D Nuclei annotations and StarDist 3D model(s) (rat brain)' (Record: 6645978)...\n"
     ]
    },
    {
     "name": "stdout",
     "output_type": "stream",
     "text": [
      "Checking 'Multi-Template-Matching for object-detection (slides)' (Record: 6554166)...\n"
     ]
    },
    {
     "name": "stdout",
     "output_type": "stream",
     "text": [
      "  -> Flagging 'Multi-Template-Matching for object-detection (slides)' as Slides.\n",
      "Checking 'Introduction to light-microscopy / Widefield microscopy' (Record: 6535296)...\n"
     ]
    },
    {
     "name": "stdout",
     "output_type": "stream",
     "text": [
      "  -> Flagging 'Introduction to light-microscopy / Widefield microscopy' as Slides.\n",
      "Checking 'Liver Micrometastases area quantification using QuPath and pixel classifier' (Record: 6523649)...\n"
     ]
    },
    {
     "name": "stdout",
     "output_type": "stream",
     "text": [
      "Checking 'Cellpose models for Label Prediction from Brightfield and Digital Phase Contrast images' (Record: 6140111)...\n"
     ]
    },
    {
     "name": "stdout",
     "output_type": "stream",
     "text": [
      "Checking 'HeLa \"Kyoto\" cells under the scope' (Record: 6139958)...\n"
     ]
    },
    {
     "name": "stdout",
     "output_type": "stream",
     "text": [
      "Checking 'Digital Phase Contrast on Primary Dermal Human Fibroblasts cells' (Record: 5996883)...\n"
     ]
    },
    {
     "name": "stdout",
     "output_type": "stream",
     "text": [
      "Checking 'Cellpose model for Digital Phase Contrast images' (Record: 6023317)...\n"
     ]
    },
    {
     "name": "stdout",
     "output_type": "stream",
     "text": [
      "Checking 'LauLauThom/MaskFromRois-Fiji: Masks from ROIs plugins for Fiji - initial release' (Record: 5121890)...\n"
     ]
    },
    {
     "name": "stdout",
     "output_type": "stream",
     "text": [
      "Checking 'Deconvolution Test Dataset' (Record: 5101351)...\n"
     ]
    },
    {
     "name": "stdout",
     "output_type": "stream",
     "text": [
      "Checking 'Ink in a dish' (Record: 13642395)...\n"
     ]
    },
    {
     "name": "stdout",
     "output_type": "stream",
     "text": [
      "Checking 'Evident OIR sample files with lambda scan - FV 4000' (Record: 12773657)...\n"
     ]
    },
    {
     "name": "stdout",
     "output_type": "stream",
     "text": [
      "Checking 'Axioscan 7 fluorescent channels not displaying in QuPath' (Record: 12533989)...\n"
     ]
    },
    {
     "name": "stdout",
     "output_type": "stream",
     "text": [
      "Checking 'ICS/IDS stitched file' (Record: 11637422)...\n"
     ]
    },
    {
     "name": "stdout",
     "output_type": "stream",
     "text": [
      "Checking 'Human DAB staining Axioscan BF 20x' (Record: 11234863)...\n"
     ]
    },
    {
     "name": "stdout",
     "output_type": "stream",
     "text": [
      "Checking 'Structuring of Data and Metadata in Bioimaging: Concepts and technical Solutions in the Context of Linked Data' (Record: 7018750)...\n"
     ]
    },
    {
     "name": "stdout",
     "output_type": "stream",
     "text": [
      "  -> Flagging 'Structuring of Data and Metadata in Bioimaging: Concepts and technical Solutions in the Context of Linked Data' as Slides.\n",
      "Checking 'Engineering a Software Environment for Research Data Management of Microscopy Image Data in a Core Facility' (Record: 6905931)...\n"
     ]
    },
    {
     "name": "stdout",
     "output_type": "stream",
     "text": [
      "Checking 'LZ4-compressed Imaris ims example datasets.' (Record: 14197622)...\n"
     ]
    },
    {
     "name": "stdout",
     "output_type": "stream",
     "text": [
      "Checking 'OME2024 NGFF Challenge Results' (Record: 14234608)...\n"
     ]
    },
    {
     "name": "stderr",
     "output_type": "stream",
     "text": [
      "Ignoring wrong pointing object 41 0 (offset 0)\n"
     ]
    },
    {
     "name": "stderr",
     "output_type": "stream",
     "text": [
      "Ignoring wrong pointing object 43 0 (offset 0)\n"
     ]
    },
    {
     "name": "stderr",
     "output_type": "stream",
     "text": [
      "Ignoring wrong pointing object 77 0 (offset 0)\n"
     ]
    },
    {
     "name": "stderr",
     "output_type": "stream",
     "text": [
      "Ignoring wrong pointing object 95 0 (offset 0)\n"
     ]
    },
    {
     "name": "stderr",
     "output_type": "stream",
     "text": [
      "Ignoring wrong pointing object 161 0 (offset 0)\n"
     ]
    },
    {
     "name": "stderr",
     "output_type": "stream",
     "text": [
      "Ignoring wrong pointing object 192 0 (offset 0)\n"
     ]
    },
    {
     "name": "stderr",
     "output_type": "stream",
     "text": [
      "Ignoring wrong pointing object 215 0 (offset 0)\n"
     ]
    },
    {
     "name": "stderr",
     "output_type": "stream",
     "text": [
      "Ignoring wrong pointing object 243 0 (offset 0)\n"
     ]
    },
    {
     "name": "stdout",
     "output_type": "stream",
     "text": [
      "  -> Flagging 'OME2024 NGFF Challenge Results' as Slides.\n",
      "Checking 'Example Imaris ims datasets.' (Record: 14235726)...\n"
     ]
    },
    {
     "name": "stdout",
     "output_type": "stream",
     "text": [
      "Checking 'Angebote der NFDI für die Forschung im Bereich Zoologie' (Record: 14278058)...\n"
     ]
    },
    {
     "name": "stdout",
     "output_type": "stream",
     "text": [
      "  -> Flagging 'Angebote der NFDI für die Forschung im Bereich Zoologie' as Slides.\n",
      "Checking 'Astigmatic 4Pi bead stack' (Record: 14287640)...\n"
     ]
    },
    {
     "name": "stdout",
     "output_type": "stream",
     "text": [
      "Checking '10 frames of fluorescent particles' (Record: 14281237)...\n"
     ]
    },
    {
     "name": "stdout",
     "output_type": "stream",
     "text": [
      "Checking 'Aberrated Bead Stack' (Record: 14268554)...\n"
     ]
    },
    {
     "name": "stdout",
     "output_type": "stream",
     "text": [
      "Checking 'Large Language Models: An Introduction for Life Scientists' (Record: 14418209)...\n"
     ]
    },
    {
     "name": "stdout",
     "output_type": "stream",
     "text": [
      "  -> Flagging 'Large Language Models: An Introduction for Life Scientists' as Slides.\n",
      "Checking 'Terminology service for research data management and knowledge discovery in low-temperature plasma physics' (Record: 14381522)...\n"
     ]
    },
    {
     "name": "stdout",
     "output_type": "stream",
     "text": [
      "  -> Flagging 'Terminology service for research data management and knowledge discovery in low-temperature plasma physics' as Slides.\n",
      "Checking 'NFDI4BIOIMAGE data management illustrations by Henning Falk' (Record: 14186101)...\n"
     ]
    },
    {
     "name": "stdout",
     "output_type": "stream",
     "text": [
      "  -> Flagging 'NFDI4BIOIMAGE data management illustrations by Henning Falk' as Slides.\n",
      "Checking 'Working Group Charter. RDM Helpdesk Network' (Record: 14035822)...\n"
     ]
    },
    {
     "name": "stdout",
     "output_type": "stream",
     "text": [
      "Checking '[Workshop] Research Data Management for Microscopy and BioImage Analysis' (Record: 13861026)...\n"
     ]
    },
    {
     "name": "stdout",
     "output_type": "stream",
     "text": [
      "  -> Flagging '[Workshop] Research Data Management for Microscopy and BioImage Analysis' as Slides.\n",
      "Checking 'LSM example J. Dubrulle' (Record: 14510432)...\n"
     ]
    },
    {
     "name": "stdout",
     "output_type": "stream",
     "text": [
      "Checking 'Collaborative Working and Version Control with git[hub]' (Record: 14626054)...\n"
     ]
    },
    {
     "name": "stdout",
     "output_type": "stream",
     "text": [
      "  -> Flagging 'Collaborative Working and Version Control with git[hub]' as Slides.\n",
      "Checking 'Modular training resources for bioimage analysis' (Record: 14264885)...\n"
     ]
    },
    {
     "name": "stdout",
     "output_type": "stream",
     "text": [
      "Checking '[CIDAS] Scalable strategies for a next-generation of FAIR bioimaging' (Record: 14716546)...\n"
     ]
    },
    {
     "name": "stderr",
     "output_type": "stream",
     "text": [
      "Ignoring wrong pointing object 41 0 (offset 0)\n"
     ]
    },
    {
     "name": "stderr",
     "output_type": "stream",
     "text": [
      "Ignoring wrong pointing object 105 0 (offset 0)\n"
     ]
    },
    {
     "name": "stderr",
     "output_type": "stream",
     "text": [
      "Ignoring wrong pointing object 204 0 (offset 0)\n"
     ]
    },
    {
     "name": "stderr",
     "output_type": "stream",
     "text": [
      "Ignoring wrong pointing object 207 0 (offset 0)\n"
     ]
    },
    {
     "name": "stderr",
     "output_type": "stream",
     "text": [
      "Ignoring wrong pointing object 240 0 (offset 0)\n"
     ]
    },
    {
     "name": "stderr",
     "output_type": "stream",
     "text": [
      "Ignoring wrong pointing object 279 0 (offset 0)\n"
     ]
    },
    {
     "name": "stderr",
     "output_type": "stream",
     "text": [
      "Ignoring wrong pointing object 306 0 (offset 0)\n"
     ]
    },
    {
     "name": "stderr",
     "output_type": "stream",
     "text": [
      "Ignoring wrong pointing object 361 0 (offset 0)\n"
     ]
    },
    {
     "name": "stderr",
     "output_type": "stream",
     "text": [
      "Ignoring wrong pointing object 392 0 (offset 0)\n"
     ]
    },
    {
     "name": "stderr",
     "output_type": "stream",
     "text": [
      "Ignoring wrong pointing object 604 0 (offset 0)\n"
     ]
    },
    {
     "name": "stdout",
     "output_type": "stream",
     "text": [
      "  -> Flagging '[CIDAS] Scalable strategies for a next-generation of FAIR bioimaging' as Slides.\n",
      "Checking '[CMCB] Scalable strategies for a next-generation of FAIR bioimaging' (Record: 14650434)...\n"
     ]
    },
    {
     "name": "stderr",
     "output_type": "stream",
     "text": [
      "Ignoring wrong pointing object 35 0 (offset 0)\n"
     ]
    },
    {
     "name": "stderr",
     "output_type": "stream",
     "text": [
      "Ignoring wrong pointing object 102 0 (offset 0)\n"
     ]
    },
    {
     "name": "stderr",
     "output_type": "stream",
     "text": [
      "Ignoring wrong pointing object 196 0 (offset 0)\n"
     ]
    },
    {
     "name": "stderr",
     "output_type": "stream",
     "text": [
      "Ignoring wrong pointing object 199 0 (offset 0)\n"
     ]
    },
    {
     "name": "stderr",
     "output_type": "stream",
     "text": [
      "Ignoring wrong pointing object 227 0 (offset 0)\n"
     ]
    },
    {
     "name": "stderr",
     "output_type": "stream",
     "text": [
      "Ignoring wrong pointing object 264 0 (offset 0)\n"
     ]
    },
    {
     "name": "stderr",
     "output_type": "stream",
     "text": [
      "Ignoring wrong pointing object 291 0 (offset 0)\n"
     ]
    },
    {
     "name": "stderr",
     "output_type": "stream",
     "text": [
      "Ignoring wrong pointing object 334 0 (offset 0)\n"
     ]
    },
    {
     "name": "stderr",
     "output_type": "stream",
     "text": [
      "Ignoring wrong pointing object 469 0 (offset 0)\n"
     ]
    },
    {
     "name": "stdout",
     "output_type": "stream",
     "text": [
      "  -> Flagging '[CMCB] Scalable strategies for a next-generation of FAIR bioimaging' as Slides.\n",
      "Checking 'Optimized cranial window implantation for subcellular and functional imaging in vivo' (Record: 14641777)...\n"
     ]
    },
    {
     "name": "stdout",
     "output_type": "stream",
     "text": [
      "  -> Flagging 'Optimized cranial window implantation for subcellular and functional imaging in vivo' as Slides.\n",
      "Checking 'Andor Dragonfly confocal image of BPAE cells stained for actin, IMS file format' (Record: 14675120)...\n"
     ]
    },
    {
     "name": "stdout",
     "output_type": "stream",
     "text": [
      "Checking 'Image handling using Fiji - training materials' (Record: 14771563)...\n"
     ]
    },
    {
     "name": "stdout",
     "output_type": "stream",
     "text": [
      "Checking 'Prompt Engineering, Agentic Workflows and Multi-modal Large Language Models' (Record: 14692037)...\n"
     ]
    },
    {
     "name": "stdout",
     "output_type": "stream",
     "text": [
      "  -> Flagging 'Prompt Engineering, Agentic Workflows and Multi-modal Large Language Models' as Slides.\n",
      "Checking 'Integration of Bioimage and *Omics data resources' (Record: 14792534)...\n"
     ]
    },
    {
     "name": "stdout",
     "output_type": "stream",
     "text": [
      "Checking 'InCell datasets with mix of 2D and 3D failed to be read' (Record: 14777242)...\n"
     ]
    },
    {
     "name": "stdout",
     "output_type": "stream",
     "text": [
      "Checking 'Dataset from InCell 2200 microscope misread as a plate' (Record: 14769820)...\n"
     ]
    },
    {
     "name": "stdout",
     "output_type": "stream",
     "text": [
      "Checking 'Kriterienkatalog für Materialien aus dem Themenbereich Forschungsdatenmanagement' (Record: 14729452)...\n"
     ]
    },
    {
     "name": "stdout",
     "output_type": "stream",
     "text": [
      "Checking '[CIDAS] Scalable strategies for a next-generation of FAIR bioimaging' (Record: 14845059)...\n"
     ]
    },
    {
     "name": "stdout",
     "output_type": "stream",
     "text": [
      "  -> Flagging '[CIDAS] Scalable strategies for a next-generation of FAIR bioimaging' as Slides.\n",
      "Checking 'Introducing OMERO-vitessce: an OMERO.web plugin for multi-modal data' (Record: 14832855)...\n"
     ]
    },
    {
     "name": "stdout",
     "output_type": "stream",
     "text": [
      "Checking 'BioImage.IO Chatbot, GloBIAS Seminar' (Record: 13880367)...\n"
     ]
    },
    {
     "name": "stdout",
     "output_type": "stream",
     "text": [
      "  -> Flagging 'BioImage.IO Chatbot, GloBIAS Seminar' as Slides.\n",
      "Checking 'LauLauThom/MaskFromRois-Fiji: v1.0.1 - better handle \"cancel\"' (Record: 14917722)...\n"
     ]
    },
    {
     "name": "stdout",
     "output_type": "stream",
     "text": [
      "Checking 'Gut Analysis Toolbox' (Record: 14913673)...\n"
     ]
    },
    {
     "name": "stdout",
     "output_type": "stream",
     "text": [
      "Checking 'Reconstructed images of a 2DSIM multiposition acquisition.' (Record: 14893791)...\n"
     ]
    },
    {
     "name": "stdout",
     "output_type": "stream",
     "text": [
      "Checking 'Developing a Training Strategy' (Record: 14053758)...\n"
     ]
    },
    {
     "name": "stdout",
     "output_type": "stream",
     "text": [
      "  -> Flagging 'Developing a Training Strategy' as Slides.\n",
      "Checking 'Training Computational Skills in the Age of AI' (Record: 14043615)...\n"
     ]
    },
    {
     "name": "stdout",
     "output_type": "stream",
     "text": [
      "  -> Flagging 'Training Computational Skills in the Age of AI' as Slides.\n",
      "Checking 'Base4NFDI - Creating NFDI-wide basic services in a  world of specific domains' (Record: 8383123)...\n"
     ]
    },
    {
     "name": "stdout",
     "output_type": "stream",
     "text": [
      "  -> Flagging 'Base4NFDI - Creating NFDI-wide basic services in a  world of specific domains' as Slides.\n",
      "Checking 'Leica (.lif) file with errors in channel order when imported with Bio-formats' (Record: 14933318)...\n"
     ]
    },
    {
     "name": "stdout",
     "output_type": "stream",
     "text": [
      "Checking 'Image Analysis using Galaxy' (Record: 14944040)...\n"
     ]
    },
    {
     "name": "stdout",
     "output_type": "stream",
     "text": [
      "  -> Flagging 'Image Analysis using Galaxy' as Slides.\n",
      "Checking '[N4BI AHM] Welcome to BioImage Town' (Record: 15031842)...\n"
     ]
    },
    {
     "name": "stdout",
     "output_type": "stream",
     "text": [
      "  -> Flagging '[N4BI AHM] Welcome to BioImage Town' as Slides.\n",
      "Checking '[Workshop] Managing FAIR microscopy data at scale for universities and research institutions: an introduction for non-imaging stakeholders' (Record: 15026373)...\n"
     ]
    },
    {
     "name": "stdout",
     "output_type": "stream",
     "text": [
      "  -> Flagging '[Workshop] Managing FAIR microscopy data at scale for universities and research institutions: an introduction for non-imaging stakeholders' as Slides.\n",
      "Checking 'Workflow for user introduction into microscopy, OMERO and data management at Center for Advanced imaging' (Record: 14988921)...\n"
     ]
    },
    {
     "name": "stdout",
     "output_type": "stream",
     "text": [
      "Checking 'Advancing FAIR Image Analysis in Galaxy: Tools, Workflows, and Training' (Record: 14979253)...\n"
     ]
    },
    {
     "name": "stdout",
     "output_type": "stream",
     "text": [
      "Checking 'Galaxy meets OMERO! Overview on the Galaxy OMERO-suite and Vizarr Viewer' (Record: 14975462)...\n"
     ]
    },
    {
     "name": "stdout",
     "output_type": "stream",
     "text": [
      "Checking 'Building FAIR image analysis pipelines for high-content-screening (HCS) data using Galaxy' (Record: 14909526)...\n"
     ]
    },
    {
     "name": "stdout",
     "output_type": "stream",
     "text": [
      "  -> Flagging 'Building FAIR image analysis pipelines for high-content-screening (HCS) data using Galaxy' as Slides.\n",
      "Checking 'imaris file not read by bfGetReader()' (Record: 15001649)...\n"
     ]
    },
    {
     "name": "stdout",
     "output_type": "stream",
     "text": [
      "Checking 'Sample data for PR#4284 (https://github.com/ome/bioformats/pull/4284)' (Record: 14968770)...\n"
     ]
    },
    {
     "name": "stdout",
     "output_type": "stream",
     "text": [
      "Checking 'Metadata in Bioimaging' (Record: 15083018)...\n"
     ]
    },
    {
     "name": "stderr",
     "output_type": "stream",
     "text": [
      "Ignoring wrong pointing object 10 0 (offset 0)\n"
     ]
    },
    {
     "name": "stderr",
     "output_type": "stream",
     "text": [
      "Ignoring wrong pointing object 87 0 (offset 0)\n"
     ]
    },
    {
     "name": "stderr",
     "output_type": "stream",
     "text": [
      "Ignoring wrong pointing object 196 0 (offset 0)\n"
     ]
    },
    {
     "name": "stderr",
     "output_type": "stream",
     "text": [
      "Ignoring wrong pointing object 330 0 (offset 0)\n"
     ]
    },
    {
     "name": "stderr",
     "output_type": "stream",
     "text": [
      "Ignoring wrong pointing object 382 0 (offset 0)\n"
     ]
    },
    {
     "name": "stdout",
     "output_type": "stream",
     "text": [
      "  -> Flagging 'Metadata in Bioimaging' as Slides.\n",
      "Checking 'Building FAIR image analysis pipelines for high-content-screening (HCS) data using Galaxy' (Record: 15047849)...\n"
     ]
    },
    {
     "name": "stdout",
     "output_type": "stream",
     "text": [
      "Checking 'Memorandum of Understanding of NFDI consortia from Earth-, Chemical and Life Sciences to support a network called the Geo-Chem-Life Science Helpdesk Cluster' (Record: 15065070)...\n"
     ]
    },
    {
     "name": "stdout",
     "output_type": "stream",
     "text": [
      "Checking 'Beads imaged over time' (Record: 15150937)...\n"
     ]
    },
    {
     "name": "stdout",
     "output_type": "stream",
     "text": [
      "Checking 'GloBIAS in-person workshop 2024' (Record: 15168241)...\n"
     ]
    },
    {
     "name": "stdout",
     "output_type": "stream",
     "text": [
      "Checking 'Modular training resources for bioimage analysis' (Record: 14710820)...\n"
     ]
    },
    {
     "name": "stdout",
     "output_type": "stream",
     "text": [
      "Checking 'OMExcavator: a tool for exporting and connecting domain-specific metadata in a wider knowledge graph' (Record: 15268798)...\n"
     ]
    },
    {
     "name": "stdout",
     "output_type": "stream",
     "text": [
      "Checking 'OMExcavator: a tool for exporting and connecting  Bioimaging-specific metadata in wider knowledge graphs' (Record: 15423904)...\n"
     ]
    },
    {
     "name": "stdout",
     "output_type": "stream",
     "text": [
      "Checking 'Introduction to OMERO - Frankfurt - online' (Record: 15152576)...\n"
     ]
    },
    {
     "name": "stdout",
     "output_type": "stream",
     "text": [
      "  -> Flagging 'Introduction to OMERO - Frankfurt - online' as Slides.\n",
      "Checking 'Image Repository Decision Tree - Where do I deposit my imaging data' (Record: 15425770)...\n"
     ]
    },
    {
     "name": "stdout",
     "output_type": "stream",
     "text": [
      "  -> Flagging 'Image Repository Decision Tree - Where do I deposit my imaging data' as Slides.\n",
      "Checking 'Gut Analysis Toolbox: Training data and 2D models for segmenting enteric neurons, neuronal subtypes and ganglia' (Record: 15314214)...\n"
     ]
    },
    {
     "name": "stdout",
     "output_type": "stream",
     "text": [
      "Checking '.lif files misbehaving in fiji but fine in LASX' (Record: 15353569)...\n"
     ]
    },
    {
     "name": "stdout",
     "output_type": "stream",
     "text": [
      "Checking 'Bio-image Data Science Lectures 2025 @ Uni Leipzig / ScaDS.AI' (Record: 15546497)...\n"
     ]
    },
    {
     "name": "stdout",
     "output_type": "stream",
     "text": [
      "  -> Flagging 'Bio-image Data Science Lectures 2025 @ Uni Leipzig / ScaDS.AI' as Slides.\n",
      "Checking 'Collaborative working and  Version Control with Git[Hub]' (Record: 15379632)...\n"
     ]
    },
    {
     "name": "stdout",
     "output_type": "stream",
     "text": [
      "  -> Flagging 'Collaborative working and  Version Control with Git[Hub]' as Slides.\n",
      "Checking 'Learning and Training Bio-image Analysis in the Age of AI' (Record: 15165424)...\n"
     ]
    },
    {
     "name": "stdout",
     "output_type": "stream",
     "text": [
      "  -> Flagging 'Learning and Training Bio-image Analysis in the Age of AI' as Slides.\n",
      "Checking 'Explainable AI for Computer Vision' (Record: 14996127)...\n"
     ]
    },
    {
     "name": "stdout",
     "output_type": "stream",
     "text": [
      "  -> Flagging 'Explainable AI for Computer Vision' as Slides.\n",
      "Checking '[NFDI Tech Talk] Cloud Based Image Science' (Record: 15575379)...\n"
     ]
    },
    {
     "name": "stdout",
     "output_type": "stream",
     "text": [
      "  -> Flagging '[NFDI Tech Talk] Cloud Based Image Science' as Slides.\n",
      "Checking '[ELMI2025] Bridging communities with OME-Zarr' (Record: 15393592)...\n"
     ]
    },
    {
     "name": "stdout",
     "output_type": "stream",
     "text": [
      "Checking 'Towards open and standardised imaging data: an introduction to Bio-Formats, OME-TIFF, and OME-Zarr' (Record: 15479606)...\n"
     ]
    },
    {
     "name": "stderr",
     "output_type": "stream",
     "text": [
      "Ignoring wrong pointing object 10 0 (offset 0)\n"
     ]
    },
    {
     "name": "stderr",
     "output_type": "stream",
     "text": [
      "Ignoring wrong pointing object 71 0 (offset 0)\n"
     ]
    },
    {
     "name": "stderr",
     "output_type": "stream",
     "text": [
      "Ignoring wrong pointing object 247 0 (offset 0)\n"
     ]
    },
    {
     "name": "stderr",
     "output_type": "stream",
     "text": [
      "Ignoring wrong pointing object 301 0 (offset 0)\n"
     ]
    },
    {
     "name": "stderr",
     "output_type": "stream",
     "text": [
      "Ignoring wrong pointing object 308 0 (offset 0)\n"
     ]
    },
    {
     "name": "stderr",
     "output_type": "stream",
     "text": [
      "Ignoring wrong pointing object 424 0 (offset 0)\n"
     ]
    },
    {
     "name": "stderr",
     "output_type": "stream",
     "text": [
      "Ignoring wrong pointing object 500 0 (offset 0)\n"
     ]
    },
    {
     "name": "stderr",
     "output_type": "stream",
     "text": [
      "Ignoring wrong pointing object 516 0 (offset 0)\n"
     ]
    },
    {
     "name": "stderr",
     "output_type": "stream",
     "text": [
      "Ignoring wrong pointing object 518 0 (offset 0)\n"
     ]
    },
    {
     "name": "stderr",
     "output_type": "stream",
     "text": [
      "Ignoring wrong pointing object 543 0 (offset 0)\n"
     ]
    },
    {
     "name": "stderr",
     "output_type": "stream",
     "text": [
      "Ignoring wrong pointing object 669 0 (offset 0)\n"
     ]
    },
    {
     "name": "stderr",
     "output_type": "stream",
     "text": [
      "Ignoring wrong pointing object 670 0 (offset 0)\n"
     ]
    },
    {
     "name": "stdout",
     "output_type": "stream",
     "text": [
      "  -> Flagging 'Towards open and standardised imaging data: an introduction to Bio-Formats, OME-TIFF, and OME-Zarr' as Slides.\n",
      "Checking 'Nd2 does not open in Fiji Bio_formats 8.1.1 (additional files)' (Record: 15493140)...\n"
     ]
    },
    {
     "name": "stdout",
     "output_type": "stream",
     "text": [
      "Checking 'Nd2 does not open in Fiji Bio_formats 8.1.1' (Record: 15579371)...\n"
     ]
    },
    {
     "name": "stdout",
     "output_type": "stream",
     "text": [
      "Checking '[ELMI2025] The Road to OME-Zarr 1.0' (Record: 15597856)...\n"
     ]
    },
    {
     "name": "stderr",
     "output_type": "stream",
     "text": [
      "Ignoring wrong pointing object 10 0 (offset 0)\n"
     ]
    },
    {
     "name": "stderr",
     "output_type": "stream",
     "text": [
      "Ignoring wrong pointing object 34 0 (offset 0)\n"
     ]
    },
    {
     "name": "stderr",
     "output_type": "stream",
     "text": [
      "Ignoring wrong pointing object 75 0 (offset 0)\n"
     ]
    },
    {
     "name": "stderr",
     "output_type": "stream",
     "text": [
      "Ignoring wrong pointing object 79 0 (offset 0)\n"
     ]
    },
    {
     "name": "stderr",
     "output_type": "stream",
     "text": [
      "Ignoring wrong pointing object 142 0 (offset 0)\n"
     ]
    },
    {
     "name": "stderr",
     "output_type": "stream",
     "text": [
      "Ignoring wrong pointing object 225 0 (offset 0)\n"
     ]
    },
    {
     "name": "stderr",
     "output_type": "stream",
     "text": [
      "Ignoring wrong pointing object 301 0 (offset 0)\n"
     ]
    },
    {
     "name": "stderr",
     "output_type": "stream",
     "text": [
      "Ignoring wrong pointing object 302 0 (offset 0)\n"
     ]
    },
    {
     "name": "stdout",
     "output_type": "stream",
     "text": [
      "  -> Flagging '[ELMI2025] The Road to OME-Zarr 1.0' as Slides.\n",
      "Checking '[ELMI2025] Workshop: FAIR101 - Navigating FAIR data from principles to practice' (Record: 15647102)...\n"
     ]
    },
    {
     "name": "stdout",
     "output_type": "stream",
     "text": [
      "  -> Flagging '[ELMI2025] Workshop: FAIR101 - Navigating FAIR data from principles to practice' as Slides.\n",
      "Checking 'Navigating the Bioimage Analysis Landscape: Understanding the Community  and its Collaborative Dynamics' (Record: 12584729)...\n"
     ]
    },
    {
     "name": "stdout",
     "output_type": "stream",
     "text": [
      "  -> Flagging 'Navigating the Bioimage Analysis Landscape: Understanding the Community  and its Collaborative Dynamics' as Slides.\n",
      "Checking 'WHAT NOT TO DO WHEN CREATING A DATA MANAGEMENT PLAN (DMP)' (Record: 15402904)...\n"
     ]
    },
    {
     "name": "stdout",
     "output_type": "stream",
     "text": [
      "Checking 'Expansion and fluctuations-enhanced microscopy for nanoscale molecular profiling of cells and tissues - Data processing manual' (Record: 13897937)...\n"
     ]
    },
    {
     "name": "stdout",
     "output_type": "stream",
     "text": [
      "Checking '[Webinar] A journey to FAIR bioimage data' (Record: 15796252)...\n"
     ]
    },
    {
     "name": "stdout",
     "output_type": "stream",
     "text": [
      "  -> Flagging '[Webinar] A journey to FAIR bioimage data' as Slides.\n",
      "Checking 'Bio-image Data Science Lectures 2025 @ Uni Leipzig / ScaDS.AI' (Record: 15793536)...\n"
     ]
    },
    {
     "name": "stdout",
     "output_type": "stream",
     "text": [
      "  -> Flagging 'Bio-image Data Science Lectures 2025 @ Uni Leipzig / ScaDS.AI' as Slides.\n",
      "Checking 'Accessible Interactive Spatial-Omics Data Visualizations with Vitessce and OMERO' (Record: 15771899)...\n"
     ]
    },
    {
     "name": "stdout",
     "output_type": "stream",
     "text": [
      "  -> Flagging 'Accessible Interactive Spatial-Omics Data Visualizations with Vitessce and OMERO' as Slides.\n",
      "Checking 'Building a National Research Data Infrastructure \n",
      "for Microscopy and BioImage Analysis' (Record: 15756866)...\n"
     ]
    },
    {
     "name": "stderr",
     "output_type": "stream",
     "text": [
      "Ignoring wrong pointing object 12 0 (offset 0)\n"
     ]
    },
    {
     "name": "stderr",
     "output_type": "stream",
     "text": [
      "Ignoring wrong pointing object 148 0 (offset 0)\n"
     ]
    },
    {
     "name": "stderr",
     "output_type": "stream",
     "text": [
      "Ignoring wrong pointing object 287 0 (offset 0)\n"
     ]
    },
    {
     "name": "stderr",
     "output_type": "stream",
     "text": [
      "Ignoring wrong pointing object 288 0 (offset 0)\n"
     ]
    },
    {
     "name": "stdout",
     "output_type": "stream",
     "text": [
      "  -> Flagging 'Building a National Research Data Infrastructure \n",
      "for Microscopy and BioImage Analysis' as Slides.\n",
      "Checking 'Vision Language Models for Bio-image Data Science' (Record: 15735577)...\n"
     ]
    },
    {
     "name": "stdout",
     "output_type": "stream",
     "text": [
      "  -> Flagging 'Vision Language Models for Bio-image Data Science' as Slides.\n",
      "Checking 'Masterclasses from the Euro-Bioimaging EVOLVE Mentoring programme 2025' (Record: 15747344)...\n"
     ]
    },
    {
     "name": "stdout",
     "output_type": "stream",
     "text": [
      "Checking 'ImageJ tool for percentage estimation of pneumonia in lungs' (Record: 15827771)...\n"
     ]
    },
    {
     "name": "stdout",
     "output_type": "stream",
     "text": [
      "Checking 'Interactive Bioimage Analysis Workflow with CLIJ (@EABIAS 2025 training event)' (Record: 15070246)...\n"
     ]
    },
    {
     "name": "stdout",
     "output_type": "stream",
     "text": [
      "  -> Flagging 'Interactive Bioimage Analysis Workflow with CLIJ (@EABIAS 2025 training event)' as Slides.\n",
      "Checking 'Bio-image Data Science Lectures 2025 @ Uni Leipzig / ScaDS.AI' (Record: 15858127)...\n"
     ]
    },
    {
     "name": "stdout",
     "output_type": "stream",
     "text": [
      "  -> Flagging 'Bio-image Data Science Lectures 2025 @ Uni Leipzig / ScaDS.AI' as Slides.\n",
      "Checking 'Masterclasses from the Euro-Bioimaging EVOLVE Mentoring programme 2025' (Record: 15837532)...\n"
     ]
    },
    {
     "name": "stdout",
     "output_type": "stream",
     "text": [
      "Checking 'BioImage Analysis and Superresolution Microscopy Workshop 2023 (at Dartmouth College)' (Record: 8025067)...\n"
     ]
    },
    {
     "name": "stdout",
     "output_type": "stream",
     "text": [
      "  -> Flagging 'BioImage Analysis and Superresolution Microscopy Workshop 2023 (at Dartmouth College)' as Slides.\n",
      "Checking 'Internal ALM BioImage Analysis workshop 2023' (Record: 10205578)...\n"
     ]
    },
    {
     "name": "stderr",
     "output_type": "stream",
     "text": [
      "Ignoring wrong pointing object 7 0 (offset 0)\n"
     ]
    },
    {
     "name": "stderr",
     "output_type": "stream",
     "text": [
      "Ignoring wrong pointing object 9 0 (offset 0)\n"
     ]
    },
    {
     "name": "stderr",
     "output_type": "stream",
     "text": [
      "Ignoring wrong pointing object 17 0 (offset 0)\n"
     ]
    },
    {
     "name": "stderr",
     "output_type": "stream",
     "text": [
      "Ignoring wrong pointing object 19 0 (offset 0)\n"
     ]
    },
    {
     "name": "stderr",
     "output_type": "stream",
     "text": [
      "Ignoring wrong pointing object 21 0 (offset 0)\n"
     ]
    },
    {
     "name": "stderr",
     "output_type": "stream",
     "text": [
      "Ignoring wrong pointing object 31 0 (offset 0)\n"
     ]
    },
    {
     "name": "stderr",
     "output_type": "stream",
     "text": [
      "Ignoring wrong pointing object 37 0 (offset 0)\n"
     ]
    },
    {
     "name": "stderr",
     "output_type": "stream",
     "text": [
      "Ignoring wrong pointing object 85 0 (offset 0)\n"
     ]
    },
    {
     "name": "stderr",
     "output_type": "stream",
     "text": [
      "Ignoring wrong pointing object 89 0 (offset 0)\n"
     ]
    },
    {
     "name": "stderr",
     "output_type": "stream",
     "text": [
      "Ignoring wrong pointing object 95 0 (offset 0)\n"
     ]
    },
    {
     "name": "stderr",
     "output_type": "stream",
     "text": [
      "Ignoring wrong pointing object 132 0 (offset 0)\n"
     ]
    },
    {
     "name": "stdout",
     "output_type": "stream",
     "text": [
      "  -> Flagging 'Internal ALM BioImage Analysis workshop 2023' as Slides.\n",
      "Checking 'Open source AI Tools for bioimage analysis workshop (2024) @ICOB, Academia Sinica, Taiwan' (Record: 13284351)...\n"
     ]
    },
    {
     "name": "stdout",
     "output_type": "stream",
     "text": [
      "  -> Flagging 'Open source AI Tools for bioimage analysis workshop (2024) @ICOB, Academia Sinica, Taiwan' as Slides.\n",
      "Checking 'FAQ Künstliche Intelligenz und gute wissenschaftliche Praxis' (Record: 14045172)...\n"
     ]
    },
    {
     "name": "stdout",
     "output_type": "stream",
     "text": [
      "Checking 'DNG in BioFormat opens in wrong resolution' (Record: 15933943)...\n"
     ]
    }
   ],
   "source": [
    "modified_entries_count = 0\n",
    "for entry in data['resources']:\n",
    "    if 'type' not in entry or not entry['type']:\n",
    "        urls = entry.get('url', [])\n",
    "        if not isinstance(urls, list):\n",
    "            urls = [urls]\n",
    "\n",
    "        for url in urls:\n",
    "            record_id = get_record_id(url)\n",
    "            if record_id:\n",
    "                print(f\"Checking '{entry['name']}' (Record: {record_id})...\")\n",
    "                if contains_powerpoint(record_id) or contains_landscape_pdf(record_id):\n",
    "                    print(f\"  -> Flagging '{entry['name']}' as Slides.\")\n",
    "                    entry['type'] = 'Slides'\n",
    "                    modified_entries_count += 1\n",
    "                    break"
   ]
  },
  {
   "cell_type": "markdown",
   "metadata": {},
   "source": [
    "### Save Changes\n",
    "\n",
    "Finally, if any entries were modified, we write the updated data structure back to the `nfdi4bioimage.yml` file. This will overwrite the original file."
   ]
  },
  {
   "cell_type": "code",
   "execution_count": 6,
   "metadata": {
    "execution": {
     "iopub.execute_input": "2025-08-04T17:57:06.105784Z",
     "iopub.status.busy": "2025-08-04T17:57:06.105616Z",
     "iopub.status.idle": "2025-08-04T17:57:07.008614Z",
     "shell.execute_reply": "2025-08-04T17:57:07.008099Z"
    }
   },
   "outputs": [
    {
     "name": "stdout",
     "output_type": "stream",
     "text": [
      "\n",
      "Successfully updated 79 entries in ../resources/nfdi4bioimage.yml.\n"
     ]
    }
   ],
   "source": [
    "if modified_entries_count > 0:\n",
    "    with open(yml_path, 'w', encoding='utf-8') as f:\n",
    "        yaml_loader.dump(data, f)\n",
    "    print(f\"\\nSuccessfully updated {modified_entries_count} entries in {yml_path}.\")\n",
    "else:\n",
    "    print(\"\\nNo entries were updated.\")"
   ]
  }
 ],
 "metadata": {
  "language_info": {
   "codemirror_mode": {
    "name": "ipython",
    "version": 3
   },
   "file_extension": ".py",
   "mimetype": "text/x-python",
   "name": "python",
   "nbconvert_exporter": "python",
   "pygments_lexer": "ipython3",
   "version": "3.13.5"
  }
 },
 "nbformat": 4,
 "nbformat_minor": 4
}
