{
 "cells": [
  {
   "cell_type": "markdown",
   "id": "3a0e163d",
   "metadata": {},
   "source": [
    "### Load necessary libraries\n",
    "We will use `yaml` to parse the YAML file and `collections.Counter` to count URL occurrences."
   ]
  },
  {
   "cell_type": "code",
   "execution_count": 1,
   "id": "441434e7",
   "metadata": {
    "execution": {
     "iopub.execute_input": "2025-02-16T19:15:13.182841Z",
     "iopub.status.busy": "2025-02-16T19:15:13.182661Z",
     "iopub.status.idle": "2025-02-16T19:15:13.199686Z",
     "shell.execute_reply": "2025-02-16T19:15:13.199208Z"
    }
   },
   "outputs": [],
   "source": [
    "import yaml\n",
    "from collections import Counter\n",
    "from pathlib import Path"
   ]
  },
  {
   "cell_type": "markdown",
   "id": "6d55e4db",
   "metadata": {},
   "source": [
    "### Define a function to extract URLs from the YAML file\n",
    "The function will recursively navigate through the nested data structure and collect all URLs."
   ]
  },
  {
   "cell_type": "code",
   "execution_count": 2,
   "id": "ca492a57",
   "metadata": {
    "execution": {
     "iopub.execute_input": "2025-02-16T19:15:13.201473Z",
     "iopub.status.busy": "2025-02-16T19:15:13.201136Z",
     "iopub.status.idle": "2025-02-16T19:15:13.204999Z",
     "shell.execute_reply": "2025-02-16T19:15:13.204423Z"
    }
   },
   "outputs": [],
   "source": [
    "def extract_urls(data):\n",
    "    urls = []\n",
    "    if isinstance(data, dict):\n",
    "        for key, value in data.items():\n",
    "            if key == \"url\":\n",
    "                if isinstance(value, list):\n",
    "                    urls.extend(value)\n",
    "                elif isinstance(value, str):\n",
    "                    urls.append(value)\n",
    "            else:\n",
    "                urls.extend(extract_urls(value))\n",
    "    elif isinstance(data, list):\n",
    "        for item in data:\n",
    "            urls.extend(extract_urls(item))\n",
    "    return urls"
   ]
  },
  {
   "cell_type": "markdown",
   "id": "177af3c1",
   "metadata": {},
   "source": [
    "### Load the YAML file\n",
    "Parse the YAML file to prepare the data for URL extraction."
   ]
  },
  {
   "cell_type": "code",
   "execution_count": 3,
   "id": "25e6dfc0",
   "metadata": {
    "execution": {
     "iopub.execute_input": "2025-02-16T19:15:13.206921Z",
     "iopub.status.busy": "2025-02-16T19:15:13.206494Z",
     "iopub.status.idle": "2025-02-16T19:15:13.708244Z",
     "shell.execute_reply": "2025-02-16T19:15:13.707636Z"
    }
   },
   "outputs": [],
   "source": [
    "yml_file = Path(\"../resources/nfdi4bioimage.yml\")\n",
    "with open(yml_file, 'r') as file:\n",
    "    data = yaml.safe_load(file)"
   ]
  },
  {
   "cell_type": "markdown",
   "id": "b3fa4f5b",
   "metadata": {},
   "source": [
    "### Extract all URLs from the loaded data\n",
    "Use the `extract_urls` function to collect all URLs within the YAML structure."
   ]
  },
  {
   "cell_type": "code",
   "execution_count": 4,
   "id": "b5637534",
   "metadata": {
    "execution": {
     "iopub.execute_input": "2025-02-16T19:15:13.710566Z",
     "iopub.status.busy": "2025-02-16T19:15:13.710212Z",
     "iopub.status.idle": "2025-02-16T19:15:13.714452Z",
     "shell.execute_reply": "2025-02-16T19:15:13.714025Z"
    }
   },
   "outputs": [],
   "source": [
    "urls = extract_urls(data)"
   ]
  },
  {
   "cell_type": "markdown",
   "id": "86295de7",
   "metadata": {},
   "source": [
    "### Identify duplicate URLs\n",
    "Use `collections.Counter` to count occurrences of each URL and filter duplicates."
   ]
  },
  {
   "cell_type": "code",
   "execution_count": 5,
   "id": "7e7b82e4",
   "metadata": {
    "execution": {
     "iopub.execute_input": "2025-02-16T19:15:13.716303Z",
     "iopub.status.busy": "2025-02-16T19:15:13.715900Z",
     "iopub.status.idle": "2025-02-16T19:15:13.718997Z",
     "shell.execute_reply": "2025-02-16T19:15:13.718539Z"
    }
   },
   "outputs": [],
   "source": [
    "duplicates = [url for url, count in Counter(urls).items() if count > 1]"
   ]
  },
  {
   "cell_type": "markdown",
   "id": "b0b8b9a4",
   "metadata": {},
   "source": [
    "### Save duplicate URLs to a file\n",
    "Save the duplicate URLs to a text file for further inspection."
   ]
  },
  {
   "cell_type": "code",
   "execution_count": 6,
   "id": "bfb6e196",
   "metadata": {
    "execution": {
     "iopub.execute_input": "2025-02-16T19:15:13.720589Z",
     "iopub.status.busy": "2025-02-16T19:15:13.720394Z",
     "iopub.status.idle": "2025-02-16T19:15:13.897465Z",
     "shell.execute_reply": "2025-02-16T19:15:13.896683Z"
    }
   },
   "outputs": [
    {
     "ename": "FileNotFoundError",
     "evalue": "[Errno 2] No such file or directory: '../results/duplicate_urls.txt'",
     "output_type": "error",
     "traceback": [
      "\u001b[0;31m---------------------------------------------------------------------------\u001b[0m",
      "\u001b[0;31mFileNotFoundError\u001b[0m                         Traceback (most recent call last)",
      "Cell \u001b[0;32mIn[6], line 2\u001b[0m\n\u001b[1;32m      1\u001b[0m output_file \u001b[38;5;241m=\u001b[39m Path(\u001b[38;5;124m\"\u001b[39m\u001b[38;5;124m../results/duplicate_urls.txt\u001b[39m\u001b[38;5;124m\"\u001b[39m)\n\u001b[0;32m----> 2\u001b[0m \u001b[38;5;28;01mwith\u001b[39;00m \u001b[38;5;28;43mopen\u001b[39;49m\u001b[43m(\u001b[49m\u001b[43moutput_file\u001b[49m\u001b[43m,\u001b[49m\u001b[43m \u001b[49m\u001b[38;5;124;43m'\u001b[39;49m\u001b[38;5;124;43mw\u001b[39;49m\u001b[38;5;124;43m'\u001b[39;49m\u001b[43m)\u001b[49m \u001b[38;5;28;01mas\u001b[39;00m file:\n\u001b[1;32m      3\u001b[0m     file\u001b[38;5;241m.\u001b[39mwrite(\u001b[38;5;124m\"\u001b[39m\u001b[38;5;130;01m\\n\u001b[39;00m\u001b[38;5;124m\"\u001b[39m\u001b[38;5;241m.\u001b[39mjoin(duplicates))\n",
      "File \u001b[0;32m/opt/hostedtoolcache/Python/3.13.2/x64/lib/python3.13/site-packages/IPython/core/interactiveshell.py:324\u001b[0m, in \u001b[0;36m_modified_open\u001b[0;34m(file, *args, **kwargs)\u001b[0m\n\u001b[1;32m    317\u001b[0m \u001b[38;5;28;01mif\u001b[39;00m file \u001b[38;5;129;01min\u001b[39;00m {\u001b[38;5;241m0\u001b[39m, \u001b[38;5;241m1\u001b[39m, \u001b[38;5;241m2\u001b[39m}:\n\u001b[1;32m    318\u001b[0m     \u001b[38;5;28;01mraise\u001b[39;00m \u001b[38;5;167;01mValueError\u001b[39;00m(\n\u001b[1;32m    319\u001b[0m         \u001b[38;5;124mf\u001b[39m\u001b[38;5;124m\"\u001b[39m\u001b[38;5;124mIPython won\u001b[39m\u001b[38;5;124m'\u001b[39m\u001b[38;5;124mt let you open fd=\u001b[39m\u001b[38;5;132;01m{\u001b[39;00mfile\u001b[38;5;132;01m}\u001b[39;00m\u001b[38;5;124m by default \u001b[39m\u001b[38;5;124m\"\u001b[39m\n\u001b[1;32m    320\u001b[0m         \u001b[38;5;124m\"\u001b[39m\u001b[38;5;124mas it is likely to crash IPython. If you know what you are doing, \u001b[39m\u001b[38;5;124m\"\u001b[39m\n\u001b[1;32m    321\u001b[0m         \u001b[38;5;124m\"\u001b[39m\u001b[38;5;124myou can use builtins\u001b[39m\u001b[38;5;124m'\u001b[39m\u001b[38;5;124m open.\u001b[39m\u001b[38;5;124m\"\u001b[39m\n\u001b[1;32m    322\u001b[0m     )\n\u001b[0;32m--> 324\u001b[0m \u001b[38;5;28;01mreturn\u001b[39;00m \u001b[43mio_open\u001b[49m\u001b[43m(\u001b[49m\u001b[43mfile\u001b[49m\u001b[43m,\u001b[49m\u001b[43m \u001b[49m\u001b[38;5;241;43m*\u001b[39;49m\u001b[43margs\u001b[49m\u001b[43m,\u001b[49m\u001b[43m \u001b[49m\u001b[38;5;241;43m*\u001b[39;49m\u001b[38;5;241;43m*\u001b[39;49m\u001b[43mkwargs\u001b[49m\u001b[43m)\u001b[49m\n",
      "\u001b[0;31mFileNotFoundError\u001b[0m: [Errno 2] No such file or directory: '../results/duplicate_urls.txt'"
     ]
    }
   ],
   "source": [
    "output_file = Path(\"../results/duplicate_urls.txt\")\n",
    "with open(output_file, 'w') as file:\n",
    "    file.write(\"\\n\".join(duplicates))"
   ]
  }
 ],
 "metadata": {
  "language_info": {
   "codemirror_mode": {
    "name": "ipython",
    "version": 3
   },
   "file_extension": ".py",
   "mimetype": "text/x-python",
   "name": "python",
   "nbconvert_exporter": "python",
   "pygments_lexer": "ipython3",
   "version": "3.13.2"
  }
 },
 "nbformat": 4,
 "nbformat_minor": 5
}