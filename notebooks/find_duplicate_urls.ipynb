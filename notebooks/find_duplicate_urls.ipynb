{
 "cells": [
  {
   "cell_type": "markdown",
   "id": "introduction",
   "metadata": {},
   "source": [
    "### Introduction\n",
    "This notebook analyzes a YAML file (`resources/nfdi4bioimage.yml`) to extract and identify duplicate URLs. It also counts the total number of URLs and the number of duplicates."
   ]
  },
  {
   "cell_type": "code",
   "execution_count": 1,
   "id": "importing-libraries",
   "metadata": {
    "execution": {
     "iopub.execute_input": "2025-02-16T19:21:03.559463Z",
     "iopub.status.busy": "2025-02-16T19:21:03.559279Z",
     "iopub.status.idle": "2025-02-16T19:21:03.583306Z",
     "shell.execute_reply": "2025-02-16T19:21:03.582794Z"
    }
   },
   "outputs": [],
   "source": [
    "import yaml\n",
    "from collections import Counter\n",
    "from pathlib import Path"
   ]
  },
  {
   "cell_type": "markdown",
   "id": "load-data",
   "metadata": {},
   "source": [
    "### Load the YAML file\n",
    "Load the content of the YAML file into a Python data structure."
   ]
  },
  {
   "cell_type": "code",
   "execution_count": 2,
   "id": "loading-file",
   "metadata": {
    "execution": {
     "iopub.execute_input": "2025-02-16T19:21:03.585766Z",
     "iopub.status.busy": "2025-02-16T19:21:03.585254Z",
     "iopub.status.idle": "2025-02-16T19:21:04.080952Z",
     "shell.execute_reply": "2025-02-16T19:21:04.080309Z"
    }
   },
   "outputs": [],
   "source": [
    "yml_file = Path(\"../resources/nfdi4bioimage.yml\")\n",
    "with open(yml_file, 'r') as file:\n",
    "    data = yaml.safe_load(file)"
   ]
  },
  {
   "cell_type": "markdown",
   "id": "define-function",
   "metadata": {},
   "source": [
    "### Define a function to extract URLs\n",
    "This function recursively navigates through the nested YAML structure to find all URLs."
   ]
  },
  {
   "cell_type": "code",
   "execution_count": 3,
   "id": "extract-urls",
   "metadata": {
    "execution": {
     "iopub.execute_input": "2025-02-16T19:21:04.083051Z",
     "iopub.status.busy": "2025-02-16T19:21:04.082814Z",
     "iopub.status.idle": "2025-02-16T19:21:04.086660Z",
     "shell.execute_reply": "2025-02-16T19:21:04.086225Z"
    }
   },
   "outputs": [],
   "source": [
    "def extract_urls(data):\n",
    "    urls = []\n",
    "    if isinstance(data, dict):\n",
    "        for key, value in data.items():\n",
    "            if key == \"url\":\n",
    "                if isinstance(value, list):\n",
    "                    urls.extend(value)\n",
    "                elif isinstance(value, str):\n",
    "                    urls.append(value)\n",
    "            else:\n",
    "                urls.extend(extract_urls(value))\n",
    "    elif isinstance(data, list):\n",
    "        for item in data:\n",
    "            urls.extend(extract_urls(item))\n",
    "    return urls"
   ]
  },
  {
   "cell_type": "markdown",
   "id": "extract-and-count",
   "metadata": {},
   "source": [
    "### Extract URLs and identify duplicates\n",
    "Extract all URLs using the defined function and count their occurrences. Identify duplicates if any exist."
   ]
  },
  {
   "cell_type": "code",
   "execution_count": 4,
   "id": "count-urls",
   "metadata": {
    "execution": {
     "iopub.execute_input": "2025-02-16T19:21:04.088414Z",
     "iopub.status.busy": "2025-02-16T19:21:04.088070Z",
     "iopub.status.idle": "2025-02-16T19:21:04.092636Z",
     "shell.execute_reply": "2025-02-16T19:21:04.092211Z"
    }
   },
   "outputs": [],
   "source": [
    "urls = extract_urls(data)\n",
    "url_counts = Counter(urls)\n",
    "duplicates = [url for url, count in url_counts.items() if count > 1]"
   ]
  },
  {
   "cell_type": "markdown",
   "id": "print-results",
   "metadata": {},
   "source": [
    "### Print the results\n",
    "Display the total number of URLs, the number of duplicates, and the duplicate URLs themselves."
   ]
  },
  {
   "cell_type": "code",
   "execution_count": 5,
   "id": "display-results",
   "metadata": {
    "execution": {
     "iopub.execute_input": "2025-02-16T19:21:04.094290Z",
     "iopub.status.busy": "2025-02-16T19:21:04.093966Z",
     "iopub.status.idle": "2025-02-16T19:21:04.097463Z",
     "shell.execute_reply": "2025-02-16T19:21:04.097004Z"
    }
   },
   "outputs": [
    {
     "name": "stdout",
     "output_type": "stream",
     "text": [
      "Total URLs found: 769\n",
      "Number of duplicate URLs: 0\n",
      "Duplicate URLs:\n"
     ]
    }
   ],
   "source": [
    "print(f\"Total URLs found: {len(urls)}\")\n",
    "print(f\"Number of duplicate URLs: {len(duplicates)}\")\n",
    "print(\"Duplicate URLs:\")\n",
    "for duplicate in duplicates:\n",
    "    print(duplicate)"
   ]
  }
 ],
 "metadata": {
  "language_info": {
   "codemirror_mode": {
    "name": "ipython",
    "version": 3
   },
   "file_extension": ".py",
   "mimetype": "text/x-python",
   "name": "python",
   "nbconvert_exporter": "python",
   "pygments_lexer": "ipython3",
   "version": "3.13.2"
  }
 },
 "nbformat": 4,
 "nbformat_minor": 5
}
