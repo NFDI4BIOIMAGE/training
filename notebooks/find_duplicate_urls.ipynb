{
 "cells": [
  {
   "cell_type": "markdown",
   "id": "3a0e163d",
   "metadata": {},
   "source": [
    "### Load necessary libraries\n",
    "We will use `yaml` to parse the YAML file and `collections.Counter` to count URL occurrences."
   ]
  },
  {
   "cell_type": "code",
   "execution_count": 1,
   "id": "441434e7",
   "metadata": {
    "execution": {
     "iopub.execute_input": "2025-02-16T19:15:36.272062Z",
     "iopub.status.busy": "2025-02-16T19:15:36.271884Z",
     "iopub.status.idle": "2025-02-16T19:15:36.288685Z",
     "shell.execute_reply": "2025-02-16T19:15:36.288121Z"
    }
   },
   "outputs": [],
   "source": [
    "import yaml\n",
    "from collections import Counter\n",
    "from pathlib import Path\n",
    "import os"
   ]
  },
  {
   "cell_type": "markdown",
   "id": "6d55e4db",
   "metadata": {},
   "source": [
    "### Define a function to extract URLs from the YAML file\n",
    "The function will recursively navigate through the nested data structure and collect all URLs."
   ]
  },
  {
   "cell_type": "code",
   "execution_count": 2,
   "id": "ca492a57",
   "metadata": {
    "execution": {
     "iopub.execute_input": "2025-02-16T19:15:36.290850Z",
     "iopub.status.busy": "2025-02-16T19:15:36.290345Z",
     "iopub.status.idle": "2025-02-16T19:15:36.294038Z",
     "shell.execute_reply": "2025-02-16T19:15:36.293595Z"
    }
   },
   "outputs": [],
   "source": [
    "def extract_urls(data):\n",
    "    urls = []\n",
    "    if isinstance(data, dict):\n",
    "        for key, value in data.items():\n",
    "            if key == \"url\":\n",
    "                if isinstance(value, list):\n",
    "                    urls.extend(value)\n",
    "                elif isinstance(value, str):\n",
    "                    urls.append(value)\n",
    "            else:\n",
    "                urls.extend(extract_urls(value))\n",
    "    elif isinstance(data, list):\n",
    "        for item in data:\n",
    "            urls.extend(extract_urls(item))\n",
    "    return urls"
   ]
  },
  {
   "cell_type": "markdown",
   "id": "177af3c1",
   "metadata": {},
   "source": [
    "### Load the YAML file\n",
    "Parse the YAML file to prepare the data for URL extraction."
   ]
  },
  {
   "cell_type": "code",
   "execution_count": 3,
   "id": "25e6dfc0",
   "metadata": {
    "execution": {
     "iopub.execute_input": "2025-02-16T19:15:36.295645Z",
     "iopub.status.busy": "2025-02-16T19:15:36.295457Z",
     "iopub.status.idle": "2025-02-16T19:15:36.791379Z",
     "shell.execute_reply": "2025-02-16T19:15:36.790773Z"
    }
   },
   "outputs": [],
   "source": [
    "yml_file = Path(\"../resources/nfdi4bioimage.yml\")\n",
    "with open(yml_file, 'r') as file:\n",
    "    data = yaml.safe_load(file)"
   ]
  },
  {
   "cell_type": "markdown",
   "id": "b3fa4f5b",
   "metadata": {},
   "source": [
    "### Extract all URLs from the loaded data\n",
    "Use the `extract_urls` function to collect all URLs within the YAML structure."
   ]
  },
  {
   "cell_type": "code",
   "execution_count": 4,
   "id": "b5637534",
   "metadata": {
    "execution": {
     "iopub.execute_input": "2025-02-16T19:15:36.793569Z",
     "iopub.status.busy": "2025-02-16T19:15:36.793368Z",
     "iopub.status.idle": "2025-02-16T19:15:36.797845Z",
     "shell.execute_reply": "2025-02-16T19:15:36.797377Z"
    }
   },
   "outputs": [],
   "source": [
    "urls = extract_urls(data)"
   ]
  },
  {
   "cell_type": "markdown",
   "id": "86295de7",
   "metadata": {},
   "source": [
    "### Identify duplicate URLs\n",
    "Use `collections.Counter` to count occurrences of each URL and filter duplicates."
   ]
  },
  {
   "cell_type": "code",
   "execution_count": 5,
   "id": "7e7b82e4",
   "metadata": {
    "execution": {
     "iopub.execute_input": "2025-02-16T19:15:36.799447Z",
     "iopub.status.busy": "2025-02-16T19:15:36.799275Z",
     "iopub.status.idle": "2025-02-16T19:15:36.802314Z",
     "shell.execute_reply": "2025-02-16T19:15:36.801859Z"
    }
   },
   "outputs": [],
   "source": [
    "duplicates = [url for url, count in Counter(urls).items() if count > 1]"
   ]
  },
  {
   "cell_type": "markdown",
   "id": "b0b8b9a4",
   "metadata": {},
   "source": [
    "### Save duplicate URLs to a file\n",
    "Save the duplicate URLs to a text file for further inspection."
   ]
  },
  {
   "cell_type": "code",
   "execution_count": 6,
   "id": "bfb6e196",
   "metadata": {
    "execution": {
     "iopub.execute_input": "2025-02-16T19:15:36.803893Z",
     "iopub.status.busy": "2025-02-16T19:15:36.803723Z",
     "iopub.status.idle": "2025-02-16T19:15:36.807107Z",
     "shell.execute_reply": "2025-02-16T19:15:36.806696Z"
    }
   },
   "outputs": [],
   "source": [
    "output_file = Path(\"../results/duplicate_urls.txt\")\n",
    "os.makedirs(output_file.parent, exist_ok=True)\n",
    "with open(output_file, 'w') as file:\n",
    "    file.write(\"\\n\".join(duplicates))"
   ]
  }
 ],
 "metadata": {
  "language_info": {
   "codemirror_mode": {
    "name": "ipython",
    "version": 3
   },
   "file_extension": ".py",
   "mimetype": "text/x-python",
   "name": "python",
   "nbconvert_exporter": "python",
   "pygments_lexer": "ipython3",
   "version": "3.13.2"
  }
 },
 "nbformat": 4,
 "nbformat_minor": 5
}
