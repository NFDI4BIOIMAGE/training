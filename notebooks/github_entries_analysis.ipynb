{
 "cells": [
  {
   "cell_type": "markdown",
   "id": "808bf6cf",
   "metadata": {},
   "source": [
    "### Load the necessary libraries"
   ]
  },
  {
   "cell_type": "code",
   "execution_count": 1,
   "id": "8d23a45d",
   "metadata": {
    "execution": {
     "iopub.execute_input": "2024-10-21T18:18:46.049261Z",
     "iopub.status.busy": "2024-10-21T18:18:46.049062Z",
     "iopub.status.idle": "2024-10-21T18:18:46.069447Z",
     "shell.execute_reply": "2024-10-21T18:18:46.068798Z"
    }
   },
   "outputs": [],
   "source": [
    "import yaml"
   ]
  },
  {
   "cell_type": "markdown",
   "id": "01b41e8f",
   "metadata": {},
   "source": [
    "### Load the YAML file"
   ]
  },
  {
   "cell_type": "code",
   "execution_count": 2,
   "id": "c03272f9",
   "metadata": {
    "execution": {
     "iopub.execute_input": "2024-10-21T18:18:46.072120Z",
     "iopub.status.busy": "2024-10-21T18:18:46.071740Z",
     "iopub.status.idle": "2024-10-21T18:18:46.348945Z",
     "shell.execute_reply": "2024-10-21T18:18:46.348285Z"
    }
   },
   "outputs": [],
   "source": [
    "with open('../resources/nfdi4bioimage.yml', 'r') as file:\n",
    "    data = yaml.safe_load(file)"
   ]
  },
  {
   "cell_type": "markdown",
   "id": "43d00012",
   "metadata": {},
   "source": [
    "### Extract resources with 'github.com' in the URL"
   ]
  },
  {
   "cell_type": "code",
   "execution_count": 3,
   "id": "1753338d",
   "metadata": {
    "execution": {
     "iopub.execute_input": "2024-10-21T18:18:46.351246Z",
     "iopub.status.busy": "2024-10-21T18:18:46.351035Z",
     "iopub.status.idle": "2024-10-21T18:18:46.354227Z",
     "shell.execute_reply": "2024-10-21T18:18:46.353678Z"
    }
   },
   "outputs": [],
   "source": [
    "github_resources = [res for res in data['resources'] if 'github.com' in res['url']]"
   ]
  },
  {
   "cell_type": "markdown",
   "id": "cb4a288c",
   "metadata": {},
   "source": [
    "### Identify unique 'type' values"
   ]
  },
  {
   "cell_type": "code",
   "execution_count": 4,
   "id": "e2165bcf",
   "metadata": {
    "execution": {
     "iopub.execute_input": "2024-10-21T18:18:46.356081Z",
     "iopub.status.busy": "2024-10-21T18:18:46.355747Z",
     "iopub.status.idle": "2024-10-21T18:18:46.358880Z",
     "shell.execute_reply": "2024-10-21T18:18:46.358363Z"
    }
   },
   "outputs": [],
   "source": [
    "unique_types = set()\n",
    "for resource in github_resources:\n",
    "    unique_types.update(resource.get('type', []))"
   ]
  },
  {
   "cell_type": "markdown",
   "id": "9d9cb552",
   "metadata": {},
   "source": [
    "### Save the unique types to a CSV file"
   ]
  },
  {
   "cell_type": "code",
   "execution_count": 5,
   "id": "4a31b110",
   "metadata": {
    "execution": {
     "iopub.execute_input": "2024-10-21T18:18:46.360825Z",
     "iopub.status.busy": "2024-10-21T18:18:46.360403Z",
     "iopub.status.idle": "2024-10-21T18:18:46.672911Z",
     "shell.execute_reply": "2024-10-21T18:18:46.672394Z"
    }
   },
   "outputs": [],
   "source": [
    "import pandas as pd\n",
    "\n",
    "df_unique_types = pd.DataFrame(sorted(unique_types), columns=['Type'])\n",
    "df_unique_types.to_csv('github_unique_types.csv', index=False)"
   ]
  }
 ],
 "metadata": {
  "language_info": {
   "codemirror_mode": {
    "name": "ipython",
    "version": 3
   },
   "file_extension": ".py",
   "mimetype": "text/x-python",
   "name": "python",
   "nbconvert_exporter": "python",
   "pygments_lexer": "ipython3",
   "version": "3.12.7"
  }
 },
 "nbformat": 4,
 "nbformat_minor": 5
}
