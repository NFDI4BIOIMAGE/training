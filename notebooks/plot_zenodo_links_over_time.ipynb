{
 "cells": [
  {
   "cell_type": "markdown",
   "id": "2ebd1559",
   "metadata": {},
   "source": [
    "# Plot Number of Zenodo Links Over Time\n",
    "In this notebook, we will analyze multiple CSV files in the `download_statistics` folder and plot the number of records over time."
   ]
  },
  {
   "cell_type": "code",
   "execution_count": 1,
   "id": "ad0f70aa",
   "metadata": {
    "execution": {
     "iopub.execute_input": "2024-10-12T17:26:06.027793Z",
     "iopub.status.busy": "2024-10-12T17:26:06.027607Z",
     "iopub.status.idle": "2024-10-12T17:26:07.774003Z",
     "shell.execute_reply": "2024-10-12T17:26:07.773324Z"
    }
   },
   "outputs": [],
   "source": [
    "import pandas as pd\n",
    "import matplotlib.pyplot as plt\n",
    "from pathlib import Path"
   ]
  },
  {
   "cell_type": "markdown",
   "id": "4959ca6a",
   "metadata": {},
   "source": [
    "## Load Data\n",
    "Read all CSV files from the `download_statistics` directory and count the number of records in each file."
   ]
  },
  {
   "cell_type": "code",
   "execution_count": 2,
   "id": "7dc2c77e",
   "metadata": {
    "execution": {
     "iopub.execute_input": "2024-10-12T17:26:07.776381Z",
     "iopub.status.busy": "2024-10-12T17:26:07.776098Z",
     "iopub.status.idle": "2024-10-12T17:26:07.793359Z",
     "shell.execute_reply": "2024-10-12T17:26:07.792759Z"
    }
   },
   "outputs": [],
   "source": [
    "data_folder = Path('..') / 'download_statistics'\n",
    "files = list(data_folder.glob('*.csv'))\n",
    "\n",
    "records_count = []\n",
    "dates = []\n",
    "\n",
    "for file in files:\n",
    "    date = file.stem\n",
    "    data = pd.read_csv(file)\n",
    "    records_count.append(len(data))\n",
    "    dates.append(pd.to_datetime(date, format='%Y%m%d'))"
   ]
  },
  {
   "cell_type": "markdown",
   "id": "9cfbc292",
   "metadata": {},
   "source": [
    "## Create DataFrame\n",
    "Store the collected data in a DataFrame for easy manipulation and plotting."
   ]
  },
  {
   "cell_type": "code",
   "execution_count": 3,
   "id": "536de4d8",
   "metadata": {
    "execution": {
     "iopub.execute_input": "2024-10-12T17:26:07.795262Z",
     "iopub.status.busy": "2024-10-12T17:26:07.794922Z",
     "iopub.status.idle": "2024-10-12T17:26:07.805567Z",
     "shell.execute_reply": "2024-10-12T17:26:07.805018Z"
    }
   },
   "outputs": [
    {
     "data": {
      "text/html": [
       "<div>\n",
       "<style scoped>\n",
       "    .dataframe tbody tr th:only-of-type {\n",
       "        vertical-align: middle;\n",
       "    }\n",
       "\n",
       "    .dataframe tbody tr th {\n",
       "        vertical-align: top;\n",
       "    }\n",
       "\n",
       "    .dataframe thead th {\n",
       "        text-align: right;\n",
       "    }\n",
       "</style>\n",
       "<table border=\"1\" class=\"dataframe\">\n",
       "  <thead>\n",
       "    <tr style=\"text-align: right;\">\n",
       "      <th></th>\n",
       "      <th>date</th>\n",
       "      <th>record_count</th>\n",
       "    </tr>\n",
       "  </thead>\n",
       "  <tbody>\n",
       "    <tr>\n",
       "      <th>5</th>\n",
       "      <td>2024-06-28</td>\n",
       "      <td>34</td>\n",
       "    </tr>\n",
       "    <tr>\n",
       "      <th>3</th>\n",
       "      <td>2024-07-11</td>\n",
       "      <td>34</td>\n",
       "    </tr>\n",
       "    <tr>\n",
       "      <th>1</th>\n",
       "      <td>2024-08-09</td>\n",
       "      <td>37</td>\n",
       "    </tr>\n",
       "    <tr>\n",
       "      <th>4</th>\n",
       "      <td>2024-08-26</td>\n",
       "      <td>40</td>\n",
       "    </tr>\n",
       "    <tr>\n",
       "      <th>0</th>\n",
       "      <td>2024-09-03</td>\n",
       "      <td>43</td>\n",
       "    </tr>\n",
       "    <tr>\n",
       "      <th>2</th>\n",
       "      <td>2024-09-10</td>\n",
       "      <td>43</td>\n",
       "    </tr>\n",
       "    <tr>\n",
       "      <th>6</th>\n",
       "      <td>2024-09-17</td>\n",
       "      <td>43</td>\n",
       "    </tr>\n",
       "    <tr>\n",
       "      <th>8</th>\n",
       "      <td>2024-09-24</td>\n",
       "      <td>59</td>\n",
       "    </tr>\n",
       "    <tr>\n",
       "      <th>7</th>\n",
       "      <td>2024-10-01</td>\n",
       "      <td>59</td>\n",
       "    </tr>\n",
       "    <tr>\n",
       "      <th>9</th>\n",
       "      <td>2024-10-08</td>\n",
       "      <td>59</td>\n",
       "    </tr>\n",
       "  </tbody>\n",
       "</table>\n",
       "</div>"
      ],
      "text/plain": [
       "        date  record_count\n",
       "5 2024-06-28            34\n",
       "3 2024-07-11            34\n",
       "1 2024-08-09            37\n",
       "4 2024-08-26            40\n",
       "0 2024-09-03            43\n",
       "2 2024-09-10            43\n",
       "6 2024-09-17            43\n",
       "8 2024-09-24            59\n",
       "7 2024-10-01            59\n",
       "9 2024-10-08            59"
      ]
     },
     "execution_count": 3,
     "metadata": {},
     "output_type": "execute_result"
    }
   ],
   "source": [
    "df = pd.DataFrame({'date': dates, 'record_count': records_count})\n",
    "df = df.sort_values('date')\n",
    "df"
   ]
  },
  {
   "cell_type": "markdown",
   "id": "3005c43c",
   "metadata": {},
   "source": [
    "## Plot Data\n",
    "Create a plot to visualize the number of records over time."
   ]
  },
  {
   "cell_type": "code",
   "execution_count": 4,
   "id": "c78680ca",
   "metadata": {
    "execution": {
     "iopub.execute_input": "2024-10-12T17:26:07.807301Z",
     "iopub.status.busy": "2024-10-12T17:26:07.807114Z",
     "iopub.status.idle": "2024-10-12T17:26:07.987417Z",
     "shell.execute_reply": "2024-10-12T17:26:07.986899Z"
    }
   },
   "outputs": [],
   "source": [
    "plt.figure(figsize=(10, 5))\n",
    "plt.plot(df['date'], df['record_count'], marker='o')\n",
    "plt.title('Number of Records Over Time')\n",
    "plt.xlabel('Date')\n",
    "plt.ylabel('Number of Records')\n",
    "plt.grid(True)\n",
    "plt.xticks(rotation=45)\n",
    "plt.tight_layout()\n",
    "plt.savefig('number_of_records_over_time.png')\n",
    "plt.close()"
   ]
  },
  {
   "cell_type": "markdown",
   "id": "79c66eb3",
   "metadata": {},
   "source": [
    "## Conclusion\n",
    "We have successfully plotted the number of records from Zenodo links over time. The plot is saved as `number_of_records_over_time.png`."
   ]
  }
 ],
 "metadata": {
  "language_info": {
   "codemirror_mode": {
    "name": "ipython",
    "version": 3
   },
   "file_extension": ".py",
   "mimetype": "text/x-python",
   "name": "python",
   "nbconvert_exporter": "python",
   "pygments_lexer": "ipython3",
   "version": "3.12.7"
  }
 },
 "nbformat": 4,
 "nbformat_minor": 5
}
