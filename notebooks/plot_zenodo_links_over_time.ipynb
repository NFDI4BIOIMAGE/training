{
 "cells": [
  {
   "cell_type": "markdown",
   "id": "bc120a2e",
   "metadata": {},
   "source": [
    "# Plot Number of Zenodo Links Over Time\n",
    "\n",
    "This notebook processes the CSV files in the \"download_statistics\" folder and plots how many records are in these files over time based on their filenames, which represent dates."
   ]
  },
  {
   "cell_type": "code",
   "execution_count": 1,
   "id": "df09ac97",
   "metadata": {
    "execution": {
     "iopub.execute_input": "2025-06-21T17:55:54.455867Z",
     "iopub.status.busy": "2025-06-21T17:55:54.455678Z",
     "iopub.status.idle": "2025-06-21T17:55:54.996772Z",
     "shell.execute_reply": "2025-06-21T17:55:54.996194Z"
    }
   },
   "outputs": [],
   "source": [
    "# Import required libraries\n",
    "import os\n",
    "import pandas as pd\n",
    "import matplotlib.pyplot as plt"
   ]
  },
  {
   "cell_type": "markdown",
   "id": "aad5db40",
   "metadata": {},
   "source": [
    "## List CSV files in the `download_statistics` folder\n",
    "Retrieve all filenames in the folder for processing."
   ]
  },
  {
   "cell_type": "code",
   "execution_count": 2,
   "id": "8ff7b51e",
   "metadata": {
    "execution": {
     "iopub.execute_input": "2025-06-21T17:55:54.998961Z",
     "iopub.status.busy": "2025-06-21T17:55:54.998703Z",
     "iopub.status.idle": "2025-06-21T17:55:55.002686Z",
     "shell.execute_reply": "2025-06-21T17:55:55.002183Z"
    }
   },
   "outputs": [
    {
     "name": "stdout",
     "output_type": "stream",
     "text": [
      "Folder 'download_statistics' does not exist. Please create it and add CSV files.\n"
     ]
    }
   ],
   "source": [
    "# Folder containing the CSV files\n",
    "folder_path = \"download_statistics\"\n",
    "\n",
    "# Ensure folder exists before listing files\n",
    "if not os.path.exists(folder_path):\n",
    "    print(f\"Folder '{folder_path}' does not exist. Please create it and add CSV files.\")\n",
    "else:\n",
    "    # List all CSV files and extract their dates from filenames\n",
    "    csv_files = [f for f in os.listdir(folder_path) if f.endswith(\".csv\")]\n",
    "    dates = [os.path.splitext(f)[0] for f in csv_files]  # Extract date part\n",
    "    dates.sort()  # Ensure chronological order\n",
    "    print(dates)"
   ]
  },
  {
   "cell_type": "markdown",
   "id": "c0e5fbba",
   "metadata": {},
   "source": [
    "## Count records in each CSV file\n",
    "For every file, count how many records (rows) exist and store this information."
   ]
  },
  {
   "cell_type": "code",
   "execution_count": 3,
   "id": "0ed9a751",
   "metadata": {
    "execution": {
     "iopub.execute_input": "2025-06-21T17:55:55.004602Z",
     "iopub.status.busy": "2025-06-21T17:55:55.004171Z",
     "iopub.status.idle": "2025-06-21T17:55:55.007574Z",
     "shell.execute_reply": "2025-06-21T17:55:55.007105Z"
    }
   },
   "outputs": [],
   "source": [
    "# Count records in each file and associate with dates\n",
    "record_counts = []\n",
    "\n",
    "if os.path.exists(folder_path):\n",
    "    for date, file in zip(dates, csv_files):\n",
    "        file_path = os.path.join(folder_path, file)\n",
    "        data = pd.read_csv(file_path)\n",
    "        record_counts.append(len(data))\n",
    "\n",
    "    # Combine dates and record counts into a DataFrame\n",
    "    time_data = pd.DataFrame({\"Date\": pd.to_datetime(dates), \"RecordCount\": record_counts})\n",
    "    print(time_data.head())"
   ]
  },
  {
   "cell_type": "markdown",
   "id": "c2bcbc1e",
   "metadata": {},
   "source": [
    "## Plot the number of records over time\n",
    "Visualize how the number of records has changed over time."
   ]
  },
  {
   "cell_type": "code",
   "execution_count": 4,
   "id": "d2d64685",
   "metadata": {
    "execution": {
     "iopub.execute_input": "2025-06-21T17:55:55.009558Z",
     "iopub.status.busy": "2025-06-21T17:55:55.009058Z",
     "iopub.status.idle": "2025-06-21T17:55:55.012826Z",
     "shell.execute_reply": "2025-06-21T17:55:55.012331Z"
    }
   },
   "outputs": [],
   "source": [
    "# Plotting\n",
    "if os.path.exists(folder_path):\n",
    "    plt.figure(figsize=(10, 6))\n",
    "    plt.plot(time_data[\"Date\"], time_data[\"RecordCount\"], marker=\"o\", linestyle=\"-\", color=\"b\")\n",
    "    plt.title(\"Number of Zenodo Links Over Time\")\n",
    "    plt.xlabel(\"Date\")\n",
    "    plt.ylabel(\"Number of Records\")\n",
    "    plt.grid()\n",
    "\n",
    "    # Save the plot to a PNG file\n",
    "    plot_path = \"zenodo_links_over_time.png\"\n",
    "    plt.savefig(plot_path)\n",
    "    print(f\"Plot saved to {plot_path}\")"
   ]
  },
  {
   "cell_type": "markdown",
   "id": "c554c70b",
   "metadata": {},
   "source": [
    "## Save the processed data\n",
    "Export the data used for plotting to a CSV file for further analysis."
   ]
  },
  {
   "cell_type": "code",
   "execution_count": 5,
   "id": "39f0a02c",
   "metadata": {
    "execution": {
     "iopub.execute_input": "2025-06-21T17:55:55.014673Z",
     "iopub.status.busy": "2025-06-21T17:55:55.014237Z",
     "iopub.status.idle": "2025-06-21T17:55:55.017298Z",
     "shell.execute_reply": "2025-06-21T17:55:55.016827Z"
    }
   },
   "outputs": [],
   "source": [
    "# Save the data to a CSV file\n",
    "if os.path.exists(folder_path):\n",
    "    output_csv_path = \"zenodo_links_over_time.csv\"\n",
    "    time_data.to_csv(output_csv_path, index=False)\n",
    "    print(f\"Data saved to {output_csv_path}\")"
   ]
  }
 ],
 "metadata": {
  "language_info": {
   "codemirror_mode": {
    "name": "ipython",
    "version": 3
   },
   "file_extension": ".py",
   "mimetype": "text/x-python",
   "name": "python",
   "nbconvert_exporter": "python",
   "pygments_lexer": "ipython3",
   "version": "3.13.3"
  }
 },
 "nbformat": 4,
 "nbformat_minor": 5
}
