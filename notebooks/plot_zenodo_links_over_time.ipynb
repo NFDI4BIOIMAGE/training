{
 "cells": [
  {
   "cell_type": "markdown",
   "id": "bc120a2e",
   "metadata": {},
   "source": [
    "# Plot Number of Zenodo Links Over Time\n",
    "\n",
    "This notebook processes the CSV files in the \"download_statistics\" folder and plots how many records are in these files over time based on their filenames, which represent dates."
   ]
  },
  {
   "cell_type": "code",
   "execution_count": 1,
   "id": "df09ac97",
   "metadata": {
    "execution": {
     "iopub.execute_input": "2025-06-21T17:55:08.166448Z",
     "iopub.status.busy": "2025-06-21T17:55:08.166008Z",
     "iopub.status.idle": "2025-06-21T17:55:09.523695Z",
     "shell.execute_reply": "2025-06-21T17:55:09.523037Z"
    }
   },
   "outputs": [],
   "source": [
    "# Import required libraries\n",
    "import os\n",
    "import pandas as pd\n",
    "import matplotlib.pyplot as plt"
   ]
  },
  {
   "cell_type": "markdown",
   "id": "aad5db40",
   "metadata": {},
   "source": [
    "## List CSV files in the `download_statistics` folder\n",
    "Retrieve all filenames in the folder for processing."
   ]
  },
  {
   "cell_type": "code",
   "execution_count": 2,
   "id": "8ff7b51e",
   "metadata": {
    "execution": {
     "iopub.execute_input": "2025-06-21T17:55:09.526069Z",
     "iopub.status.busy": "2025-06-21T17:55:09.525663Z",
     "iopub.status.idle": "2025-06-21T17:55:09.698321Z",
     "shell.execute_reply": "2025-06-21T17:55:09.697635Z"
    }
   },
   "outputs": [
    {
     "ename": "FileNotFoundError",
     "evalue": "[Errno 2] No such file or directory: 'download_statistics'",
     "output_type": "error",
     "traceback": [
      "\u001b[31m---------------------------------------------------------------------------\u001b[39m",
      "\u001b[31mFileNotFoundError\u001b[39m                         Traceback (most recent call last)",
      "\u001b[36mCell\u001b[39m\u001b[36m \u001b[39m\u001b[32mIn[2]\u001b[39m\u001b[32m, line 5\u001b[39m\n\u001b[32m      2\u001b[39m folder_path = \u001b[33m\"\u001b[39m\u001b[33mdownload_statistics\u001b[39m\u001b[33m\"\u001b[39m\n\u001b[32m      4\u001b[39m \u001b[38;5;66;03m# List all CSV files and extract their dates from filenames\u001b[39;00m\n\u001b[32m----> \u001b[39m\u001b[32m5\u001b[39m csv_files = [f \u001b[38;5;28;01mfor\u001b[39;00m f \u001b[38;5;129;01min\u001b[39;00m \u001b[43mos\u001b[49m\u001b[43m.\u001b[49m\u001b[43mlistdir\u001b[49m\u001b[43m(\u001b[49m\u001b[43mfolder_path\u001b[49m\u001b[43m)\u001b[49m \u001b[38;5;28;01mif\u001b[39;00m f.endswith(\u001b[33m\"\u001b[39m\u001b[33m.csv\u001b[39m\u001b[33m\"\u001b[39m)]\n\u001b[32m      6\u001b[39m dates = [os.path.splitext(f)[\u001b[32m0\u001b[39m] \u001b[38;5;28;01mfor\u001b[39;00m f \u001b[38;5;129;01min\u001b[39;00m csv_files]  \u001b[38;5;66;03m# Extract date part\u001b[39;00m\n\u001b[32m      7\u001b[39m dates.sort()  \u001b[38;5;66;03m# Ensure chronological order\u001b[39;00m\n",
      "\u001b[31mFileNotFoundError\u001b[39m: [Errno 2] No such file or directory: 'download_statistics'"
     ]
    }
   ],
   "source": [
    "# Folder containing the CSV files\n",
    "folder_path = \"download_statistics\"\n",
    "\n",
    "# List all CSV files and extract their dates from filenames\n",
    "csv_files = [f for f in os.listdir(folder_path) if f.endswith(\".csv\")]\n",
    "dates = [os.path.splitext(f)[0] for f in csv_files]  # Extract date part\n",
    "dates.sort()  # Ensure chronological order\n",
    "print(dates)"
   ]
  },
  {
   "cell_type": "markdown",
   "id": "c0e5fbba",
   "metadata": {},
   "source": [
    "## Count records in each CSV file\n",
    "For every file, count how many records (rows) exist and store this information."
   ]
  },
  {
   "cell_type": "code",
   "execution_count": null,
   "id": "0ed9a751",
   "metadata": {},
   "outputs": [],
   "source": [
    "# Count records in each file and associate with dates\n",
    "record_counts = []\n",
    "\n",
    "for date, file in zip(dates, csv_files):\n",
    "    file_path = os.path.join(folder_path, file)\n",
    "    data = pd.read_csv(file_path)\n",
    "    record_counts.append(len(data))\n",
    "\n",
    "# Combine dates and record counts into a DataFrame\n",
    "time_data = pd.DataFrame({\"Date\": pd.to_datetime(dates), \"RecordCount\": record_counts})\n",
    "print(time_data.head())"
   ]
  },
  {
   "cell_type": "markdown",
   "id": "c2bcbc1e",
   "metadata": {},
   "source": [
    "## Plot the number of records over time\n",
    "Visualize how the number of records has changed over time."
   ]
  },
  {
   "cell_type": "code",
   "execution_count": null,
   "id": "d2d64685",
   "metadata": {},
   "outputs": [],
   "source": [
    "# Plotting\n",
    "plt.figure(figsize=(10, 6))\n",
    "plt.plot(time_data[\"Date\"], time_data[\"RecordCount\"], marker=\"o\", linestyle=\"-\", color=\"b\")\n",
    "plt.title(\"Number of Zenodo Links Over Time\")\n",
    "plt.xlabel(\"Date\")\n",
    "plt.ylabel(\"Number of Records\")\n",
    "plt.grid()\n",
    "\n",
    "# Save the plot to a PNG file\n",
    "plot_path = \"zenodo_links_over_time.png\"\n",
    "plt.savefig(plot_path)\n",
    "print(f\"Plot saved to {plot_path}\")"
   ]
  },
  {
   "cell_type": "markdown",
   "id": "c554c70b",
   "metadata": {},
   "source": [
    "## Save the processed data\n",
    "Export the data used for plotting to a CSV file for further analysis."
   ]
  },
  {
   "cell_type": "code",
   "execution_count": null,
   "id": "39f0a02c",
   "metadata": {},
   "outputs": [],
   "source": [
    "# Save the data to a CSV file\n",
    "output_csv_path = \"zenodo_links_over_time.csv\"\n",
    "time_data.to_csv(output_csv_path, index=False)\n",
    "print(f\"Data saved to {output_csv_path}\")"
   ]
  }
 ],
 "metadata": {
  "language_info": {
   "codemirror_mode": {
    "name": "ipython",
    "version": 3
   },
   "file_extension": ".py",
   "mimetype": "text/x-python",
   "name": "python",
   "nbconvert_exporter": "python",
   "pygments_lexer": "ipython3",
   "version": "3.13.3"
  }
 },
 "nbformat": 4,
 "nbformat_minor": 5
}