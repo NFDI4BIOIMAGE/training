{
 "cells": [
  {
   "cell_type": "markdown",
   "id": "7b4017bb",
   "metadata": {},
   "source": [
    "# Plot number of Zenodo links over time\n",
    "\n",
    "In this notebook, we will analyze the CSV files located in the `download_statistics` folder. Each file is named using a date (e.g., `20240628.csv`), which indicates when the data was created. We will plot how the number of records in these files changes over time."
   ]
  },
  {
   "cell_type": "markdown",
   "id": "693f0544",
   "metadata": {},
   "source": [
    "## Step 1: Import required libraries"
   ]
  },
  {
   "cell_type": "code",
   "execution_count": 1,
   "id": "6cb3014f",
   "metadata": {
    "execution": {
     "iopub.execute_input": "2025-06-21T17:40:16.613093Z",
     "iopub.status.busy": "2025-06-21T17:40:16.612915Z",
     "iopub.status.idle": "2025-06-21T17:40:17.176958Z",
     "shell.execute_reply": "2025-06-21T17:40:17.176369Z"
    }
   },
   "outputs": [],
   "source": [
    "import os\n",
    "import pandas as pd\n",
    "import matplotlib.pyplot as plt\n",
    "import warnings\n",
    "warnings.filterwarnings(\"ignore\", category=UserWarning, module=\"matplotlib\")"
   ]
  },
  {
   "cell_type": "markdown",
   "id": "7cffd4d6",
   "metadata": {},
   "source": [
    "## Step 2: Define the folder containing the CSV files"
   ]
  },
  {
   "cell_type": "code",
   "execution_count": 2,
   "id": "b9a6d6cc",
   "metadata": {
    "execution": {
     "iopub.execute_input": "2025-06-21T17:40:17.178984Z",
     "iopub.status.busy": "2025-06-21T17:40:17.178726Z",
     "iopub.status.idle": "2025-06-21T17:40:17.181973Z",
     "shell.execute_reply": "2025-06-21T17:40:17.181502Z"
    }
   },
   "outputs": [],
   "source": [
    "data_folder = \"download_statistics\"\n",
    "\n",
    "# Create the folder if it doesn't exist\n",
    "if not os.path.exists(data_folder):\n",
    "    os.makedirs(data_folder)\n",
    "    print(f\"Folder '{data_folder}' was created. Please add CSV files to this folder and re-run the notebook.\")"
   ]
  },
  {
   "cell_type": "markdown",
   "id": "ee573445",
   "metadata": {},
   "source": [
    "## Step 3: List all CSV files and extract their dates"
   ]
  },
  {
   "cell_type": "code",
   "execution_count": 3,
   "id": "923c8970",
   "metadata": {
    "execution": {
     "iopub.execute_input": "2025-06-21T17:40:17.183696Z",
     "iopub.status.busy": "2025-06-21T17:40:17.183343Z",
     "iopub.status.idle": "2025-06-21T17:40:17.187570Z",
     "shell.execute_reply": "2025-06-21T17:40:17.187123Z"
    }
   },
   "outputs": [
    {
     "name": "stdout",
     "output_type": "stream",
     "text": [
      "No CSV files found in the 'download_statistics' folder. Please add some files and re-run the notebook.\n"
     ]
    }
   ],
   "source": [
    "file_list = [f for f in os.listdir(data_folder) if f.endswith(\".csv\")]\n",
    "\n",
    "# Check if no files are found\n",
    "if not file_list:\n",
    "    print(\"No CSV files found in the 'download_statistics' folder. Please add some files and re-run the notebook.\")\n",
    "    file_list = []\n",
    "\n",
    "dates, record_counts = [], []\n",
    "\n",
    "for file in file_list:\n",
    "    date = file.replace(\".csv\", \"\")\n",
    "    dates.append(pd.to_datetime(date))\n",
    "\n",
    "    file_path = os.path.join(data_folder, file)\n",
    "    df = pd.read_csv(file_path)\n",
    "    record_counts.append(len(df))"
   ]
  },
  {
   "cell_type": "markdown",
   "id": "1aa0f111",
   "metadata": {},
   "source": [
    "## Step 4: Create a DataFrame to hold the results"
   ]
  },
  {
   "cell_type": "code",
   "execution_count": 4,
   "id": "2960e972",
   "metadata": {
    "execution": {
     "iopub.execute_input": "2025-06-21T17:40:17.189322Z",
     "iopub.status.busy": "2025-06-21T17:40:17.188976Z",
     "iopub.status.idle": "2025-06-21T17:40:17.192093Z",
     "shell.execute_reply": "2025-06-21T17:40:17.191605Z"
    }
   },
   "outputs": [],
   "source": [
    "if file_list:\n",
    "    results = pd.DataFrame({\n",
    "        \"Date\": dates,\n",
    "        \"Record_Count\": record_counts\n",
    "    }).sort_values(by=\"Date\")\n",
    "\n",
    "    results.reset_index(drop=True, inplace=True)\n",
    "    results.to_csv(\"zenodo_links_over_time.csv\", index=False)"
   ]
  },
  {
   "cell_type": "markdown",
   "id": "82e27f89",
   "metadata": {},
   "source": [
    "## Step 5: Plot the number of records over time"
   ]
  },
  {
   "cell_type": "code",
   "execution_count": 5,
   "id": "71b02b53",
   "metadata": {
    "execution": {
     "iopub.execute_input": "2025-06-21T17:40:17.193635Z",
     "iopub.status.busy": "2025-06-21T17:40:17.193447Z",
     "iopub.status.idle": "2025-06-21T17:40:17.196880Z",
     "shell.execute_reply": "2025-06-21T17:40:17.196433Z"
    }
   },
   "outputs": [],
   "source": [
    "if file_list:\n",
    "    plt.figure(figsize=(10, 6))\n",
    "    plt.plot(results[\"Date\"], results[\"Record_Count\"], marker=\"o\", linestyle=\"-\", color=\"b\")\n",
    "    plt.xlabel(\"Date\")\n",
    "    plt.ylabel(\"Number of Records\")\n",
    "    plt.title(\"Number of Zenodo Links Over Time\")\n",
    "    plt.grid(True)\n",
    "    plt.tight_layout()\n",
    "    plt.savefig(\"zenodo_links_over_time.png\")"
   ]
  }
 ],
 "metadata": {
  "language_info": {
   "codemirror_mode": {
    "name": "ipython",
    "version": 3
   },
   "file_extension": ".py",
   "mimetype": "text/x-python",
   "name": "python",
   "nbconvert_exporter": "python",
   "pygments_lexer": "ipython3",
   "version": "3.13.3"
  }
 },
 "nbformat": 4,
 "nbformat_minor": 5
}
