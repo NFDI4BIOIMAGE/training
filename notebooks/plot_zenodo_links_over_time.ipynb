{
 "cells": [
  {
   "cell_type": "markdown",
   "id": "7b4017bb",
   "metadata": {},
   "source": [
    "# Plot number of Zenodo links over time\n",
    "\n",
    "In this notebook, we will analyze the CSV files located in the `download_statistics` folder. Each file is named using a date (e.g., `20240628.csv`), which indicates when the data was created. We will plot how the number of records in these files changes over time."
   ]
  },
  {
   "cell_type": "markdown",
   "id": "693f0544",
   "metadata": {},
   "source": [
    "## Step 1: Import required libraries"
   ]
  },
  {
   "cell_type": "code",
   "execution_count": 1,
   "id": "6cb3014f",
   "metadata": {
    "execution": {
     "iopub.execute_input": "2025-06-21T17:38:30.843209Z",
     "iopub.status.busy": "2025-06-21T17:38:30.842771Z",
     "iopub.status.idle": "2025-06-21T17:38:31.407898Z",
     "shell.execute_reply": "2025-06-21T17:38:31.407344Z"
    }
   },
   "outputs": [],
   "source": [
    "import os\n",
    "import pandas as pd\n",
    "import matplotlib.pyplot as plt\n",
    "import warnings\n",
    "warnings.filterwarnings(\"ignore\", category=UserWarning, module=\"matplotlib\")"
   ]
  },
  {
   "cell_type": "markdown",
   "id": "7cffd4d6",
   "metadata": {},
   "source": [
    "## Step 2: Define the folder containing the CSV files"
   ]
  },
  {
   "cell_type": "code",
   "execution_count": 2,
   "id": "b9a6d6cc",
   "metadata": {
    "execution": {
     "iopub.execute_input": "2025-06-21T17:38:31.410113Z",
     "iopub.status.busy": "2025-06-21T17:38:31.409834Z",
     "iopub.status.idle": "2025-06-21T17:38:31.413566Z",
     "shell.execute_reply": "2025-06-21T17:38:31.413002Z"
    }
   },
   "outputs": [
    {
     "name": "stdout",
     "output_type": "stream",
     "text": [
      "Folder 'download_statistics' was created. Please add CSV files to this folder and re-run the notebook.\n"
     ]
    }
   ],
   "source": [
    "data_folder = \"download_statistics\"\n",
    "\n",
    "# Create the folder if it doesn't exist\n",
    "if not os.path.exists(data_folder):\n",
    "    os.makedirs(data_folder)\n",
    "    print(f\"Folder '{data_folder}' was created. Please add CSV files to this folder and re-run the notebook.\")"
   ]
  },
  {
   "cell_type": "markdown",
   "id": "ee573445",
   "metadata": {},
   "source": [
    "## Step 3: List all CSV files and extract their dates"
   ]
  },
  {
   "cell_type": "code",
   "execution_count": 3,
   "id": "923c8970",
   "metadata": {
    "execution": {
     "iopub.execute_input": "2025-06-21T17:38:31.415339Z",
     "iopub.status.busy": "2025-06-21T17:38:31.415152Z",
     "iopub.status.idle": "2025-06-21T17:38:31.595461Z",
     "shell.execute_reply": "2025-06-21T17:38:31.594596Z"
    }
   },
   "outputs": [
    {
     "ename": "FileNotFoundError",
     "evalue": "No CSV files found in the 'download_statistics' folder. Please add some files and re-run the notebook.",
     "output_type": "error",
     "traceback": [
      "\u001b[31m---------------------------------------------------------------------------\u001b[39m",
      "\u001b[31mFileNotFoundError\u001b[39m                         Traceback (most recent call last)",
      "\u001b[36mCell\u001b[39m\u001b[36m \u001b[39m\u001b[32mIn[3]\u001b[39m\u001b[32m, line 5\u001b[39m\n\u001b[32m      3\u001b[39m \u001b[38;5;66;03m# Check if no files are found\u001b[39;00m\n\u001b[32m      4\u001b[39m \u001b[38;5;28;01mif\u001b[39;00m \u001b[38;5;129;01mnot\u001b[39;00m file_list:\n\u001b[32m----> \u001b[39m\u001b[32m5\u001b[39m     \u001b[38;5;28;01mraise\u001b[39;00m \u001b[38;5;167;01mFileNotFoundError\u001b[39;00m(\u001b[33m\"\u001b[39m\u001b[33mNo CSV files found in the \u001b[39m\u001b[33m'\u001b[39m\u001b[33mdownload_statistics\u001b[39m\u001b[33m'\u001b[39m\u001b[33m folder. Please add some files and re-run the notebook.\u001b[39m\u001b[33m\"\u001b[39m)\n\u001b[32m      7\u001b[39m dates, record_counts = [], []\n\u001b[32m      9\u001b[39m \u001b[38;5;28;01mfor\u001b[39;00m file \u001b[38;5;129;01min\u001b[39;00m file_list:\n",
      "\u001b[31mFileNotFoundError\u001b[39m: No CSV files found in the 'download_statistics' folder. Please add some files and re-run the notebook."
     ]
    }
   ],
   "source": [
    "file_list = [f for f in os.listdir(data_folder) if f.endswith(\".csv\")]\n",
    "\n",
    "# Check if no files are found\n",
    "if not file_list:\n",
    "    raise FileNotFoundError(\"No CSV files found in the 'download_statistics' folder. Please add some files and re-run the notebook.\")\n",
    "\n",
    "dates, record_counts = [], []\n",
    "\n",
    "for file in file_list:\n",
    "    date = file.replace(\".csv\", \"\")\n",
    "    dates.append(pd.to_datetime(date))\n",
    "\n",
    "    file_path = os.path.join(data_folder, file)\n",
    "    df = pd.read_csv(file_path)\n",
    "    record_counts.append(len(df))"
   ]
  },
  {
   "cell_type": "markdown",
   "id": "1aa0f111",
   "metadata": {},
   "source": [
    "## Step 4: Create a DataFrame to hold the results"
   ]
  },
  {
   "cell_type": "code",
   "execution_count": null,
   "id": "2960e972",
   "metadata": {},
   "outputs": [],
   "source": [
    "results = pd.DataFrame({\n",
    "    \"Date\": dates,\n",
    "    \"Record_Count\": record_counts\n",
    "}).sort_values(by=\"Date\")\n",
    "\n",
    "results.reset_index(drop=True, inplace=True)\n",
    "results.to_csv(\"zenodo_links_over_time.csv\", index=False)"
   ]
  },
  {
   "cell_type": "markdown",
   "id": "82e27f89",
   "metadata": {},
   "source": [
    "## Step 5: Plot the number of records over time"
   ]
  },
  {
   "cell_type": "code",
   "execution_count": null,
   "id": "71b02b53",
   "metadata": {},
   "outputs": [],
   "source": [
    "plt.figure(figsize=(10, 6))\n",
    "plt.plot(results[\"Date\"], results[\"Record_Count\"], marker=\"o\", linestyle=\"-\", color=\"b\")\n",
    "plt.xlabel(\"Date\")\n",
    "plt.ylabel(\"Number of Records\")\n",
    "plt.title(\"Number of Zenodo Links Over Time\")\n",
    "plt.grid(True)\n",
    "plt.tight_layout()\n",
    "plt.savefig(\"zenodo_links_over_time.png\")"
   ]
  }
 ],
 "metadata": {
  "language_info": {
   "codemirror_mode": {
    "name": "ipython",
    "version": 3
   },
   "file_extension": ".py",
   "mimetype": "text/x-python",
   "name": "python",
   "nbconvert_exporter": "python",
   "pygments_lexer": "ipython3",
   "version": "3.13.3"
  }
 },
 "nbformat": 4,
 "nbformat_minor": 5
}