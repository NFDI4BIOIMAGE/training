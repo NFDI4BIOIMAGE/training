{
 "cells": [
  {
   "cell_type": "markdown",
   "id": "ad3bebb5",
   "metadata": {},
   "source": [
    "# Plot Number of Zenodo Links Over Time\n",
    "\n",
    "This notebook reads CSV files located in the `download_statistics` folder, extracts the number of records in each file, and plots these numbers over time."
   ]
  },
  {
   "cell_type": "markdown",
   "id": "310b9ccd",
   "metadata": {},
   "source": [
    "## Import Necessary Libraries\n",
    "\n",
    "We will use `pandas` for data handling and `matplotlib` for plotting."
   ]
  },
  {
   "cell_type": "code",
   "execution_count": 1,
   "id": "5fd0b91c",
   "metadata": {
    "execution": {
     "iopub.execute_input": "2024-10-12T16:12:13.070619Z",
     "iopub.status.busy": "2024-10-12T16:12:13.070427Z",
     "iopub.status.idle": "2024-10-12T16:12:13.244122Z",
     "shell.execute_reply": "2024-10-12T16:12:13.243425Z"
    }
   },
   "outputs": [
    {
     "ename": "ModuleNotFoundError",
     "evalue": "No module named 'pandas'",
     "output_type": "error",
     "traceback": [
      "\u001b[0;31m---------------------------------------------------------------------------\u001b[0m",
      "\u001b[0;31mModuleNotFoundError\u001b[0m                       Traceback (most recent call last)",
      "Cell \u001b[0;32mIn[1], line 1\u001b[0m\n\u001b[0;32m----> 1\u001b[0m \u001b[38;5;28;01mimport\u001b[39;00m \u001b[38;5;21;01mpandas\u001b[39;00m \u001b[38;5;28;01mas\u001b[39;00m \u001b[38;5;21;01mpd\u001b[39;00m\n\u001b[1;32m      2\u001b[0m \u001b[38;5;28;01mimport\u001b[39;00m \u001b[38;5;21;01mmatplotlib\u001b[39;00m\u001b[38;5;21;01m.\u001b[39;00m\u001b[38;5;21;01mpyplot\u001b[39;00m \u001b[38;5;28;01mas\u001b[39;00m \u001b[38;5;21;01mplt\u001b[39;00m\n\u001b[1;32m      3\u001b[0m \u001b[38;5;28;01mimport\u001b[39;00m \u001b[38;5;21;01mos\u001b[39;00m\n",
      "\u001b[0;31mModuleNotFoundError\u001b[0m: No module named 'pandas'"
     ]
    }
   ],
   "source": [
    "import pandas as pd\n",
    "import matplotlib.pyplot as plt\n",
    "import os"
   ]
  },
  {
   "cell_type": "markdown",
   "id": "bdf58b58",
   "metadata": {},
   "source": [
    "## List All CSV Files\n",
    "\n",
    "List all files in the `download_statistics` directory with `.csv` extension."
   ]
  },
  {
   "cell_type": "code",
   "execution_count": null,
   "id": "fd9d2f13",
   "metadata": {},
   "outputs": [],
   "source": [
    "directory = 'download_statistics'\n",
    "csv_files = [f for f in os.listdir(directory) if f.endswith('.csv')]\n",
    "csv_files"
   ]
  },
  {
   "cell_type": "markdown",
   "id": "db282fab",
   "metadata": {},
   "source": [
    "## Read Files and Count Records\n",
    "\n",
    "For each file, count the number of records and store the results along with the associated date."
   ]
  },
  {
   "cell_type": "code",
   "execution_count": null,
   "id": "5a1e3038",
   "metadata": {},
   "outputs": [],
   "source": [
    "record_counts = []\n",
    "dates = []\n",
    "\n",
    "for file in csv_files:\n",
    "    date_str = file.split('.')[0]\n",
    "    date = pd.to_datetime(date_str, format='%Y%m%d')\n",
    "    file_path = os.path.join(directory, file)\n",
    "    df = pd.read_csv(file_path)\n",
    "    record_counts.append(len(df))\n",
    "    dates.append(date)"
   ]
  },
  {
   "cell_type": "markdown",
   "id": "96fae9ad",
   "metadata": {},
   "source": [
    "## Create a DataFrame\n",
    "\n",
    "Store the dates and record counts in a DataFrame for easier plotting."
   ]
  },
  {
   "cell_type": "code",
   "execution_count": null,
   "id": "0f3a49cc",
   "metadata": {},
   "outputs": [],
   "source": [
    "data = pd.DataFrame({'Date': dates, 'Record Count': record_counts})\n",
    "data = data.sort_values('Date')\n",
    "data.head()"
   ]
  },
  {
   "cell_type": "markdown",
   "id": "d9f5e05e",
   "metadata": {},
   "source": [
    "## Plot the Data\n",
    "\n",
    "Generate a line plot showing the number of records over time."
   ]
  },
  {
   "cell_type": "code",
   "execution_count": null,
   "id": "f8ef4a84",
   "metadata": {},
   "outputs": [],
   "source": [
    "plt.figure(figsize=(10, 6))\n",
    "plt.plot(data['Date'], data['Record Count'], marker='o')\n",
    "plt.title('Number of Zenodo Links Over Time')\n",
    "plt.xlabel('Date')\n",
    "plt.ylabel('Record Count')\n",
    "plt.grid(True)\n",
    "plt.xticks(rotation=45)\n",
    "plt.tight_layout()\n",
    "plt.savefig('zenodo_links_over_time.png')\n",
    "plt.show()"
   ]
  }
 ],
 "metadata": {
  "language_info": {
   "codemirror_mode": {
    "name": "ipython",
    "version": 3
   },
   "file_extension": ".py",
   "mimetype": "text/x-python",
   "name": "python",
   "nbconvert_exporter": "python",
   "pygments_lexer": "ipython3",
   "version": "3.12.7"
  }
 },
 "nbformat": 4,
 "nbformat_minor": 5
}
