{
 "cells": [
  {
   "cell_type": "markdown",
   "id": "63f9c09b",
   "metadata": {},
   "source": [
    "# Plot Number of Zenodo Links Over Time\n",
    "\n",
    "This notebook analyzes the CSV files in the `../download_statistics` folder. These files contain data, and their filenames represent dates. We'll extract the dates, count the records in each file, and visualize the number of records over time."
   ]
  },
  {
   "cell_type": "code",
   "execution_count": 1,
   "id": "bc330c7f",
   "metadata": {
    "execution": {
     "iopub.execute_input": "2025-06-21T18:34:08.034045Z",
     "iopub.status.busy": "2025-06-21T18:34:08.033851Z",
     "iopub.status.idle": "2025-06-21T18:34:10.333404Z",
     "shell.execute_reply": "2025-06-21T18:34:10.332753Z"
    }
   },
   "outputs": [],
   "source": [
    "# Import required libraries\n",
    "import os\n",
    "import pandas as pd\n",
    "import matplotlib.pyplot as plt"
   ]
  },
  {
   "cell_type": "markdown",
   "id": "50aef4fd",
   "metadata": {},
   "source": [
    "## Check the existence of the folder\n",
    "Ensure the `../download_statistics` folder exists. If it doesn't, raise an error."
   ]
  },
  {
   "cell_type": "code",
   "execution_count": 2,
   "id": "7a88c73d",
   "metadata": {
    "execution": {
     "iopub.execute_input": "2025-06-21T18:34:10.335649Z",
     "iopub.status.busy": "2025-06-21T18:34:10.335415Z",
     "iopub.status.idle": "2025-06-21T18:34:10.338628Z",
     "shell.execute_reply": "2025-06-21T18:34:10.338160Z"
    }
   },
   "outputs": [],
   "source": [
    "# Folder path\n",
    "folder_path = \"../download_statistics\"\n",
    "\n",
    "# Verify folder existence\n",
    "if not os.path.exists(folder_path):\n",
    "    raise FileNotFoundError(f\"Folder '{folder_path}' does not exist. Please create it and add CSV files.\")"
   ]
  },
  {
   "cell_type": "markdown",
   "id": "132919d0",
   "metadata": {},
   "source": [
    "## List all CSV files and sort them by date\n",
    "Get the list of all files in the folder, extract the date from each filename, and sort filenames by their corresponding dates."
   ]
  },
  {
   "cell_type": "code",
   "execution_count": 3,
   "id": "87460f48",
   "metadata": {
    "execution": {
     "iopub.execute_input": "2025-06-21T18:34:10.340275Z",
     "iopub.status.busy": "2025-06-21T18:34:10.340097Z",
     "iopub.status.idle": "2025-06-21T18:34:10.343623Z",
     "shell.execute_reply": "2025-06-21T18:34:10.343184Z"
    }
   },
   "outputs": [],
   "source": [
    "# Get and sort CSV files\n",
    "csv_files = [f for f in os.listdir(folder_path) if f.endswith(\".csv\")]\n",
    "dates = [os.path.splitext(f)[0] for f in csv_files]\n",
    "csv_files = [file for _, file in sorted(zip(dates, csv_files))]  # Sort files by extracted dates\n",
    "dates.sort()  # Sort extracted dates"
   ]
  },
  {
   "cell_type": "markdown",
   "id": "c497d75f",
   "metadata": {},
   "source": [
    "## Count the number of records in each file\n",
    "Read each file in the sorted list, count its rows, and store the results in a DataFrame."
   ]
  },
  {
   "cell_type": "code",
   "execution_count": 4,
   "id": "ae449232",
   "metadata": {
    "execution": {
     "iopub.execute_input": "2025-06-21T18:34:10.345475Z",
     "iopub.status.busy": "2025-06-21T18:34:10.345137Z",
     "iopub.status.idle": "2025-06-21T18:34:10.395484Z",
     "shell.execute_reply": "2025-06-21T18:34:10.395041Z"
    }
   },
   "outputs": [],
   "source": [
    "# Count records for each file\n",
    "record_counts = []\n",
    "\n",
    "for file in csv_files:\n",
    "    file_path = os.path.join(folder_path, file)\n",
    "    data = pd.read_csv(file_path)\n",
    "    record_counts.append(len(data))\n",
    "\n",
    "# Combine dates with record counts into a DataFrame\n",
    "time_data = pd.DataFrame({\"Date\": pd.to_datetime(dates), \"RecordCount\": record_counts})"
   ]
  },
  {
   "cell_type": "markdown",
   "id": "5636b756",
   "metadata": {},
   "source": [
    "## Save the processed data to a CSV file\n",
    "Store the processed `time_data` DataFrame in a CSV file for future reference."
   ]
  },
  {
   "cell_type": "code",
   "execution_count": 5,
   "id": "f79c06bb",
   "metadata": {
    "execution": {
     "iopub.execute_input": "2025-06-21T18:34:10.397401Z",
     "iopub.status.busy": "2025-06-21T18:34:10.397048Z",
     "iopub.status.idle": "2025-06-21T18:34:10.401005Z",
     "shell.execute_reply": "2025-06-21T18:34:10.400588Z"
    }
   },
   "outputs": [],
   "source": [
    "# Save data to CSV\n",
    "output_csv_path = \"zenodo_links_over_time.csv\"\n",
    "time_data.to_csv(output_csv_path, index=False)"
   ]
  },
  {
   "cell_type": "markdown",
   "id": "6442e379",
   "metadata": {},
   "source": [
    "## Plot the number of records over time\n",
    "Visualize the record counts over time as a line plot."
   ]
  },
  {
   "cell_type": "code",
   "execution_count": 6,
   "id": "fcd4c82c",
   "metadata": {
    "execution": {
     "iopub.execute_input": "2025-06-21T18:34:10.402592Z",
     "iopub.status.busy": "2025-06-21T18:34:10.402432Z",
     "iopub.status.idle": "2025-06-21T18:34:10.512660Z",
     "shell.execute_reply": "2025-06-21T18:34:10.512176Z"
    }
   },
   "outputs": [],
   "source": [
    "# Plot data\n",
    "plt.figure(figsize=(10, 6))\n",
    "plt.plot(time_data[\"Date\"], time_data[\"RecordCount\"], marker=\"o\", color=\"b\")\n",
    "plt.title(\"Number of Zenodo Links Over Time\")\n",
    "plt.xlabel(\"Date\")\n",
    "plt.ylabel(\"Number of Records\")\n",
    "plt.grid()\n",
    "\n",
    "# Save the plot as a PNG file\n",
    "plot_path = \"zenodo_links_over_time.png\"\n",
    "plt.savefig(plot_path)\n",
    "plt.close()"
   ]
  }
 ],
 "metadata": {
  "language_info": {
   "codemirror_mode": {
    "name": "ipython",
    "version": 3
   },
   "file_extension": ".py",
   "mimetype": "text/x-python",
   "name": "python",
   "nbconvert_exporter": "python",
   "pygments_lexer": "ipython3",
   "version": "3.13.3"
  }
 },
 "nbformat": 4,
 "nbformat_minor": 5
}
