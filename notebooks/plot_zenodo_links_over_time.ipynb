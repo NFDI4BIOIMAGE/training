{
 "cells": [
  {
   "cell_type": "markdown",
   "id": "introduction",
   "metadata": {},
   "source": [
    "# Plot Number of Zenodo Links Over Time\n",
    "\n",
    "In this notebook, we analyze the CSV files in the `../download_statistics` folder. These files contain data, and their filenames represent dates. We'll extract the creation dates, count the records in each file, and plot the number of records over time."
   ]
  },
  {
   "cell_type": "code",
   "execution_count": 1,
   "id": "imports",
   "metadata": {
    "execution": {
     "iopub.execute_input": "2025-06-21T18:09:03.588124Z",
     "iopub.status.busy": "2025-06-21T18:09:03.587667Z",
     "iopub.status.idle": "2025-06-21T18:09:05.460555Z",
     "shell.execute_reply": "2025-06-21T18:09:05.459995Z"
    }
   },
   "outputs": [],
   "source": [
    "# Import required libraries\n",
    "import os\n",
    "import pandas as pd\n",
    "import matplotlib.pyplot as plt"
   ]
  },
  {
   "cell_type": "markdown",
   "id": "folder-check",
   "metadata": {},
   "source": [
    "## Verify and List CSV Files\n",
    "Ensure the `../download_statistics` folder exists and list all CSV files within it."
   ]
  },
  {
   "cell_type": "code",
   "execution_count": 2,
   "id": "list-files",
   "metadata": {
    "execution": {
     "iopub.execute_input": "2025-06-21T18:09:05.462897Z",
     "iopub.status.busy": "2025-06-21T18:09:05.462430Z",
     "iopub.status.idle": "2025-06-21T18:09:05.466602Z",
     "shell.execute_reply": "2025-06-21T18:09:05.466177Z"
    }
   },
   "outputs": [],
   "source": [
    "# Folder path\n",
    "folder_path = \"../download_statistics\"\n",
    "\n",
    "# Check if folder exists\n",
    "if not os.path.exists(folder_path):\n",
    "    raise FileNotFoundError(f\"Folder '{folder_path}' does not exist. Please create it and add CSV files.\")\n",
    "\n",
    "# List CSV files\n",
    "csv_files = [f for f in os.listdir(folder_path) if f.endswith(\".csv\")]\n",
    "dates = [os.path.splitext(f)[0] for f in csv_files]  # Extract date from filenames\n",
    "dates.sort()  # Ensure chronological order\n",
    "csv_files = [file for _, file in sorted(zip(dates, csv_files))]  # Sort files accordingly\n",
    "dates.sort()  # Double-check sorting of dates"
   ]
  },
  {
   "cell_type": "markdown",
   "id": "record-count",
   "metadata": {},
   "source": [
    "## Count Records in Each CSV File\n",
    "Count how many rows (records) exist in each file and store this along with its corresponding date."
   ]
  },
  {
   "cell_type": "code",
   "execution_count": 3,
   "id": "count-records",
   "metadata": {
    "execution": {
     "iopub.execute_input": "2025-06-21T18:09:05.468528Z",
     "iopub.status.busy": "2025-06-21T18:09:05.468182Z",
     "iopub.status.idle": "2025-06-21T18:09:05.518650Z",
     "shell.execute_reply": "2025-06-21T18:09:05.518145Z"
    }
   },
   "outputs": [],
   "source": [
    "record_counts = []\n",
    "\n",
    "for file in csv_files:\n",
    "    file_path = os.path.join(folder_path, file)\n",
    "    data = pd.read_csv(file_path)\n",
    "    record_counts.append(len(data))\n",
    "\n",
    "# Combine dates and record counts into a DataFrame\n",
    "time_data = pd.DataFrame({\"Date\": pd.to_datetime(dates), \"RecordCount\": record_counts})"
   ]
  },
  {
   "cell_type": "markdown",
   "id": "plot-data",
   "metadata": {},
   "source": [
    "## Plot the Number of Records Over Time\n",
    "Visualize the changes in the number of records over time."
   ]
  },
  {
   "cell_type": "code",
   "execution_count": 4,
   "id": "e28440b9",
   "metadata": {
    "execution": {
     "iopub.execute_input": "2025-06-21T18:09:05.520631Z",
     "iopub.status.busy": "2025-06-21T18:09:05.520281Z",
     "iopub.status.idle": "2025-06-21T18:09:05.635184Z",
     "shell.execute_reply": "2025-06-21T18:09:05.634625Z"
    }
   },
   "outputs": [],
   "source": [
    "plt.figure(figsize=(10, 6))\n",
    "plt.plot(time_data[\"Date\"], time_data[\"RecordCount\"], marker=\"o\", linestyle=\"-\", color=\"b\")\n",
    "plt.title(\"Number of Zenodo Links Over Time\")\n",
    "plt.xlabel(\"Date\")\n",
    "plt.ylabel(\"Number of Records\")\n",
    "plt.grid()\n",
    "\n",
    "# Save the plot to a PNG file\n",
    "plot_path = \"zenodo_links_over_time.png\"\n",
    "plt.savefig(plot_path)\n",
    "plt.close()"
   ]
  },
  {
   "cell_type": "markdown",
   "id": "save-data",
   "metadata": {},
   "source": [
    "## Save Processed Data to CSV\n",
    "Export the table of dates and record counts to a CSV file for further analysis."
   ]
  },
  {
   "cell_type": "code",
   "execution_count": 5,
   "id": "save-csv",
   "metadata": {
    "execution": {
     "iopub.execute_input": "2025-06-21T18:09:05.637451Z",
     "iopub.status.busy": "2025-06-21T18:09:05.637075Z",
     "iopub.status.idle": "2025-06-21T18:09:05.641658Z",
     "shell.execute_reply": "2025-06-21T18:09:05.641088Z"
    }
   },
   "outputs": [],
   "source": [
    "output_csv_path = \"zenodo_links_over_time.csv\"\n",
    "time_data.to_csv(output_csv_path, index=False)"
   ]
  }
 ],
 "metadata": {
  "language_info": {
   "codemirror_mode": {
    "name": "ipython",
    "version": 3
   },
   "file_extension": ".py",
   "mimetype": "text/x-python",
   "name": "python",
   "nbconvert_exporter": "python",
   "pygments_lexer": "ipython3",
   "version": "3.13.3"
  }
 },
 "nbformat": 4,
 "nbformat_minor": 5
}
