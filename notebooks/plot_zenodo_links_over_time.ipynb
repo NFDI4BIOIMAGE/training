{
 "cells": [
  {
   "cell_type": "markdown",
   "metadata": {},
   "source": [
    "# Plot number of zenodo links over time\n",
    "\n",
    "This notebook processes CSV files from the `download_statistics` folder. Each file represents a particular date and contains certain records. We will plot how the number of records changes over time."
   ]
  },
  {
   "cell_type": "markdown",
   "metadata": {},
   "source": [
    "## Step 1: Import necessary libraries\n",
    "We use `pandas` for data processing and `matplotlib` for plotting."
   ]
  },
  {
   "cell_type": "code",
   "execution_count": 1,
   "metadata": {
    "execution": {
     "iopub.execute_input": "2025-06-21T17:36:03.133903Z",
     "iopub.status.busy": "2025-06-21T17:36:03.133726Z",
     "iopub.status.idle": "2025-06-21T17:36:04.630822Z",
     "shell.execute_reply": "2025-06-21T17:36:04.630192Z"
    }
   },
   "outputs": [],
   "source": [
    "import os\n",
    "import pandas as pd\n",
    "import matplotlib.pyplot as plt"
   ]
  },
  {
   "cell_type": "markdown",
   "metadata": {},
   "source": [
    "## Step 2: Define the path to the `download_statistics` folder\n",
    "Set the relative path where the files are located."
   ]
  },
  {
   "cell_type": "code",
   "execution_count": 2,
   "metadata": {
    "execution": {
     "iopub.execute_input": "2025-06-21T17:36:04.633178Z",
     "iopub.status.busy": "2025-06-21T17:36:04.632899Z",
     "iopub.status.idle": "2025-06-21T17:36:04.635765Z",
     "shell.execute_reply": "2025-06-21T17:36:04.635298Z"
    }
   },
   "outputs": [],
   "source": [
    "# Relative path to the data folder\n",
    "data_folder = '../download_statistics'"
   ]
  },
  {
   "cell_type": "markdown",
   "metadata": {},
   "source": [
    "## Step 3: Get a list of all `.csv` files in the folder\n",
    "Extract the filenames without extensions as the dates."
   ]
  },
  {
   "cell_type": "code",
   "execution_count": 3,
   "metadata": {
    "execution": {
     "iopub.execute_input": "2025-06-21T17:36:04.637499Z",
     "iopub.status.busy": "2025-06-21T17:36:04.637176Z",
     "iopub.status.idle": "2025-06-21T17:36:04.641083Z",
     "shell.execute_reply": "2025-06-21T17:36:04.640499Z"
    }
   },
   "outputs": [
    {
     "name": "stdout",
     "output_type": "stream",
     "text": [
      "Found files: ['20241112.csv', '20250415.csv', '20250107.csv', '20241022.csv', '20250311.csv', '20250128.csv', '20250520.csv', '20241001.csv', '20250211.csv', '20250225.csv', '20250325.csv', '20240628.csv', '20250218.csv', '20250527.csv', '20241210.csv', '20240809.csv', '20250408.csv', '20250114.csv', '20250429.csv', '20250318.csv', '20241105.csv', '20240826.csv', '20250204.csv', '20250506.csv', '20250401.csv', '20241015.csv', '20250610.csv', '20241224.csv', '20241203.csv', '20250603.csv', '20241119.csv', '20241217.csv', '20240910.csv', '20241029.csv', '20240924.csv', '20241008.csv', '20250121.csv', '20241231.csv', '20240711.csv', '20250422.csv', '20250513.csv', '20250304.csv', '20241126.csv', '20240917.csv', '20240903.csv']\n"
     ]
    }
   ],
   "source": [
    "# List all CSV files in the folder\n",
    "file_names = [f for f in os.listdir(data_folder) if f.endswith('.csv')]\n",
    "\n",
    "# Extract dates from filenames\n",
    "dates = [f.split('.')[0] for f in file_names]\n",
    "print(\"Found files:\", file_names)"
   ]
  },
  {
   "cell_type": "markdown",
   "metadata": {},
   "source": [
    "## Step 4: Load record counts for each file\n",
    "Read the CSV files and count the number of rows in each."
   ]
  },
  {
   "cell_type": "code",
   "execution_count": 4,
   "metadata": {
    "execution": {
     "iopub.execute_input": "2025-06-21T17:36:04.672893Z",
     "iopub.status.busy": "2025-06-21T17:36:04.672488Z",
     "iopub.status.idle": "2025-06-21T17:36:04.731809Z",
     "shell.execute_reply": "2025-06-21T17:36:04.731342Z"
    }
   },
   "outputs": [
    {
     "name": "stdout",
     "output_type": "stream",
     "text": [
      "         date  count\n",
      "11 2024-06-28     34\n",
      "38 2024-07-11     34\n",
      "15 2024-08-09     37\n",
      "21 2024-08-26     40\n",
      "44 2024-09-03     43\n"
     ]
    }
   ],
   "source": [
    "record_counts = []\n",
    "\n",
    "for file, date in zip(file_names, dates):\n",
    "    file_path = os.path.join(data_folder, file)\n",
    "    df = pd.read_csv(file_path)\n",
    "    record_counts.append({'date': pd.to_datetime(date, format='%Y%m%d'), 'count': len(df)})\n",
    "\n",
    "record_counts_df = pd.DataFrame(record_counts).sort_values(by='date')\n",
    "print(record_counts_df.head())"
   ]
  },
  {
   "cell_type": "markdown",
   "metadata": {},
   "source": [
    "## Step 5: Plot the number of records over time\n",
    "Create a line plot to visualize how the number of records changes over time and save the plot to a `.png` file."
   ]
  },
  {
   "cell_type": "code",
   "execution_count": 5,
   "metadata": {
    "execution": {
     "iopub.execute_input": "2025-06-21T17:36:04.733638Z",
     "iopub.status.busy": "2025-06-21T17:36:04.733289Z",
     "iopub.status.idle": "2025-06-21T17:36:04.879260Z",
     "shell.execute_reply": "2025-06-21T17:36:04.878766Z"
    }
   },
   "outputs": [
    {
     "name": "stdout",
     "output_type": "stream",
     "text": [
      "Plot saved to ../download_statistics/zenodo_links_over_time.png\n"
     ]
    }
   ],
   "source": [
    "plt.figure(figsize=(8, 6))\n",
    "plt.plot(record_counts_df['date'], record_counts_df['count'], marker='o', linestyle='-', color='b')\n",
    "plt.title('Number of Zenodo Links Over Time')\n",
    "plt.xlabel('Date')\n",
    "plt.ylabel('Record Count')\n",
    "plt.grid()\n",
    "plt.tight_layout()\n",
    "\n",
    "# Save the plot\n",
    "output_plot_path = os.path.join('..', 'download_statistics', 'zenodo_links_over_time.png')\n",
    "plt.savefig(output_plot_path)\n",
    "plt.close()\n",
    "\n",
    "print(f\"Plot saved to {output_plot_path}\")"
   ]
  }
 ],
 "metadata": {
  "language_info": {
   "codemirror_mode": {
    "name": "ipython",
    "version": 3
   },
   "file_extension": ".py",
   "mimetype": "text/x-python",
   "name": "python",
   "nbconvert_exporter": "python",
   "pygments_lexer": "ipython3",
   "version": "3.13.3"
  }
 },
 "nbformat": 4,
 "nbformat_minor": 4
}
