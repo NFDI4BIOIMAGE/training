{
 "cells": [
  {
   "cell_type": "markdown",
   "metadata": {},
   "source": [
    "### Step 1: Import necessary libraries\n",
    "We will use `os`, `pandas`, and `matplotlib` to read the CSV files, process data, and plot the results."
   ]
  },
  {
   "cell_type": "code",
   "execution_count": 1,
   "metadata": {
    "execution": {
     "iopub.execute_input": "2025-06-22T02:36:32.992632Z",
     "iopub.status.busy": "2025-06-22T02:36:32.992450Z",
     "iopub.status.idle": "2025-06-22T02:36:33.785804Z",
     "shell.execute_reply": "2025-06-22T02:36:33.785250Z"
    }
   },
   "outputs": [],
   "source": [
    "import os\n",
    "import pandas as pd\n",
    "import matplotlib.pyplot as plt"
   ]
  },
  {
   "cell_type": "markdown",
   "metadata": {},
   "source": [
    "### Step 2: Define the path to the `download_statistics` folder\n",
    "We will collect all CSV filenames and extract the dates from filenames."
   ]
  },
  {
   "cell_type": "code",
   "execution_count": 2,
   "metadata": {
    "execution": {
     "iopub.execute_input": "2025-06-22T02:36:33.787944Z",
     "iopub.status.busy": "2025-06-22T02:36:33.787696Z",
     "iopub.status.idle": "2025-06-22T02:36:33.791194Z",
     "shell.execute_reply": "2025-06-22T02:36:33.790779Z"
    }
   },
   "outputs": [],
   "source": [
    "folder_path = '../download_statistics'\n",
    "files = [f for f in os.listdir(folder_path) if f.endswith('.csv')]\n",
    "dates = [f.split('.')[0] for f in files]\n",
    "dates.sort()  # Ensure dates are sorted"
   ]
  },
  {
   "cell_type": "markdown",
   "metadata": {},
   "source": [
    "### Step 3: Count the number of records in each file\n",
    "We will load each file and count its rows (excluding the header)."
   ]
  },
  {
   "cell_type": "code",
   "execution_count": 3,
   "metadata": {
    "execution": {
     "iopub.execute_input": "2025-06-22T02:36:33.792755Z",
     "iopub.status.busy": "2025-06-22T02:36:33.792581Z",
     "iopub.status.idle": "2025-06-22T02:36:33.841238Z",
     "shell.execute_reply": "2025-06-22T02:36:33.840729Z"
    }
   },
   "outputs": [],
   "source": [
    "record_counts = []\n",
    "for file in files:\n",
    "    file_path = os.path.join(folder_path, file)\n",
    "    df = pd.read_csv(file_path)\n",
    "    record_counts.append(len(df))"
   ]
  },
  {
   "cell_type": "markdown",
   "metadata": {},
   "source": [
    "### Step 4: Create a DataFrame for plotting\n",
    "We will organize the counts and dates into a DataFrame for easier analysis and plotting."
   ]
  },
  {
   "cell_type": "code",
   "execution_count": 4,
   "metadata": {
    "execution": {
     "iopub.execute_input": "2025-06-22T02:36:33.842961Z",
     "iopub.status.busy": "2025-06-22T02:36:33.842779Z",
     "iopub.status.idle": "2025-06-22T02:36:33.847896Z",
     "shell.execute_reply": "2025-06-22T02:36:33.847471Z"
    }
   },
   "outputs": [],
   "source": [
    "data = pd.DataFrame({'Date': dates, 'Record Count': record_counts})\n",
    "data['Date'] = pd.to_datetime(data['Date'])  # Convert to datetime\n",
    "data.sort_values('Date', inplace=True)  # Ensure data is sorted by date"
   ]
  },
  {
   "cell_type": "markdown",
   "metadata": {},
   "source": [
    "### Step 5: Plot the record counts over time\n",
    "We will visualize the number of records in each file over time."
   ]
  },
  {
   "cell_type": "code",
   "execution_count": 5,
   "metadata": {
    "execution": {
     "iopub.execute_input": "2025-06-22T02:36:33.849596Z",
     "iopub.status.busy": "2025-06-22T02:36:33.849415Z",
     "iopub.status.idle": "2025-06-22T02:36:33.964180Z",
     "shell.execute_reply": "2025-06-22T02:36:33.963570Z"
    }
   },
   "outputs": [],
   "source": [
    "plt.figure(figsize=(10, 6))\n",
    "plt.plot(data['Date'], data['Record Count'], marker='o', linestyle='-', color='b')\n",
    "plt.title('Number of Records Over Time', fontsize=14)\n",
    "plt.xlabel('Date', fontsize=12)\n",
    "plt.ylabel('Record Count', fontsize=12)\n",
    "plt.grid(True)\n",
    "plt.savefig('../docs/statistics/number_of_zenodo_records_over_time.png')\n",
    "plt.close()"
   ]
  },
  {
   "cell_type": "markdown",
   "metadata": {},
   "source": [
    "### Step 6: Save the data to CSV\n",
    "We will save the intermediate data used for plotting to a CSV file."
   ]
  },
  {
   "cell_type": "code",
   "execution_count": 6,
   "metadata": {
    "execution": {
     "iopub.execute_input": "2025-06-22T02:36:33.966175Z",
     "iopub.status.busy": "2025-06-22T02:36:33.965981Z",
     "iopub.status.idle": "2025-06-22T02:36:33.970144Z",
     "shell.execute_reply": "2025-06-22T02:36:33.969739Z"
    }
   },
   "outputs": [],
   "source": [
    "output_csv_path = '../docs/statistics/zenodo_links_over_time.csv'\n",
    "data.to_csv(output_csv_path, index=False)"
   ]
  }
 ],
 "metadata": {
  "language_info": {
   "codemirror_mode": {
    "name": "ipython",
    "version": 3
   },
   "file_extension": ".py",
   "mimetype": "text/x-python",
   "name": "python",
   "nbconvert_exporter": "python",
   "pygments_lexer": "ipython3",
   "version": "3.13.3"
  }
 },
 "nbformat": 4,
 "nbformat_minor": 4
}
