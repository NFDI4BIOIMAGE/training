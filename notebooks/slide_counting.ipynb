{
 "cells": [
  {
   "cell_type": "markdown",
   "id": "a5aaf9ad",
   "metadata": {},
   "source": [
    "# Counting Slides from a YAML File\n",
    "In this notebook, we will count the total number of slides from `.pptx` files listed in Zenodo records retrieved from a YAML file."
   ]
  },
  {
   "cell_type": "markdown",
   "id": "c364e27e",
   "metadata": {},
   "source": [
    "## Step 1: Load YAML File\n",
    "We will start by loading the YAML file to extract the URLs."
   ]
  },
  {
   "cell_type": "code",
   "execution_count": 1,
   "id": "aaca5194",
   "metadata": {
    "execution": {
     "iopub.execute_input": "2025-01-28T18:55:45.274333Z",
     "iopub.status.busy": "2025-01-28T18:55:45.274129Z",
     "iopub.status.idle": "2025-01-28T18:55:45.296080Z",
     "shell.execute_reply": "2025-01-28T18:55:45.295509Z"
    }
   },
   "outputs": [
    {
     "data": {
      "text/plain": [
       "[]"
      ]
     },
     "execution_count": 1,
     "metadata": {},
     "output_type": "execute_result"
    }
   ],
   "source": [
    "import yaml\n",
    "import os\n",
    "\n",
    "# Ensure resources directory exists\n",
    "os.makedirs(\"./resources\", exist_ok=True)\n",
    "\n",
    "# Load YML file\n",
    "yaml_path = \"./resources/nfdi4bioimage.yml\"\n",
    "if not os.path.exists(yaml_path):\n",
    "    with open(yaml_path, \"w\") as f:\n",
    "        f.write(\"urls: []\\n\")\n",
    "\n",
    "with open(yaml_path, \"r\") as yml_file:\n",
    "    data = yaml.safe_load(yml_file)\n",
    "\n",
    "urls = data.get(\"urls\", [])\n",
    "urls"
   ]
  },
  {
   "cell_type": "markdown",
   "id": "18398985",
   "metadata": {},
   "source": [
    "## Step 2: Identify Zenodo URLs and Fetch Record Information via API\n",
    "For URLs containing `https://zenodo.org`, retrieve the file details via the Zenodo API."
   ]
  },
  {
   "cell_type": "code",
   "execution_count": 2,
   "id": "96d63b2e",
   "metadata": {
    "execution": {
     "iopub.execute_input": "2025-01-28T18:55:45.298028Z",
     "iopub.status.busy": "2025-01-28T18:55:45.297687Z",
     "iopub.status.idle": "2025-01-28T18:55:45.361029Z",
     "shell.execute_reply": "2025-01-28T18:55:45.360439Z"
    }
   },
   "outputs": [
    {
     "data": {
      "text/plain": [
       "[]"
      ]
     },
     "execution_count": 2,
     "metadata": {},
     "output_type": "execute_result"
    }
   ],
   "source": [
    "import requests\n",
    "\n",
    "# Filter for Zenodo URLs\n",
    "zenodo_urls = [url for url in urls if \"https://zenodo.org\" in url]\n",
    "\n",
    "# Fetch record information\n",
    "def get_zenodo_files(zenodo_url):\n",
    "    record_id = zenodo_url.split(\"/\")[-1]\n",
    "    api_url = f\"https://zenodo.org/api/records/{record_id}\"\n",
    "    response = requests.get(api_url)\n",
    "    return response.json().get(\"files\", [])\n",
    "\n",
    "all_files = [get_zenodo_files(url) for url in zenodo_urls]\n",
    "all_files"
   ]
  },
  {
   "cell_type": "markdown",
   "id": "e0af2dab",
   "metadata": {},
   "source": [
    "## Step 3: Filter `.pptx` Files and Download Them\n",
    "Check the files in each Zenodo record and download those with `.pptx` extensions."
   ]
  },
  {
   "cell_type": "code",
   "execution_count": 3,
   "id": "8f6805dc",
   "metadata": {
    "execution": {
     "iopub.execute_input": "2025-01-28T18:55:45.363159Z",
     "iopub.status.busy": "2025-01-28T18:55:45.362787Z",
     "iopub.status.idle": "2025-01-28T18:55:45.368167Z",
     "shell.execute_reply": "2025-01-28T18:55:45.367593Z"
    }
   },
   "outputs": [
    {
     "data": {
      "text/plain": [
       "[]"
      ]
     },
     "execution_count": 3,
     "metadata": {},
     "output_type": "execute_result"
    }
   ],
   "source": [
    "import os\n",
    "\n",
    "# Ensure temp directory exists\n",
    "os.makedirs(\"./temp\", exist_ok=True)\n",
    "\n",
    "# Filter and download .pptx files\n",
    "pptx_files = []\n",
    "for files in all_files:\n",
    "    for file in files:\n",
    "        if file[\"key\"].endswith(\".pptx\"):\n",
    "            response = requests.get(file[\"links\"][\"download\"])\n",
    "            file_path = f\"./temp/{file['key']}\"\n",
    "            with open(file_path, \"wb\") as f:\n",
    "                f.write(response.content)\n",
    "            pptx_files.append(file_path)\n",
    "\n",
    "pptx_files"
   ]
  },
  {
   "cell_type": "markdown",
   "id": "52b30a3c",
   "metadata": {},
   "source": [
    "## Step 4: Count Slides in Downloaded `.pptx` Files\n",
    "Use the `python-pptx` library to open each `.pptx` file and count the slides."
   ]
  },
  {
   "cell_type": "code",
   "execution_count": 4,
   "id": "cd52164f",
   "metadata": {
    "execution": {
     "iopub.execute_input": "2025-01-28T18:55:45.369989Z",
     "iopub.status.busy": "2025-01-28T18:55:45.369669Z",
     "iopub.status.idle": "2025-01-28T18:55:45.445356Z",
     "shell.execute_reply": "2025-01-28T18:55:45.444747Z"
    }
   },
   "outputs": [
    {
     "data": {
      "text/plain": [
       "0"
      ]
     },
     "execution_count": 4,
     "metadata": {},
     "output_type": "execute_result"
    }
   ],
   "source": [
    "from pptx import Presentation\n",
    "\n",
    "# Count slides\n",
    "def count_slides(file_path):\n",
    "    presentation = Presentation(file_path)\n",
    "    return len(presentation.slides)\n",
    "\n",
    "total_slides = sum(count_slides(file_path) for file_path in pptx_files)\n",
    "total_slides"
   ]
  },
  {
   "cell_type": "markdown",
   "id": "22d0695f",
   "metadata": {},
   "source": [
    "## Step 5: Save the Result\n",
    "Write the total count of slides to a text file for later reference."
   ]
  },
  {
   "cell_type": "code",
   "execution_count": 5,
   "id": "e719c4d1",
   "metadata": {
    "execution": {
     "iopub.execute_input": "2025-01-28T18:55:45.447347Z",
     "iopub.status.busy": "2025-01-28T18:55:45.446926Z",
     "iopub.status.idle": "2025-01-28T18:55:45.450231Z",
     "shell.execute_reply": "2025-01-28T18:55:45.449662Z"
    }
   },
   "outputs": [],
   "source": [
    "# Save total count to file\n",
    "with open(\"./temp/total_slides.txt\", \"w\") as f:\n",
    "    f.write(f\"Total slides: {total_slides}\\n\")"
   ]
  },
  {
   "cell_type": "markdown",
   "id": "61675e8d",
   "metadata": {},
   "source": [
    "## Cleanup\n",
    "Remove all temporary `.pptx` files to clean up the workspace."
   ]
  },
  {
   "cell_type": "code",
   "execution_count": 6,
   "id": "bd5994ef",
   "metadata": {
    "execution": {
     "iopub.execute_input": "2025-01-28T18:55:45.452211Z",
     "iopub.status.busy": "2025-01-28T18:55:45.451867Z",
     "iopub.status.idle": "2025-01-28T18:55:45.454815Z",
     "shell.execute_reply": "2025-01-28T18:55:45.454391Z"
    }
   },
   "outputs": [],
   "source": [
    "import shutil\n",
    "\n",
    "shutil.rmtree(\"./temp\")"
   ]
  }
 ],
 "metadata": {
  "language_info": {
   "codemirror_mode": {
    "name": "ipython",
    "version": 3
   },
   "file_extension": ".py",
   "mimetype": "text/x-python",
   "name": "python",
   "nbconvert_exporter": "python",
   "pygments_lexer": "ipython3",
   "version": "3.12.8"
  }
 },
 "nbformat": 4,
 "nbformat_minor": 5
}
