{
 "cells": [
  {
   "cell_type": "markdown",
   "id": "a5aaf9ad",
   "metadata": {},
   "source": [
    "# Counting Slides from a YAML File\n",
    "In this notebook, we will count the total number of slides from `.pptx` files listed in Zenodo records retrieved from a YAML file."
   ]
  },
  {
   "cell_type": "markdown",
   "id": "c364e27e",
   "metadata": {},
   "source": [
    "## Step 1: Load YAML File\n",
    "We will start by loading the YAML file to extract the URLs."
   ]
  },
  {
   "cell_type": "code",
   "execution_count": 1,
   "id": "aaca5194",
   "metadata": {
    "execution": {
     "iopub.execute_input": "2025-01-28T18:55:27.843461Z",
     "iopub.status.busy": "2025-01-28T18:55:27.843274Z",
     "iopub.status.idle": "2025-01-28T18:55:28.052559Z",
     "shell.execute_reply": "2025-01-28T18:55:28.051733Z"
    }
   },
   "outputs": [
    {
     "ename": "FileNotFoundError",
     "evalue": "[Errno 2] No such file or directory: './resources/nfdi4bioimage.yml'",
     "output_type": "error",
     "traceback": [
      "\u001b[0;31m---------------------------------------------------------------------------\u001b[0m",
      "\u001b[0;31mFileNotFoundError\u001b[0m                         Traceback (most recent call last)",
      "Cell \u001b[0;32mIn[1], line 7\u001b[0m\n\u001b[1;32m      5\u001b[0m yaml_path \u001b[38;5;241m=\u001b[39m \u001b[38;5;124m\"\u001b[39m\u001b[38;5;124m./resources/nfdi4bioimage.yml\u001b[39m\u001b[38;5;124m\"\u001b[39m\n\u001b[1;32m      6\u001b[0m \u001b[38;5;28;01mif\u001b[39;00m \u001b[38;5;129;01mnot\u001b[39;00m os\u001b[38;5;241m.\u001b[39mpath\u001b[38;5;241m.\u001b[39mexists(yaml_path):\n\u001b[0;32m----> 7\u001b[0m     \u001b[38;5;28;01mwith\u001b[39;00m \u001b[38;5;28;43mopen\u001b[39;49m\u001b[43m(\u001b[49m\u001b[43myaml_path\u001b[49m\u001b[43m,\u001b[49m\u001b[43m \u001b[49m\u001b[38;5;124;43m\"\u001b[39;49m\u001b[38;5;124;43mw\u001b[39;49m\u001b[38;5;124;43m\"\u001b[39;49m\u001b[43m)\u001b[49m \u001b[38;5;28;01mas\u001b[39;00m f:\n\u001b[1;32m      8\u001b[0m         f\u001b[38;5;241m.\u001b[39mwrite(\u001b[38;5;124m\"\u001b[39m\u001b[38;5;124murls: []\u001b[39m\u001b[38;5;130;01m\\n\u001b[39;00m\u001b[38;5;124m\"\u001b[39m)\n\u001b[1;32m     10\u001b[0m \u001b[38;5;28;01mwith\u001b[39;00m \u001b[38;5;28mopen\u001b[39m(yaml_path, \u001b[38;5;124m\"\u001b[39m\u001b[38;5;124mr\u001b[39m\u001b[38;5;124m\"\u001b[39m) \u001b[38;5;28;01mas\u001b[39;00m yml_file:\n",
      "File \u001b[0;32m/opt/hostedtoolcache/Python/3.12.8/x64/lib/python3.12/site-packages/IPython/core/interactiveshell.py:324\u001b[0m, in \u001b[0;36m_modified_open\u001b[0;34m(file, *args, **kwargs)\u001b[0m\n\u001b[1;32m    317\u001b[0m \u001b[38;5;28;01mif\u001b[39;00m file \u001b[38;5;129;01min\u001b[39;00m {\u001b[38;5;241m0\u001b[39m, \u001b[38;5;241m1\u001b[39m, \u001b[38;5;241m2\u001b[39m}:\n\u001b[1;32m    318\u001b[0m     \u001b[38;5;28;01mraise\u001b[39;00m \u001b[38;5;167;01mValueError\u001b[39;00m(\n\u001b[1;32m    319\u001b[0m         \u001b[38;5;124mf\u001b[39m\u001b[38;5;124m\"\u001b[39m\u001b[38;5;124mIPython won\u001b[39m\u001b[38;5;124m'\u001b[39m\u001b[38;5;124mt let you open fd=\u001b[39m\u001b[38;5;132;01m{\u001b[39;00mfile\u001b[38;5;132;01m}\u001b[39;00m\u001b[38;5;124m by default \u001b[39m\u001b[38;5;124m\"\u001b[39m\n\u001b[1;32m    320\u001b[0m         \u001b[38;5;124m\"\u001b[39m\u001b[38;5;124mas it is likely to crash IPython. If you know what you are doing, \u001b[39m\u001b[38;5;124m\"\u001b[39m\n\u001b[1;32m    321\u001b[0m         \u001b[38;5;124m\"\u001b[39m\u001b[38;5;124myou can use builtins\u001b[39m\u001b[38;5;124m'\u001b[39m\u001b[38;5;124m open.\u001b[39m\u001b[38;5;124m\"\u001b[39m\n\u001b[1;32m    322\u001b[0m     )\n\u001b[0;32m--> 324\u001b[0m \u001b[38;5;28;01mreturn\u001b[39;00m \u001b[43mio_open\u001b[49m\u001b[43m(\u001b[49m\u001b[43mfile\u001b[49m\u001b[43m,\u001b[49m\u001b[43m \u001b[49m\u001b[38;5;241;43m*\u001b[39;49m\u001b[43margs\u001b[49m\u001b[43m,\u001b[49m\u001b[43m \u001b[49m\u001b[38;5;241;43m*\u001b[39;49m\u001b[38;5;241;43m*\u001b[39;49m\u001b[43mkwargs\u001b[49m\u001b[43m)\u001b[49m\n",
      "\u001b[0;31mFileNotFoundError\u001b[0m: [Errno 2] No such file or directory: './resources/nfdi4bioimage.yml'"
     ]
    }
   ],
   "source": [
    "import yaml\n",
    "import os\n",
    "\n",
    "# Load YML file\n",
    "yaml_path = \"./resources/nfdi4bioimage.yml\"\n",
    "if not os.path.exists(yaml_path):\n",
    "    with open(yaml_path, \"w\") as f:\n",
    "        f.write(\"urls: []\\n\")\n",
    "\n",
    "with open(yaml_path, \"r\") as yml_file:\n",
    "    data = yaml.safe_load(yml_file)\n",
    "\n",
    "urls = data.get(\"urls\", [])\n",
    "urls"
   ]
  },
  {
   "cell_type": "markdown",
   "id": "18398985",
   "metadata": {},
   "source": [
    "## Step 2: Identify Zenodo URLs and Fetch Record Information via API\n",
    "For URLs containing `https://zenodo.org`, retrieve the file details via the Zenodo API."
   ]
  },
  {
   "cell_type": "code",
   "execution_count": null,
   "id": "96d63b2e",
   "metadata": {},
   "outputs": [],
   "source": [
    "import requests\n",
    "\n",
    "# Filter for Zenodo URLs\n",
    "zenodo_urls = [url for url in urls if \"https://zenodo.org\" in url]\n",
    "\n",
    "# Fetch record information\n",
    "def get_zenodo_files(zenodo_url):\n",
    "    record_id = zenodo_url.split(\"/\")[-1]\n",
    "    api_url = f\"https://zenodo.org/api/records/{record_id}\"\n",
    "    response = requests.get(api_url)\n",
    "    return response.json().get(\"files\", [])\n",
    "\n",
    "all_files = [get_zenodo_files(url) for url in zenodo_urls]\n",
    "all_files"
   ]
  },
  {
   "cell_type": "markdown",
   "id": "e0af2dab",
   "metadata": {},
   "source": [
    "## Step 3: Filter `.pptx` Files and Download Them\n",
    "Check the files in each Zenodo record and download those with `.pptx` extensions."
   ]
  },
  {
   "cell_type": "code",
   "execution_count": null,
   "id": "8f6805dc",
   "metadata": {},
   "outputs": [],
   "source": [
    "import os\n",
    "\n",
    "# Ensure temp directory exists\n",
    "os.makedirs(\"./temp\", exist_ok=True)\n",
    "\n",
    "# Filter and download .pptx files\n",
    "pptx_files = []\n",
    "for files in all_files:\n",
    "    for file in files:\n",
    "        if file[\"key\"].endswith(\".pptx\"):\n",
    "            response = requests.get(file[\"links\"][\"download\"])\n",
    "            file_path = f\"./temp/{file['key']}\"\n",
    "            with open(file_path, \"wb\") as f:\n",
    "                f.write(response.content)\n",
    "            pptx_files.append(file_path)\n",
    "\n",
    "pptx_files"
   ]
  },
  {
   "cell_type": "markdown",
   "id": "52b30a3c",
   "metadata": {},
   "source": [
    "## Step 4: Count Slides in Downloaded `.pptx` Files\n",
    "Use the `python-pptx` library to open each `.pptx` file and count the slides."
   ]
  },
  {
   "cell_type": "code",
   "execution_count": null,
   "id": "cd52164f",
   "metadata": {},
   "outputs": [],
   "source": [
    "from pptx import Presentation\n",
    "\n",
    "# Count slides\n",
    "def count_slides(file_path):\n",
    "    presentation = Presentation(file_path)\n",
    "    return len(presentation.slides)\n",
    "\n",
    "total_slides = sum(count_slides(file_path) for file_path in pptx_files)\n",
    "total_slides"
   ]
  },
  {
   "cell_type": "markdown",
   "id": "22d0695f",
   "metadata": {},
   "source": [
    "## Step 5: Save the Result\n",
    "Write the total count of slides to a text file for later reference."
   ]
  },
  {
   "cell_type": "code",
   "execution_count": null,
   "id": "e719c4d1",
   "metadata": {},
   "outputs": [],
   "source": [
    "# Save total count to file\n",
    "with open(\"./temp/total_slides.txt\", \"w\") as f:\n",
    "    f.write(f\"Total slides: {total_slides}\\n\")"
   ]
  },
  {
   "cell_type": "markdown",
   "id": "61675e8d",
   "metadata": {},
   "source": [
    "## Cleanup\n",
    "Remove all temporary `.pptx` files to clean up the workspace."
   ]
  },
  {
   "cell_type": "code",
   "execution_count": null,
   "id": "bd5994ef",
   "metadata": {},
   "outputs": [],
   "source": [
    "import shutil\n",
    "\n",
    "shutil.rmtree(\"./temp\")"
   ]
  }
 ],
 "metadata": {
  "language_info": {
   "codemirror_mode": {
    "name": "ipython",
    "version": 3
   },
   "file_extension": ".py",
   "mimetype": "text/x-python",
   "name": "python",
   "nbconvert_exporter": "python",
   "pygments_lexer": "ipython3",
   "version": "3.12.8"
  }
 },
 "nbformat": 4,
 "nbformat_minor": 5
}