{
 "cells": [
  {
   "cell_type": "markdown",
   "id": "a5aaf9ad",
   "metadata": {},
   "source": [
    "# Counting Slides from a YAML File\n",
    "In this notebook, we will count the total number of slides from `.pptx` files listed in Zenodo records retrieved from a YAML file."
   ]
  },
  {
   "cell_type": "markdown",
   "id": "c364e27e",
   "metadata": {},
   "source": [
    "## Step 1: Load YAML File\n",
    "We will start by loading the YAML file to extract the URLs."
   ]
  },
  {
   "cell_type": "code",
   "execution_count": 3,
   "id": "aaca5194",
   "metadata": {},
   "outputs": [
    {
     "data": {
      "text/plain": [
       "755"
      ]
     },
     "execution_count": 3,
     "metadata": {},
     "output_type": "execute_result"
    }
   ],
   "source": [
    "import yaml\n",
    "import os\n",
    "\n",
    "yaml_path = \"../resources/nfdi4bioimage.yml\"\n",
    "\n",
    "with open(yaml_path, \"r\", encoding=\"utf-8\") as yml_file:\n",
    "    data = yaml.safe_load(yml_file)\n",
    "\n",
    "urls = []\n",
    "records = data[\"resources\"]\n",
    "\n",
    "for r in records:\n",
    "    r_urls = r[\"url\"]\n",
    "    if not isinstance(r_urls, list):\n",
    "        r_urls = [r_urls]\n",
    "    for u in r_urls:\n",
    "        urls.append(u)\n",
    "\n",
    "len(urls)"
   ]
  },
  {
   "cell_type": "code",
   "execution_count": 4,
   "id": "71ffec9e-6c0f-49f1-a302-61330c7ea742",
   "metadata": {},
   "outputs": [
    {
     "data": {
      "text/plain": [
       "['https://focalplane.biologists.com/2023/07/26/sharing-your-poster-on-figshare/',\n",
       " 'https://biapol.github.io/blog/marcelo_zoccoler/omero_scripts/readme.html',\n",
       " 'https://biapol.github.io/blog/robert_haase/browsing_idr/readme.html']"
      ]
     },
     "execution_count": 4,
     "metadata": {},
     "output_type": "execute_result"
    }
   ],
   "source": [
    "urls[:3]"
   ]
  },
  {
   "cell_type": "markdown",
   "id": "18398985",
   "metadata": {},
   "source": [
    "## Step 2: Identify Zenodo URLs and Fetch Record Information via API\n",
    "For URLs containing `https://zenodo.org`, retrieve the file details via the Zenodo API."
   ]
  },
  {
   "cell_type": "code",
   "execution_count": 5,
   "id": "c655647d-e032-4f8a-941e-fef6451a9c16",
   "metadata": {},
   "outputs": [
    {
     "data": {
      "text/plain": [
       "(183, 'https://zenodo.org/record/4071471')"
      ]
     },
     "execution_count": 5,
     "metadata": {},
     "output_type": "execute_result"
    }
   ],
   "source": [
    "import requests\n",
    "\n",
    "# Filter for Zenodo URLs\n",
    "zenodo_urls = [url for url in urls if \"https://zenodo.org\" in url]\n",
    "len(zenodo_urls), zenodo_urls[0]"
   ]
  },
  {
   "cell_type": "code",
   "execution_count": 6,
   "id": "1b55bcd3-733f-4720-9584-e183418f7422",
   "metadata": {},
   "outputs": [
    {
     "data": {
      "text/plain": [
       "183"
      ]
     },
     "execution_count": 6,
     "metadata": {},
     "output_type": "execute_result"
    }
   ],
   "source": [
    "# Fetch record information\n",
    "def get_zenodo_files(zenodo_url):\n",
    "    record_id = zenodo_url.split(\"/\")[-1]\n",
    "    api_url = f\"https://zenodo.org/api/records/{record_id}\"\n",
    "    response = requests.get(api_url)\n",
    "    return response.json().get(\"files\", [])\n",
    "\n",
    "all_files = [get_zenodo_files(url) for url in zenodo_urls]\n",
    "len(all_files)"
   ]
  },
  {
   "cell_type": "code",
   "execution_count": 7,
   "id": "4c01dfd2-5d19-4210-ad6e-6c4796399664",
   "metadata": {},
   "outputs": [
    {
     "data": {
      "text/plain": [
       "[[{'id': '9c5eb1a7-1ad0-432a-8349-09d7a6f336aa',\n",
       "   'key': 'Train-the-Trainer_Concept_V3.pdf',\n",
       "   'size': 17495119,\n",
       "   'checksum': 'md5:f12de829b72f268c5e65627562c175ba',\n",
       "   'links': {'self': 'https://zenodo.org/api/records/4071471/files/Train-the-Trainer_Concept_V3.pdf/content'}},\n",
       "  {'id': '84080478-da62-4d89-830c-27064ec5647a',\n",
       "   'key': 'WorkingMaterials_FDMentor_V3.zip',\n",
       "   'size': 29100571,\n",
       "   'checksum': 'md5:08e28db87c659d1df36b454a53c21a9e',\n",
       "   'links': {'self': 'https://zenodo.org/api/records/4071471/files/WorkingMaterials_FDMentor_V3.zip/content'}}],\n",
       " [{'id': 'b6d0b3e8-895b-4934-a8cd-1f1748b5a0ae',\n",
       "   'key': 'Poster-Efficiently-starting-institutional-RDM.pdf',\n",
       "   'size': 433244,\n",
       "   'checksum': 'md5:a1399249c4b1368107959c5cc897ae2d',\n",
       "   'links': {'self': 'https://zenodo.org/api/records/3490058/files/Poster-Efficiently-starting-institutional-RDM.pdf/content'}}],\n",
       " [{'id': 'b362d45e-35da-461a-a4d4-c42d1ca672d7',\n",
       "   'key': 'Module_03_RDM_Knowledge_Blocks.pdf',\n",
       "   'size': 15471950,\n",
       "   'checksum': 'md5:40d23dfecd99d15f9be97266e9a77bde',\n",
       "   'links': {'self': 'https://zenodo.org/api/records/6602101/files/Module_03_RDM_Knowledge_Blocks.pdf/content'}},\n",
       "  {'id': '7ee56572-c06f-4466-b748-dc58bfb25f3b',\n",
       "   'key': 'Module_01_RDM_Introduction_v02.pdf',\n",
       "   'size': 9194728,\n",
       "   'checksum': 'md5:3532a3790fafd4dd55d0785a5f87286a',\n",
       "   'links': {'self': 'https://zenodo.org/api/records/6602101/files/Module_01_RDM_Introduction_v02.pdf/content'}},\n",
       "  {'id': 'bc13ba03-827e-4b6e-950f-887f0df750de',\n",
       "   'key': 'Module_04_Data_Management_Plans_v02.pdf',\n",
       "   'size': 6652248,\n",
       "   'checksum': 'md5:dbf675b2459b538c311633b060bc462d',\n",
       "   'links': {'self': 'https://zenodo.org/api/records/6602101/files/Module_04_Data_Management_Plans_v02.pdf/content'}},\n",
       "  {'id': '9c38766f-e53b-4ee9-a3b4-09ac4a2f6a03',\n",
       "   'key': 'Module_02_FAIR_and_High-Level_Policies.pdf',\n",
       "   'size': 4703661,\n",
       "   'checksum': 'md5:8ec7f9e82c8ce123daf6d81476c1f267',\n",
       "   'links': {'self': 'https://zenodo.org/api/records/6602101/files/Module_02_FAIR_and_High-Level_Policies.pdf/content'}}]]"
      ]
     },
     "execution_count": 7,
     "metadata": {},
     "output_type": "execute_result"
    }
   ],
   "source": [
    "all_files[:3]"
   ]
  },
  {
   "cell_type": "markdown",
   "id": "e0af2dab",
   "metadata": {},
   "source": [
    "## Step 3: Filter `.pptx` Files and Download Them\n",
    "Check the files in each Zenodo record and download those with `.pptx` extensions."
   ]
  },
  {
   "cell_type": "code",
   "execution_count": 9,
   "id": "8f6805dc",
   "metadata": {},
   "outputs": [
    {
     "data": {
      "text/plain": [
       "['./temp/202310_GENERAL_OMERO_Material_01_WhatIsOMERO.pptx',\n",
       " './temp/202310_GENERAL_OMERO_Material_06-1_DataSearch.pptx',\n",
       " './temp/202310_GENERAL_OMERO_Material_03_OMERO_Explained.pptx',\n",
       " './temp/202310_GENERAL_OMERO_Material_07-0_Metadata.pptx',\n",
       " './temp/202310_GENERAL_OMERO_Material_04_UserGroups.pptx',\n",
       " './temp/202310_GENERAL_OMERO_Material_09_More.pptx',\n",
       " './temp/202310_GENERAL_OMERO_Material_06-0_DataOrganization.pptx',\n",
       " './temp/202310_GENERAL_OMERO_Material_07-1_Metadata_Tags.pptx',\n",
       " './temp/202310_GENERAL_OMERO_Material_05_UploadingData.pptx',\n",
       " './temp/202310_GENERAL_OMERO_Material_07-3_Metadata_Ontologies.pptx',\n",
       " './temp/202310_GENERAL_OMERO_Material_02_ConnectToOMERO.pptx',\n",
       " './temp/202310_GENERAL_OMERO_Material_07-2_Metadata_KeyValuePairs.pptx',\n",
       " './temp/202310_GENERAL_OMERO_Material_08_OMERO-Fiji.pptx',\n",
       " './temp/Bio-Image_Data_Strudel_TU-Dresden_TP_Workshop_2023.pptx',\n",
       " './temp/LLMs_BIA_v3.pptx',\n",
       " './temp/Cultivating Open Training_v2.pptx',\n",
       " './temp/DataWeek_git_de.pptx',\n",
       " './temp/DataWeek_Sharing+Licensing.pptx',\n",
       " './temp/Intro_DM_de.pptx',\n",
       " './temp/Cultivating_open_training_v6.pptx',\n",
       " './temp/S4-1_Simon_Bekemeier-Electronic-Lab-Notebooks-and-eLabFTW-An-Introduction.pptx',\n",
       " './temp/S3-1_Tom_Boissonnet-Day_To_Day_Image_Data_Management_With_OMERO.ppt.pptx',\n",
       " './temp/S3-3_Marcelo_Zoccoler-Image_Analysis_with_OMERO.pptx',\n",
       " './temp/S2-1_Simon_Parker-Research_Data_Protection_and_Data_Sharing_via_GHGA.pptx',\n",
       " './temp/S3-2_Riccardo_Massei-Data_Management_of_High_Content_Screening_Data_Using_OMERO.pptx',\n",
       " './temp/WS_program_and_campus_survey_Conni_Wetzker.pptx',\n",
       " './temp/MICROSAM_TALK_SWISSBIAS_APR_24.pptx',\n",
       " './temp/MICROSAM_TALK_HUMAN_TECHNOPOLE_MAY_24.pptx',\n",
       " './temp/Cultivating Open Training_v3.pptx',\n",
       " './temp/20240528_datenschutz_vertiefungsworkshop.pptx',\n",
       " './temp/14_Summary.pptx',\n",
       " './temp/12_Vision_models.pptx',\n",
       " './temp/11_prompteng_rag_finetuning.pptx',\n",
       " './temp/08_Sup_Unsup_Machine_Learning.pptx',\n",
       " './temp/06_Chatbots.pptx',\n",
       " './temp/05_Surface_Recon_QA.pptx',\n",
       " './temp/03_RSM_Image_Processing.pptx',\n",
       " './temp/02_Introduction_RDM_2024.pptx',\n",
       " './temp/01_Introduction_BIDS_2024.pptx',\n",
       " './temp/07_distributed_gpu_computing.pptx',\n",
       " './temp/04_Image_segmentation.pptx',\n",
       " './temp/09_Deep_Learning.pptx',\n",
       " './temp/10_function_calling.pptx',\n",
       " './temp/13_quality_assurance.pptx',\n",
       " './temp/Thinking_Data_Management_On_Different_Scales.pptx',\n",
       " './temp/LLMs_BIA_v12.pptx',\n",
       " './temp/LLMs_BIA_v11.pptx',\n",
       " './temp/NFDI4BIOIMAGE_data_preservation.pptx',\n",
       " './temp/20240429_WorkshopSlides_DataStructureAnnotation.pptx',\n",
       " './temp/20240430_WorkshopSlides_OMEROplugins.pptx',\n",
       " './temp/20240429_WorkshopSlides_Ontologies.pptx',\n",
       " './temp/20240429_WorkshopSlides_REMBI_Annotation_OMERO.pptx',\n",
       " './temp/20240429_WorkshopSlides_Metadata_FAIR.pptx',\n",
       " './temp/20240430_WorkshopSlides_OMERO_Fiji.pptx',\n",
       " './temp/LLMs_BIA_v15.pptx',\n",
       " './temp/LLMs_BIA_v17.pptx',\n",
       " './temp/Tagging with Tabbles for OMERO.pptx',\n",
       " './temp/NFDI4BIOIMAGE_data_preservation.pptx',\n",
       " './temp/InsightsClinicalImgFM_Talk_Munich_10.04.2024 (2).pptx',\n",
       " './temp/InsightsClinicalImgFM_Poster_Munich_10.04.2024 (2).pptx',\n",
       " './temp/FLIMfit_GerBi-FLIM-2024_Anca Margineanu.pptx',\n",
       " './temp/FLUTE-software_GerBI-FLIM-2024_Chiara-Stringari.pptx',\n",
       " './temp/napari-FLIM-phasor-plotter_GerBI-FLIM-2024_Conni-Wetzker+Marcelo-Zoccoler_for-pdf.pptx',\n",
       " './temp/2024_HKT_Galaxy.pptx',\n",
       " './temp/20230206_32ndMoMAN-CAi-GerBI-DKFZ_public.pptx',\n",
       " './temp/20241113_RoundTable_1.pptx',\n",
       " './temp/TeamIVMIC_Leuven 2024.pptx',\n",
       " './temp/2024-GerBI FLUTE-software.pptx']"
      ]
     },
     "execution_count": 9,
     "metadata": {},
     "output_type": "execute_result"
    }
   ],
   "source": [
    "import os\n",
    "\n",
    "# Ensure temp directory exists\n",
    "os.makedirs(\"./temp\", exist_ok=True)\n",
    "\n",
    "# Filter and download .pptx files\n",
    "pptx_files = []\n",
    "for files in all_files:\n",
    "    for file in files:\n",
    "        if file[\"key\"].endswith(\".pptx\"):\n",
    "            response = requests.get(file[\"links\"][\"self\"])\n",
    "            file_path = f\"./temp/{file['key']}\"\n",
    "            with open(file_path, \"wb\") as f:\n",
    "                f.write(response.content)\n",
    "            pptx_files.append(file_path)\n",
    "\n",
    "pptx_files"
   ]
  },
  {
   "cell_type": "markdown",
   "id": "52b30a3c",
   "metadata": {},
   "source": [
    "## Step 4: Count Slides in Downloaded `.pptx` Files\n",
    "Use the `python-pptx` library to open each `.pptx` file and count the slides."
   ]
  },
  {
   "cell_type": "code",
   "execution_count": 10,
   "id": "cd52164f",
   "metadata": {},
   "outputs": [
    {
     "data": {
      "text/plain": [
       "2371"
      ]
     },
     "execution_count": 10,
     "metadata": {},
     "output_type": "execute_result"
    }
   ],
   "source": [
    "from pptx import Presentation\n",
    "\n",
    "# Count slides\n",
    "def count_slides(file_path):\n",
    "    presentation = Presentation(file_path)\n",
    "    return len(presentation.slides)\n",
    "\n",
    "total_slides = sum(count_slides(file_path) for file_path in pptx_files)\n",
    "total_slides"
   ]
  }
 ],
 "metadata": {
  "kernelspec": {
   "display_name": "Python 3 (ipykernel)",
   "language": "python",
   "name": "python3"
  },
  "language_info": {
   "codemirror_mode": {
    "name": "ipython",
    "version": 3
   },
   "file_extension": ".py",
   "mimetype": "text/x-python",
   "name": "python",
   "nbconvert_exporter": "python",
   "pygments_lexer": "ipython3",
   "version": "3.11.11"
  }
 },
 "nbformat": 4,
 "nbformat_minor": 5
}
