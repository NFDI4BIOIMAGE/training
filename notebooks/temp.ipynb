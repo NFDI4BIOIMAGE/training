{
 "cells": [
  {
   "cell_type": "markdown",
   "id": "c2a36e3d",
   "metadata": {},
   "source": [
    "# Open the YAML file\n",
    "We will read the contents of the file `resources/nfdi4bioimage.yml`."
   ]
  },
  {
   "cell_type": "code",
   "execution_count": 1,
   "id": "4ea068c1",
   "metadata": {
    "execution": {
     "iopub.execute_input": "2024-10-21T15:13:09.651449Z",
     "iopub.status.busy": "2024-10-21T15:13:09.651258Z",
     "iopub.status.idle": "2024-10-21T15:13:09.654995Z",
     "shell.execute_reply": "2024-10-21T15:13:09.654470Z"
    }
   },
   "outputs": [],
   "source": [
    "with open('../resources/nfdi4bioimage.yml', 'r', encoding='utf-8') as file:\n",
    "    content = file.read()"
   ]
  },
  {
   "cell_type": "markdown",
   "id": "a75b9de6",
   "metadata": {},
   "source": [
    "# Replace incorrect author names\n",
    "We will replace \"Sara Hern\\xE1ndez-p\\xE9rez\" with \"Sara Hernández-Pérez\" and \"S\\xE9amus Holden\" with \"Séamus Holden\"."
   ]
  },
  {
   "cell_type": "code",
   "execution_count": 2,
   "id": "a5f30afb",
   "metadata": {
    "execution": {
     "iopub.execute_input": "2024-10-21T15:13:09.657053Z",
     "iopub.status.busy": "2024-10-21T15:13:09.656618Z",
     "iopub.status.idle": "2024-10-21T15:13:09.659608Z",
     "shell.execute_reply": "2024-10-21T15:13:09.659016Z"
    }
   },
   "outputs": [],
   "source": [
    "content = content.replace('Sara Hern\\xE1ndez-p\\xE9rez', 'Sara Hernández-Pérez')\n",
    "content = content.replace('S\\xE9amus Holden', 'Séamus Holden')"
   ]
  },
  {
   "cell_type": "markdown",
   "id": "0080bb55",
   "metadata": {},
   "source": [
    "# Save updated content back to the file\n",
    "Write the modified content back to `resources/nfdi4bioimage.yml`."
   ]
  },
  {
   "cell_type": "code",
   "execution_count": 3,
   "id": "a5b4261a",
   "metadata": {
    "execution": {
     "iopub.execute_input": "2024-10-21T15:13:09.661357Z",
     "iopub.status.busy": "2024-10-21T15:13:09.661039Z",
     "iopub.status.idle": "2024-10-21T15:13:09.664297Z",
     "shell.execute_reply": "2024-10-21T15:13:09.663760Z"
    }
   },
   "outputs": [],
   "source": [
    "with open('../resources/nfdi4bioimage.yml', 'w', encoding='utf-8') as file:\n",
    "    file.write(content)"
   ]
  }
 ],
 "metadata": {
  "language_info": {
   "codemirror_mode": {
    "name": "ipython",
    "version": 3
   },
   "file_extension": ".py",
   "mimetype": "text/x-python",
   "name": "python",
   "nbconvert_exporter": "python",
   "pygments_lexer": "ipython3",
   "version": "3.12.7"
  }
 },
 "nbformat": 4,
 "nbformat_minor": 5
}
