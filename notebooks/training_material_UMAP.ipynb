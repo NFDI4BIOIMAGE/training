{
 "cells": [
  {
   "cell_type": "markdown",
   "id": "8637ba2a-f7d9-44d3-962c-71a3616439ce",
   "metadata": {},
   "source": [
    "# Visual Representation of all NFDI4BIOIMAGE Training Materials\n",
    "\n",
    "In this notebook, the contents of the [Training Materials](https://nfdi4bioimage.github.io/training/readme.html) are displayed using a UMAP. \n",
    "\n",
    "Each data type (e.g. presentation slides, website, git repository, ...) is displayed in a unique color to identify the overall structure and distribution of data types across the different topics covered by the Training Material."
   ]
  },
  {
   "cell_type": "code",
   "execution_count": 1,
   "id": "4b680ca9-9876-4df9-a323-546396d90729",
   "metadata": {
    "execution": {
     "iopub.execute_input": "2025-08-20T18:08:12.941747Z",
     "iopub.status.busy": "2025-08-20T18:08:12.941490Z",
     "iopub.status.idle": "2025-08-20T18:08:12.950531Z",
     "shell.execute_reply": "2025-08-20T18:08:12.950103Z"
    }
   },
   "outputs": [],
   "source": [
    "import sys\n",
    "import os\n",
    "\n",
    "# Add the scripts directory to Python path to import functions\n",
    "sys.path.append(os.path.abspath(\"../scripts\"))"
   ]
  },
  {
   "cell_type": "code",
   "execution_count": 2,
   "id": "b4e327f8-380a-4253-8bba-49d1a1947812",
   "metadata": {
    "execution": {
     "iopub.execute_input": "2025-08-20T18:08:12.952073Z",
     "iopub.status.busy": "2025-08-20T18:08:12.951910Z",
     "iopub.status.idle": "2025-08-20T18:08:14.042286Z",
     "shell.execute_reply": "2025-08-20T18:08:14.041667Z"
    }
   },
   "outputs": [
    {
     "data": {
      "text/html": [
       "<div>\n",
       "<style scoped>\n",
       "    .dataframe tbody tr th:only-of-type {\n",
       "        vertical-align: middle;\n",
       "    }\n",
       "\n",
       "    .dataframe tbody tr th {\n",
       "        vertical-align: top;\n",
       "    }\n",
       "\n",
       "    .dataframe thead th {\n",
       "        text-align: right;\n",
       "    }\n",
       "</style>\n",
       "<table border=\"1\" class=\"dataframe\">\n",
       "  <thead>\n",
       "    <tr style=\"text-align: right;\">\n",
       "      <th></th>\n",
       "      <th>authors</th>\n",
       "      <th>name</th>\n",
       "      <th>proficiency_level</th>\n",
       "      <th>tags</th>\n",
       "      <th>type</th>\n",
       "      <th>url</th>\n",
       "      <th>license</th>\n",
       "      <th>event_date</th>\n",
       "      <th>event_location</th>\n",
       "      <th>description</th>\n",
       "      <th>num_downloads</th>\n",
       "      <th>publication_date</th>\n",
       "      <th>fingerprint</th>\n",
       "      <th>author</th>\n",
       "      <th>submission_date</th>\n",
       "    </tr>\n",
       "  </thead>\n",
       "  <tbody>\n",
       "    <tr>\n",
       "      <th>0</th>\n",
       "      <td>[Elisabeth Kugler]</td>\n",
       "      <td>Sharing Your Poster on Figshare: A Community G...</td>\n",
       "      <td>novice</td>\n",
       "      <td>[Sharing, Research Data Management]</td>\n",
       "      <td>[Blog Post]</td>\n",
       "      <td>https://focalplane.biologists.com/2023/07/26/s...</td>\n",
       "      <td>NaN</td>\n",
       "      <td>NaN</td>\n",
       "      <td>NaN</td>\n",
       "      <td>NaN</td>\n",
       "      <td>NaN</td>\n",
       "      <td>NaN</td>\n",
       "      <td>NaN</td>\n",
       "      <td>NaN</td>\n",
       "      <td>NaN</td>\n",
       "    </tr>\n",
       "    <tr>\n",
       "      <th>1</th>\n",
       "      <td>[Marcelo Zoccoler]</td>\n",
       "      <td>Running Deep-Learning Scripts in the BiA-PoL O...</td>\n",
       "      <td>proficient</td>\n",
       "      <td>[Python, Artificial Intelligence, Bioimage Ana...</td>\n",
       "      <td>[Blog Post]</td>\n",
       "      <td>https://biapol.github.io/blog/marcelo_zoccoler...</td>\n",
       "      <td>CC-BY-4.0</td>\n",
       "      <td>NaN</td>\n",
       "      <td>NaN</td>\n",
       "      <td>NaN</td>\n",
       "      <td>NaN</td>\n",
       "      <td>NaN</td>\n",
       "      <td>NaN</td>\n",
       "      <td>NaN</td>\n",
       "      <td>NaN</td>\n",
       "    </tr>\n",
       "    <tr>\n",
       "      <th>2</th>\n",
       "      <td>[Robert Haase]</td>\n",
       "      <td>Browsing the Open Microscopy Image Data Resour...</td>\n",
       "      <td>competent</td>\n",
       "      <td>[OMERO, Python]</td>\n",
       "      <td>[Blog Post]</td>\n",
       "      <td>https://biapol.github.io/blog/robert_haase/bro...</td>\n",
       "      <td>CC-BY-4.0</td>\n",
       "      <td>NaN</td>\n",
       "      <td>NaN</td>\n",
       "      <td>NaN</td>\n",
       "      <td>NaN</td>\n",
       "      <td>NaN</td>\n",
       "      <td>NaN</td>\n",
       "      <td>NaN</td>\n",
       "      <td>NaN</td>\n",
       "    </tr>\n",
       "    <tr>\n",
       "      <th>3</th>\n",
       "      <td>[Mara Lampert]</td>\n",
       "      <td>Getting started with Mambaforge and Python</td>\n",
       "      <td>novice</td>\n",
       "      <td>[Python, Conda, Mamba]</td>\n",
       "      <td>[Blog Post]</td>\n",
       "      <td>https://biapol.github.io/blog/mara_lampert/get...</td>\n",
       "      <td>CC-BY-4.0</td>\n",
       "      <td>NaN</td>\n",
       "      <td>NaN</td>\n",
       "      <td>NaN</td>\n",
       "      <td>NaN</td>\n",
       "      <td>NaN</td>\n",
       "      <td>NaN</td>\n",
       "      <td>NaN</td>\n",
       "      <td>NaN</td>\n",
       "    </tr>\n",
       "    <tr>\n",
       "      <th>4</th>\n",
       "      <td>[Jennifer Waters]</td>\n",
       "      <td>Promoting Data Management at the Nikon Imaging...</td>\n",
       "      <td>novice</td>\n",
       "      <td>[Research Data Management]</td>\n",
       "      <td>[Blog Post]</td>\n",
       "      <td>https://datamanagement.hms.harvard.edu/news/pr...</td>\n",
       "      <td>NaN</td>\n",
       "      <td>NaN</td>\n",
       "      <td>NaN</td>\n",
       "      <td>NaN</td>\n",
       "      <td>NaN</td>\n",
       "      <td>NaN</td>\n",
       "      <td>NaN</td>\n",
       "      <td>NaN</td>\n",
       "      <td>NaN</td>\n",
       "    </tr>\n",
       "  </tbody>\n",
       "</table>\n",
       "</div>"
      ],
      "text/plain": [
       "              authors                                               name  \\\n",
       "0  [Elisabeth Kugler]  Sharing Your Poster on Figshare: A Community G...   \n",
       "1  [Marcelo Zoccoler]  Running Deep-Learning Scripts in the BiA-PoL O...   \n",
       "2      [Robert Haase]  Browsing the Open Microscopy Image Data Resour...   \n",
       "3      [Mara Lampert]         Getting started with Mambaforge and Python   \n",
       "4   [Jennifer Waters]  Promoting Data Management at the Nikon Imaging...   \n",
       "\n",
       "  proficiency_level                                               tags  \\\n",
       "0            novice                [Sharing, Research Data Management]   \n",
       "1        proficient  [Python, Artificial Intelligence, Bioimage Ana...   \n",
       "2         competent                                    [OMERO, Python]   \n",
       "3            novice                             [Python, Conda, Mamba]   \n",
       "4            novice                         [Research Data Management]   \n",
       "\n",
       "          type                                                url    license  \\\n",
       "0  [Blog Post]  https://focalplane.biologists.com/2023/07/26/s...        NaN   \n",
       "1  [Blog Post]  https://biapol.github.io/blog/marcelo_zoccoler...  CC-BY-4.0   \n",
       "2  [Blog Post]  https://biapol.github.io/blog/robert_haase/bro...  CC-BY-4.0   \n",
       "3  [Blog Post]  https://biapol.github.io/blog/mara_lampert/get...  CC-BY-4.0   \n",
       "4  [Blog Post]  https://datamanagement.hms.harvard.edu/news/pr...        NaN   \n",
       "\n",
       "  event_date event_location description  num_downloads publication_date  \\\n",
       "0        NaN            NaN         NaN            NaN              NaN   \n",
       "1        NaN            NaN         NaN            NaN              NaN   \n",
       "2        NaN            NaN         NaN            NaN              NaN   \n",
       "3        NaN            NaN         NaN            NaN              NaN   \n",
       "4        NaN            NaN         NaN            NaN              NaN   \n",
       "\n",
       "  fingerprint author submission_date  \n",
       "0         NaN    NaN             NaN  \n",
       "1         NaN    NaN             NaN  \n",
       "2         NaN    NaN             NaN  \n",
       "3         NaN    NaN             NaN  \n",
       "4         NaN    NaN             NaN  "
      ]
     },
     "execution_count": 2,
     "metadata": {},
     "output_type": "execute_result"
    }
   ],
   "source": [
    "import pandas as pd\n",
    "from generate_link_lists import load_dataframe\n",
    "\n",
    "# This file exports selected data as csv file\n",
    "source = \"../resources/\"\n",
    "\n",
    "df = load_dataframe(source)\n",
    "df.head()"
   ]
  },
  {
   "cell_type": "code",
   "execution_count": 3,
   "id": "39015515-527c-4019-9631-841ee039e2c7",
   "metadata": {
    "execution": {
     "iopub.execute_input": "2025-08-20T18:08:14.044024Z",
     "iopub.status.busy": "2025-08-20T18:08:14.043789Z",
     "iopub.status.idle": "2025-08-20T18:08:14.048891Z",
     "shell.execute_reply": "2025-08-20T18:08:14.048342Z"
    }
   },
   "outputs": [
    {
     "data": {
      "text/plain": [
       "['Notebook',\n",
       " 'YouTube Channel',\n",
       " 'Forum Post',\n",
       " 'Publication',\n",
       " 'Workflow',\n",
       " 'Presentation',\n",
       " 'Workshop',\n",
       " 'Online Tutorial',\n",
       " 'Event',\n",
       " 'Poster',\n",
       " 'Worksheet',\n",
       " 'Book',\n",
       " 'Webinar',\n",
       " 'Conference Abstract',\n",
       " 'collection',\n",
       " 'Blog Post',\n",
       " 'Tutorial',\n",
       " 'notebook',\n",
       " 'Video',\n",
       " 'Data',\n",
       " 'Website',\n",
       " 'Atlas',\n",
       " 'Collection',\n",
       " 'Software',\n",
       " 'GitHub Repository',\n",
       " 'Slides',\n",
       " 'Wiki',\n",
       " 'publication',\n",
       " 'Code',\n",
       " 'Framework',\n",
       " 'Document',\n",
       " 'Online Course',\n",
       " 'GitLab Repository',\n",
       " 'Documentation',\n",
       " 'Github repository',\n",
       " 'Tool',\n",
       " 'Report',\n",
       " 'notebooks',\n",
       " 'Blog post',\n",
       " 'Preprint',\n",
       " 'Application',\n",
       " 'Github Repository']"
      ]
     },
     "execution_count": 3,
     "metadata": {},
     "output_type": "execute_result"
    }
   ],
   "source": [
    "from itertools import chain\n",
    "\n",
    "# extract all unique data types\n",
    "all_types = df['type'].dropna().tolist()\n",
    "flat_list = list(chain.from_iterable(t if isinstance(t, list) else [t] for t in all_types))\n",
    "unique_types = list(set(flat_list))\n",
    "unique_types"
   ]
  },
  {
   "cell_type": "markdown",
   "id": "d301f1d7-9d3e-4467-b92f-f45886a8e968",
   "metadata": {},
   "source": [
    "### Plot the Distribution of all data types\n",
    "To get an overview about all topics, it might be helpful to look at their distribution. "
   ]
  },
  {
   "cell_type": "code",
   "execution_count": 4,
   "id": "f1868a3c-def2-43c1-be67-5ee13d143111",
   "metadata": {
    "execution": {
     "iopub.execute_input": "2025-08-20T18:08:14.050403Z",
     "iopub.status.busy": "2025-08-20T18:08:14.050231Z",
     "iopub.status.idle": "2025-08-20T18:08:16.094220Z",
     "shell.execute_reply": "2025-08-20T18:08:16.093636Z"
    }
   },
   "outputs": [
    {
     "data": {
      "image/png": "[encoded data removed]",
      "text/plain": [
       "<Figure size 2000x600 with 1 Axes>"
      ]
     },
     "metadata": {},
     "output_type": "display_data"
    }
   ],
   "source": [
    "import matplotlib.pyplot as plt\n",
    "from collections import Counter\n",
    "\n",
    "# Count frequency of each type\n",
    "type_counts = Counter(flat_list)\n",
    "\n",
    "# Create a bar chart\n",
    "plt.figure(figsize=(20, 6))\n",
    "plt.bar(type_counts.keys(), type_counts.values(), width=0.5)\n",
    "plt.xlabel(\"Data Type\")\n",
    "plt.ylabel(\"Count\")\n",
    "plt.title(\"Distribution of Data Types\")\n",
    "plt.xticks(rotation=45, fontsize = 7)\n",
    "plt.tight_layout()\n",
    "\n",
    "plt.show()"
   ]
  },
  {
   "cell_type": "markdown",
   "id": "6690017a-0194-41d7-9d3a-bf63312b7144",
   "metadata": {},
   "source": [
    "# Goal is to generate an embedding of every entry that can be reduced and visualized in a 2D UMAP Space\n",
    "To do this, it has to be clear which information from each content to use for the embedding generation. For this, several columns are checked regarding their consistency.\n",
    "The best columns to choose are:\n",
    "- Description\n",
    "- URL (and its corresponding website)\n",
    "- Tags"
   ]
  },
  {
   "cell_type": "code",
   "execution_count": 5,
   "id": "36dc59ae-53cc-4adc-8433-c9a2bb86127c",
   "metadata": {
    "execution": {
     "iopub.execute_input": "2025-08-20T18:08:16.096041Z",
     "iopub.status.busy": "2025-08-20T18:08:16.095786Z",
     "iopub.status.idle": "2025-08-20T18:08:16.099480Z",
     "shell.execute_reply": "2025-08-20T18:08:16.098993Z"
    }
   },
   "outputs": [
    {
     "name": "stdout",
     "output_type": "stream",
     "text": [
      "Entries with multiple data types: 130\n"
     ]
    }
   ],
   "source": [
    "# Count how many entries are lists with more than one element\n",
    "multi_type_count = df[\"type\"].apply(lambda x: isinstance(x, list) and len(x) > 1).sum()\n",
    "\n",
    "print(f\"Entries with multiple data types: {multi_type_count}\")"
   ]
  },
  {
   "cell_type": "markdown",
   "id": "15136657-b606-4ee3-bbc0-cf61fb93d222",
   "metadata": {},
   "source": [
    "**Problem:**\n",
    "\n",
    "There are several entries, that have more than one data type. As the goal is to see which topics still lack in specific data types, those entries will get split into \"multiple\" entries, each with onre of the data types they are listed as."
   ]
  },
  {
   "cell_type": "code",
   "execution_count": 6,
   "id": "d21dcce9-8b00-49ee-bf76-5463627e0637",
   "metadata": {
    "execution": {
     "iopub.execute_input": "2025-08-20T18:08:16.101068Z",
     "iopub.status.busy": "2025-08-20T18:08:16.100884Z",
     "iopub.status.idle": "2025-08-20T18:08:16.108970Z",
     "shell.execute_reply": "2025-08-20T18:08:16.108409Z"
    }
   },
   "outputs": [],
   "source": [
    "# Ensure all type values are lists\n",
    "df[\"type\"] = df[\"type\"].apply(lambda x: x if isinstance(x, list) else [x])\n",
    "\n",
    "# Explode the DataFrame by type\n",
    "df_exploded = df.explode(\"type\").rename(columns={\"type\": \"single_type\"}).reset_index(drop=True)"
   ]
  },
  {
   "cell_type": "code",
   "execution_count": 7,
   "id": "c0d5b705-7ef5-4305-8aa8-58b3a673f97f",
   "metadata": {
    "execution": {
     "iopub.execute_input": "2025-08-20T18:08:16.110535Z",
     "iopub.status.busy": "2025-08-20T18:08:16.110369Z",
     "iopub.status.idle": "2025-08-20T18:08:16.113990Z",
     "shell.execute_reply": "2025-08-20T18:08:16.113418Z"
    }
   },
   "outputs": [
    {
     "data": {
      "text/plain": [
       "919"
      ]
     },
     "execution_count": 7,
     "metadata": {},
     "output_type": "execute_result"
    }
   ],
   "source": [
    "# Total number of entries\n",
    "len(df_exploded)"
   ]
  },
  {
   "cell_type": "markdown",
   "id": "8a8a144b-cd6b-4a78-8d92-a9c28448ddcc",
   "metadata": {},
   "source": [
    "# 1. Use description for the Embedding calculation"
   ]
  },
  {
   "cell_type": "code",
   "execution_count": 8,
   "id": "306dac84-eb12-4557-abda-098b8a290707",
   "metadata": {
    "execution": {
     "iopub.execute_input": "2025-08-20T18:08:16.115620Z",
     "iopub.status.busy": "2025-08-20T18:08:16.115450Z",
     "iopub.status.idle": "2025-08-20T18:08:16.119055Z",
     "shell.execute_reply": "2025-08-20T18:08:16.118599Z"
    }
   },
   "outputs": [
    {
     "data": {
      "text/plain": [
       "629"
      ]
     },
     "execution_count": 8,
     "metadata": {},
     "output_type": "execute_result"
    }
   ],
   "source": [
    "# Total number of entries with a proper description\n",
    "len(df_exploded['description'].dropna())"
   ]
  },
  {
   "cell_type": "markdown",
   "id": "73c18da7-f377-4e0d-90f8-157624f2a7d6",
   "metadata": {},
   "source": [
    "About 300 entries don't have a proper description. That makes it hard to cluster them based on their embedded text description. Still, description might be the best textual information to group entries by content."
   ]
  },
  {
   "cell_type": "code",
   "execution_count": 9,
   "id": "b48003de-123b-436f-a1fa-6ac08b278068",
   "metadata": {
    "execution": {
     "iopub.execute_input": "2025-08-20T18:08:16.120581Z",
     "iopub.status.busy": "2025-08-20T18:08:16.120416Z",
     "iopub.status.idle": "2025-08-20T18:08:16.123020Z",
     "shell.execute_reply": "2025-08-20T18:08:16.122578Z"
    }
   },
   "outputs": [],
   "source": [
    "def embed_text(text):\n",
    "    if isinstance(text, str) and text.strip().lower() != \"failed\":\n",
    "        return model.encode(text)\n",
    "    return None"
   ]
  },
  {
   "cell_type": "code",
   "execution_count": 10,
   "id": "02da5d14-34ee-4000-8e16-d1f38bf6ddbd",
   "metadata": {
    "execution": {
     "iopub.execute_input": "2025-08-20T18:08:16.124599Z",
     "iopub.status.busy": "2025-08-20T18:08:16.124432Z",
     "iopub.status.idle": "2025-08-20T18:08:16.306528Z",
     "shell.execute_reply": "2025-08-20T18:08:16.305686Z"
    }
   },
   "outputs": [
    {
     "ename": "ModuleNotFoundError",
     "evalue": "No module named 'sentence_transformers'",
     "output_type": "error",
     "traceback": [
      "\u001b[31m---------------------------------------------------------------------------\u001b[39m",
      "\u001b[31mModuleNotFoundError\u001b[39m                       Traceback (most recent call last)",
      "\u001b[36mCell\u001b[39m\u001b[36m \u001b[39m\u001b[32mIn[10]\u001b[39m\u001b[32m, line 1\u001b[39m\n\u001b[32m----> \u001b[39m\u001b[32m1\u001b[39m \u001b[38;5;28;01mfrom\u001b[39;00m\u001b[38;5;250m \u001b[39m\u001b[34;01msentence_transformers\u001b[39;00m\u001b[38;5;250m \u001b[39m\u001b[38;5;28;01mimport\u001b[39;00m SentenceTransformer\n\u001b[32m      3\u001b[39m model = SentenceTransformer(\u001b[33m\"\u001b[39m\u001b[33mQwen/Qwen3-Embedding-0.6B\u001b[39m\u001b[33m\"\u001b[39m)\n\u001b[32m      5\u001b[39m \u001b[38;5;66;03m# Another good option would be this model:\u001b[39;00m\n\u001b[32m      6\u001b[39m \u001b[38;5;66;03m# model = SentenceTransformer('sentence-transformers/all-MiniLM-L6-v2')\u001b[39;00m\n",
      "\u001b[31mModuleNotFoundError\u001b[39m: No module named 'sentence_transformers'"
     ]
    }
   ],
   "source": [
    "from sentence_transformers import SentenceTransformer\n",
    "\n",
    "model = SentenceTransformer(\"Qwen/Qwen3-Embedding-0.6B\")\n",
    "\n",
    "# Another good option would be this model:\n",
    "# model = SentenceTransformer('sentence-transformers/all-MiniLM-L6-v2')"
   ]
  },
  {
   "cell_type": "code",
   "execution_count": null,
   "id": "ba21fb74-d762-422c-8f1c-f8a637989d0d",
   "metadata": {},
   "outputs": [],
   "source": [
    "# Replace the NaN values with a string for better clarity in the plot\n",
    "df_exploded[\"description\"] = df_exploded[\"description\"].fillna(\"no description\")\n",
    "\n",
    "# Compute Embedding\n",
    "df_exploded[\"description_embedding\"]= df_exploded[\"description\"].apply(embed_text)"
   ]
  },
  {
   "cell_type": "code",
   "execution_count": null,
   "id": "b359357b-4e37-44ff-84fe-9c1b9199812d",
   "metadata": {},
   "outputs": [],
   "source": [
    "from umap import UMAP\n",
    "import numpy as np\n",
    "\n",
    "# Create UMAP instance\n",
    "umap_model = UMAP(n_components=2, random_state=42)\n",
    "\n",
    "# Apply UMAP\n",
    "X = np.vstack(df_exploded[\"description_embedding\"].values)\n",
    "description_embedding_2d = umap_model.fit_transform(X)"
   ]
  },
  {
   "cell_type": "code",
   "execution_count": null,
   "id": "be142a97-51ea-4369-82cb-de387fe25a12",
   "metadata": {},
   "outputs": [],
   "source": [
    "# store it\n",
    "df_exploded[\"description_umap_x\"] = description_embedding_2d[:, 0]\n",
    "df_exploded[\"description_umap_y\"] = description_embedding_2d[:, 1]"
   ]
  },
  {
   "cell_type": "code",
   "execution_count": null,
   "id": "9a077333-e386-4bb5-ad3d-e1191c46a90e",
   "metadata": {},
   "outputs": [],
   "source": [
    "import plotly.express as px\n",
    "\n",
    "fig = px.scatter(\n",
    "    df_exploded,\n",
    "    x=\"description_umap_x\",\n",
    "    y=\"description_umap_y\",\n",
    "    color=\"single_type\",\n",
    "    hover_data=[\"name\", \"url\", \"description\"], \n",
    "    title=\"UMAP of Description Embeddings\"\n",
    ")\n",
    "\n",
    "fig.show()"
   ]
  },
  {
   "cell_type": "code",
   "execution_count": null,
   "id": "2d9b3d0e-9f3c-4c7a-8f1d-7b7c2c0a9e7f",
   "metadata": {},
   "outputs": [],
   "source": [
    "import matplotlib.pyplot as plt\n",
    "\n",
    "# Create a color map for the types\n",
    "unique_types_list = df_exploded['single_type'].unique()\n",
    "colors = plt.cm.get_cmap('tab20', len(unique_types_list))\n",
    "color_map = {ttype: colors(i) for i, ttype in enumerate(unique_types_list)}\n",
    "\n",
    "# Create the plot\n",
    "plt.figure(figsize=(12, 10))\n",
    "for ttype in unique_types_list:\n",
    "    subset = df_exploded[df_exploded['single_type'] == ttype]\n",
    "    plt.scatter(subset['description_umap_x'], subset['description_umap_y'], label=ttype, color=color_map[ttype], alpha=0.7)\n",
    "\n",
    "plt.title('UMAP of Description Embeddings')\n",
    "plt.xlabel('UMAP Dimension 1')\n",
    "plt.ylabel('UMAP Dimension 2')\n",
    "plt.legend(title='Single Type', bbox_to_anchor=(1.05, 1), loc='upper left')\n",
    "plt.grid(True)\n",
    "plt.tight_layout()\n",
    "plt.show()"
   ]
  },
  {
   "cell_type": "markdown",
   "id": "04108948-54df-49dd-a507-cead6b5aa0fb",
   "metadata": {},
   "source": [
    "### _RESULT:_\n",
    "\n",
    "We can see two distinct clusters, those entries WITH and those WITHOUT a valid description:\n",
    "\n",
    "- valid description clusters on the left\n",
    "  -> e.g. cluster of Data as data type (red dots) at around x,y = (-1, 8)\n",
    "- \"no description\" cloud on the top-right\n",
    "  -> here, entries are packed quite tightly and are normally distributed"
   ]
  },
  {
   "cell_type": "markdown",
   "id": "4d688e52-c364-4707-bab8-89d903048d1c",
   "metadata": {},
   "source": [
    "# 2. Use Title for the Embedding calculation\n"
   ]
  },
  {
   "cell_type": "code",
   "execution_count": null,
   "id": "fb1423cd-035f-4ec8-aa50-e28e93bda31f",
   "metadata": {},
   "outputs": [],
   "source": [
    "# Total number of entries with a proper title\n",
    "len(df_exploded['name'].dropna())"
   ]
  },
  {
   "cell_type": "code",
   "execution_count": null,
   "id": "0d88cb80-d6f9-4c30-9867-cf22b3c60ce4",
   "metadata": {},
   "outputs": [],
   "source": [
    "# Compute Embedding\n",
    "df_exploded[\"title_embedding\"]= df_exploded[\"name\"].apply(embed_text)"
   ]
  },
  {
   "cell_type": "code",
   "execution_count": null,
   "id": "b4eac4d6-9b64-4d10-a502-cd8ff66dadf2",
   "metadata": {},
   "outputs": [],
   "source": [
    "# Apply UMAP\n",
    "X = np.vstack(df_exploded[\"title_embedding\"].values)\n",
    "title_embedding_2d = umap_model.fit_transform(X)"
   ]
  },
  {
   "cell_type": "code",
   "execution_count": null,
   "id": "a14a0a54-a8ea-483f-bbe1-6ec0e25bf301",
   "metadata": {},
   "outputs": [],
   "source": [
    "# store it\n",
    "df_exploded[\"title_umap_x\"] = title_embedding_2d[:, 0]\n",
    "df_exploded[\"title_umap_y\"] = title_embedding_2d[:, 1]"
   ]
  },
  {
   "cell_type": "code",
   "execution_count": null,
   "id": "5988ddc6-0ab9-4bf6-a08d-ec64a3168e9a",
   "metadata": {},
   "outputs": [],
   "source": [
    "fig = px.scatter(\n",
    "    df_exploded,\n",
    "    x=\"title_umap_x\",\n",
    "    y=\"title_umap_y\",\n",
    "    color=\"single_type\",\n",
    "    hover_data=[\"name\", \"url\"], \n",
    "    title=\"UMAP of Title Embeddings\"\n",
    ")\n",
    "\n",
    "fig.show()"
   ]
  },
  {
   "cell_type": "code",
   "execution_count": null,
   "id": "9f8e7d6c-5b4a-3f2e-1d0c-b9a8f7e6d5c4",
   "metadata": {},
   "outputs": [],
   "source": [
    "import matplotlib.pyplot as plt\n",
    "\n",
    "# Create a color map for the types\n",
    "unique_types_list = df_exploded['single_type'].unique()\n",
    "colors = plt.cm.get_cmap('tab20', len(unique_types_list))\n",
    "color_map = {ttype: colors(i) for i, ttype in enumerate(unique_types_list)}\n",
    "\n",
    "# Create the plot\n",
    "plt.figure(figsize=(12, 10))\n",
    "for ttype in unique_types_list:\n",
    "    subset = df_exploded[df_exploded['single_type'] == ttype]\n",
    "    plt.scatter(subset['title_umap_x'], subset['title_umap_y'], label=ttype, color=color_map[ttype], alpha=0.7)\n",
    "\n",
    "plt.title('UMAP of Title Embeddings')\n",
    "plt.xlabel('UMAP Dimension 1')\n",
    "plt.ylabel('UMAP Dimension 2')\n",
    "plt.legend(title='Single Type', bbox_to_anchor=(1.05, 1), loc='upper left')\n",
    "plt.grid(True)\n",
    "plt.tight_layout()\n",
    "plt.show()"
   ]
  },
  {
   "cell_type": "markdown",
   "id": "13b1be5a-81fd-4b8d-a87c-520d97c672c8",
   "metadata": {},
   "source": [
    "### _RESULT:_\n",
    "Embeddings are mostly well distributed. But there are some thematically structured clusters, e.g.\n",
    "- NFDI4Bioimage Cluster on the left around x,y = (-4, 9)\n",
    "- Image Processing Cluster on the top right around x,y = (5, 11)\n",
    "- StarDist Datasets at around x,y = (1, 13)"
   ]
  },
  {
   "cell_type": "markdown",
   "id": "f9783fdf-f102-4ab3-9bfa-39afe3ac266a",
   "metadata": {},
   "source": [
    "# 3. Use Tags for Embedding calculation"
   ]
  },
  {
   "cell_type": "code",
   "execution_count": null,
   "id": "1eaca536-f8e1-41b4-beef-d0fa59a02e8c",
   "metadata": {},
   "outputs": [],
   "source": [
    "print(f\"Length of Dataset with each entry might be split into several single entries for each data type: {len(df_exploded)}\")\n",
    "\n",
    "print(f\"Number of entries from that Dataset that have a valid Tag Column: {len(df_exploded['tags'].dropna())}\")"
   ]
  },
  {
   "cell_type": "markdown",
   "id": "6625d5d3-89cf-453d-91a5-2fdd23847215",
   "metadata": {},
   "source": [
    "There are a lot of entries missing a tag, so it is not clear whether this approach is well suited, because a lot of information will be missing. But still more entries can be used here in comparison to the description column."
   ]
  },
  {
   "cell_type": "code",
   "execution_count": null,
   "id": "752e1a9f-c90d-4efc-ae14-963e84739b87",
   "metadata": {},
   "outputs": [],
   "source": [
    "# Explode the DataFrame by Tags to have clusters that refer to single Tags instead of Tag-Groups\n",
    "df_exploded_tags = df_exploded.explode(\"tags\").rename(columns={\"tags\": \"single_tag\"}).reset_index(drop=True)"
   ]
  },
  {
   "cell_type": "code",
   "execution_count": null,
   "id": "96430c4f-3eda-4564-aa39-77595205f402",
   "metadata": {},
   "outputs": [],
   "source": [
    "# Total number of entries now\n",
    "len(df_exploded_tags)"
   ]
  },
  {
   "cell_type": "code",
   "execution_count": null,
   "id": "e5580ee1-1ff4-463c-b313-7fc67039f398",
   "metadata": {},
   "outputs": [],
   "source": [
    "# Replace the NaN values with a string for better clarity and clear clustering in the plot\n",
    "df_exploded_tags[\"tag_final\"] = df_exploded_tags[\"single_tag\"].fillna(\"no tags\")\n",
    "\n",
    "df_exploded_tags[\"tag_embedding\"]= df_exploded_tags[\"tag_final\"].apply(embed_text)"
   ]
  },
  {
   "cell_type": "markdown",
   "id": "6d5f9df4-1a2c-403e-9edb-5b15f1d57068",
   "metadata": {},
   "source": [
    "### Calaculate UMAP of the Tag Embedding"
   ]
  },
  {
   "cell_type": "code",
   "execution_count": null,
   "id": "a3d3645e-b560-4938-ae09-ca925fd17e9e",
   "metadata": {},
   "outputs": [],
   "source": [
    "X = np.vstack(df_exploded_tags[\"tag_embedding\"].values)\n",
    "tag_embedding_2d = umap_model.fit_transform(X)"
   ]
  },
  {
   "cell_type": "code",
   "execution_count": null,
   "id": "fe4fea36-8906-449b-a68b-f959bb3483c9",
   "metadata": {},
   "outputs": [],
   "source": [
    "df_exploded_tags[\"tag_umap_x\"] = tag_embedding_2d[:, 0]\n",
    "df_exploded_tags[\"tag_umap_y\"] = tag_embedding_2d[:, 1]"
   ]
  },
  {
   "cell_type": "code",
   "execution_count": null,
   "id": "f8344835-1114-4b4c-abf1-7de30e1ad25c",
   "metadata": {},
   "outputs": [],
   "source": [
    "import plotly.express as px\n",
    "\n",
    "fig = px.scatter(\n",
    "    df_exploded_tags,\n",
    "    x=\"tag_umap_x\",\n",
    "    y=\"tag_umap_y\",\n",
    "    color=\"single_type\",\n",
    "    hover_data=[\"name\", \"url\", \"single_tag\"], \n",
    "    title=\"UMAP of Tag Embeddings\"\n",
    ")\n",
    "\n",
    "fig.show()"
   ]
  },
  {
   "cell_type": "code",
   "execution_count": null,
   "id": "8e7d6c5b-4a3f-2e1d-0c9b-a8f7e6d5c4b3",
   "metadata": {},
   "outputs": [],
   "source": [
    "import matplotlib.pyplot as plt\n",
    "\n",
    "# Create a color map for the types\n",
    "unique_types_list = df_exploded_tags['single_type'].unique()\n",
    "colors = plt.cm.get_cmap('tab20', len(unique_types_list))\n",
    "color_map = {ttype: colors(i) for i, ttype in enumerate(unique_types_list)}\n",
    "\n",
    "# Create the plot\n",
    "plt.figure(figsize=(12, 10))\n",
    "for ttype in unique_types_list:\n",
    "    subset = df_exploded_tags[df_exploded_tags['single_type'] == ttype]\n",
    "    plt.scatter(subset['tag_umap_x'], subset['tag_umap_y'], label=ttype, color=color_map[ttype], alpha=0.7)\n",
    "\n",
    "plt.title('UMAP of Tag Embeddings')\n",
    "plt.xlabel('UMAP Dimension 1')\n",
    "plt.ylabel('UMAP Dimension 2')\n",
    "plt.legend(title='Single Type', bbox_to_anchor=(1.05, 1), loc='upper left')\n",
    "plt.grid(True)\n",
    "plt.tight_layout()\n",
    "plt.show()"
   ]
  },
  {
   "cell_type": "markdown",
   "id": "77863fde-f17a-4aab-aae6-f81c3d3ec488",
   "metadata": {},
   "source": [
    "### _RESULT:_\n",
    "In this plot, we can clearly spot the \"to tags\" cluster at around (11, 25). All other entries are very well separated regarding to their Tags. We can also see some clusters of Tags, that are dominated by one data type, e.g. \n",
    "- \"AI-ready\"-Tag cluster that only inherits Data as Data Type around x,y = (-9, 15)\n",
    "\n",
    "By filtering data types to see only Blog-Post and then add more Data Types, we can reveal Tags that are still missing some useful Blog-Posts e.g.\n",
    "- \"GPU / Big Data\" Cluster (20, -3)\n",
    "- \"Neubias\" Cluster (21, 24)\n",
    "- \"ImageJ\" Cluster (2, 20)\n",
    "- \"FAIR\"-Principles (10, -8)"
   ]
  }
 ],
 "metadata": {
  "language_info": {
   "codemirror_mode": {
    "name": "ipython",
    "version": 3
   },
   "file_extension": ".py",
   "mimetype": "text/x-python",
   "name": "python",
   "nbconvert_exporter": "python",
   "pygments_lexer": "ipython3",
   "version": "3.13.6"
  }
 },
 "nbformat": 4,
 "nbformat_minor": 5
}