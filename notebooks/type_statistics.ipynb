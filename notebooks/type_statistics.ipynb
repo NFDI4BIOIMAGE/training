{
 "cells": [
  {
   "cell_type": "markdown",
   "id": "2bc34237-e6c6-4d97-85f1-49ae9680be3d",
   "metadata": {},
   "source": [
    "# Type statistics\n",
    "In this notebook we demonstrate how to retrieve our link collection as pandas DataFrame and how show which types are used and how often."
   ]
  },
  {
   "cell_type": "code",
   "execution_count": 1,
   "id": "58de6710-4b1c-431d-92dd-ce2d49566384",
   "metadata": {
    "tags": []
   },
   "outputs": [],
   "source": [
    "import pandas as pd\n",
    "from generate_link_lists import load_dataframe\n",
    "import matplotlib.pyplot as plt\n",
    "import numpy as np"
   ]
  },
  {
   "cell_type": "markdown",
   "id": "ee616d91-4f5e-4a39-aa03-c3795f8ba128",
   "metadata": {},
   "source": [
    "## Data import and cleaning"
   ]
  },
  {
   "cell_type": "code",
   "execution_count": 2,
   "id": "5d00e9fb-283c-406d-8740-5c74de0bb851",
   "metadata": {
    "tags": []
   },
   "outputs": [
    {
     "name": "stdout",
     "output_type": "stream",
     "text": [
      "Adding nfdi4bioimage.yml\n"
     ]
    }
   ],
   "source": [
    "df = load_dataframe(\"../resources/\")"
   ]
  },
  {
   "cell_type": "code",
   "execution_count": 3,
   "id": "5bdaa873-dc3c-44ef-a8e8-216577be4068",
   "metadata": {
    "tags": []
   },
   "outputs": [
    {
     "data": {
      "text/html": [
       "<div>\n",
       "<style scoped>\n",
       "    .dataframe tbody tr th:only-of-type {\n",
       "        vertical-align: middle;\n",
       "    }\n",
       "\n",
       "    .dataframe tbody tr th {\n",
       "        vertical-align: top;\n",
       "    }\n",
       "\n",
       "    .dataframe thead th {\n",
       "        text-align: right;\n",
       "    }\n",
       "</style>\n",
       "<table border=\"1\" class=\"dataframe\">\n",
       "  <thead>\n",
       "    <tr style=\"text-align: right;\">\n",
       "      <th></th>\n",
       "      <th>authors</th>\n",
       "      <th>name</th>\n",
       "      <th>tags</th>\n",
       "      <th>type</th>\n",
       "      <th>url</th>\n",
       "      <th>license</th>\n",
       "      <th>event_date</th>\n",
       "      <th>event_location</th>\n",
       "      <th>description</th>\n",
       "      <th>num_downloads</th>\n",
       "      <th>publication_date</th>\n",
       "      <th>fingerprint</th>\n",
       "    </tr>\n",
       "  </thead>\n",
       "  <tbody>\n",
       "    <tr>\n",
       "      <th>0</th>\n",
       "      <td>[Elisabeth Kugler]</td>\n",
       "      <td>Sharing Your Poster on Figshare: A Community G...</td>\n",
       "      <td>[Sharing, Research Data Management]</td>\n",
       "      <td>[Blog]</td>\n",
       "      <td>https://focalplane.biologists.com/2023/07/26/s...</td>\n",
       "      <td>NaN</td>\n",
       "      <td>NaN</td>\n",
       "      <td>NaN</td>\n",
       "      <td>NaN</td>\n",
       "      <td>NaN</td>\n",
       "      <td>NaN</td>\n",
       "      <td>NaN</td>\n",
       "    </tr>\n",
       "    <tr>\n",
       "      <th>1</th>\n",
       "      <td>[Marcelo Zoccoler]</td>\n",
       "      <td>Running Deep-Learning Scripts in the BiA-PoL O...</td>\n",
       "      <td>[Python, Artificial Intelligence, Bioimage Ana...</td>\n",
       "      <td>[Blog]</td>\n",
       "      <td>https://biapol.github.io/blog/marcelo_zoccoler...</td>\n",
       "      <td>CC-BY-4.0</td>\n",
       "      <td>NaN</td>\n",
       "      <td>NaN</td>\n",
       "      <td>NaN</td>\n",
       "      <td>NaN</td>\n",
       "      <td>NaN</td>\n",
       "      <td>NaN</td>\n",
       "    </tr>\n",
       "    <tr>\n",
       "      <th>2</th>\n",
       "      <td>[Robert Haase]</td>\n",
       "      <td>Browsing the Open Microscopy Image Data Resour...</td>\n",
       "      <td>[OMERO, Python]</td>\n",
       "      <td>[Blog]</td>\n",
       "      <td>https://biapol.github.io/blog/robert_haase/bro...</td>\n",
       "      <td>CC-BY-4.0</td>\n",
       "      <td>NaN</td>\n",
       "      <td>NaN</td>\n",
       "      <td>NaN</td>\n",
       "      <td>NaN</td>\n",
       "      <td>NaN</td>\n",
       "      <td>NaN</td>\n",
       "    </tr>\n",
       "    <tr>\n",
       "      <th>3</th>\n",
       "      <td>[Mara Lampert]</td>\n",
       "      <td>Getting started with Mambaforge and Python</td>\n",
       "      <td>[Python, Conda, Mamba]</td>\n",
       "      <td>[Blog]</td>\n",
       "      <td>https://biapol.github.io/blog/mara_lampert/get...</td>\n",
       "      <td>CC-BY-4.0</td>\n",
       "      <td>NaN</td>\n",
       "      <td>NaN</td>\n",
       "      <td>NaN</td>\n",
       "      <td>NaN</td>\n",
       "      <td>NaN</td>\n",
       "      <td>NaN</td>\n",
       "    </tr>\n",
       "  </tbody>\n",
       "</table>\n",
       "</div>"
      ],
      "text/plain": [
       "              authors                                               name  \\\n",
       "0  [Elisabeth Kugler]  Sharing Your Poster on Figshare: A Community G...   \n",
       "1  [Marcelo Zoccoler]  Running Deep-Learning Scripts in the BiA-PoL O...   \n",
       "2      [Robert Haase]  Browsing the Open Microscopy Image Data Resour...   \n",
       "3      [Mara Lampert]         Getting started with Mambaforge and Python   \n",
       "\n",
       "                                                tags    type  \\\n",
       "0                [Sharing, Research Data Management]  [Blog]   \n",
       "1  [Python, Artificial Intelligence, Bioimage Ana...  [Blog]   \n",
       "2                                    [OMERO, Python]  [Blog]   \n",
       "3                             [Python, Conda, Mamba]  [Blog]   \n",
       "\n",
       "                                                 url    license event_date  \\\n",
       "0  https://focalplane.biologists.com/2023/07/26/s...        NaN        NaN   \n",
       "1  https://biapol.github.io/blog/marcelo_zoccoler...  CC-BY-4.0        NaN   \n",
       "2  https://biapol.github.io/blog/robert_haase/bro...  CC-BY-4.0        NaN   \n",
       "3  https://biapol.github.io/blog/mara_lampert/get...  CC-BY-4.0        NaN   \n",
       "\n",
       "  event_location description  num_downloads publication_date fingerprint  \n",
       "0            NaN         NaN            NaN              NaN         NaN  \n",
       "1            NaN         NaN            NaN              NaN         NaN  \n",
       "2            NaN         NaN            NaN              NaN         NaN  \n",
       "3            NaN         NaN            NaN              NaN         NaN  "
      ]
     },
     "execution_count": 3,
     "metadata": {},
     "output_type": "execute_result"
    }
   ],
   "source": [
    "df.head(4)"
   ]
  },
  {
   "cell_type": "markdown",
   "id": "acb07743-b794-4e36-b90e-6005b81b7342",
   "metadata": {},
   "source": [
    "## Determine unique tags"
   ]
  },
  {
   "cell_type": "code",
   "execution_count": 4,
   "id": "12cae70f-ccf0-439f-a278-e42567fc25d0",
   "metadata": {
    "tags": []
   },
   "outputs": [
    {
     "data": {
      "text/plain": [
       "array(['Application', 'Blog', 'Book', 'Code', 'Collection',\n",
       "       'Conference Abstract', 'Data', 'Document', 'Documentation',\n",
       "       'Event', 'Forum Post', 'Github Repository', 'Notebook',\n",
       "       'Online Tutorial', 'Poster', 'Preprint', 'Presentation',\n",
       "       'Publication', 'Slide', 'Slides', 'Tutorial', 'Video', 'Website',\n",
       "       'Workshop', 'collection'], dtype='<U19')"
      ]
     },
     "execution_count": 4,
     "metadata": {},
     "output_type": "execute_result"
    }
   ],
   "source": [
    "lists = [t for t in df['type'].tolist() if t not in ['nan']]\n",
    "\n",
    "all_tags = str(lists)\n",
    "\n",
    "long_list = []\n",
    "\n",
    "for l in lists:\n",
    "    if isinstance(l, list):\n",
    "        long_list += l\n",
    "\n",
    "list_of_tags = np.unique(long_list)\n",
    "list_of_tags"
   ]
  },
  {
   "cell_type": "markdown",
   "id": "2bda8c3b-f641-41ca-8f2c-9a591227b73b",
   "metadata": {
    "tags": []
   },
   "source": [
    "## Count occurences"
   ]
  },
  {
   "cell_type": "code",
   "execution_count": 5,
   "id": "f3821daa-bcfc-49af-bdd4-290bd8380e58",
   "metadata": {
    "tags": []
   },
   "outputs": [],
   "source": [
    "tag_stats = {}\n",
    "\n",
    "for t in list_of_tags:\n",
    "    count = len(all_tags.split(\"'\" + t + \"'\")) - 1\n",
    "    tag_stats[t] = count"
   ]
  },
  {
   "cell_type": "markdown",
   "id": "008419af-45b7-45f0-a471-1fa831c5e8e5",
   "metadata": {
    "tags": []
   },
   "source": [
    "## Type statistics\n",
    "Here we will print out the tags we observed, with number of occurence descending ."
   ]
  },
  {
   "cell_type": "code",
   "execution_count": 6,
   "id": "890b8112-d928-491e-af36-eabc561c5eca",
   "metadata": {
    "tags": []
   },
   "outputs": [
    {
     "name": "stdout",
     "output_type": "stream",
     "text": [
      "Collection: 73\n",
      "Publication: 59\n",
      "Notebook: 53\n",
      "Slide: 41\n",
      "Slides: 37\n",
      "Tutorial: 29\n",
      "Github Repository: 27\n",
      "Video: 24\n",
      "Blog: 19\n",
      "Documentation: 19\n",
      "Book: 18\n",
      "Workshop: 11\n",
      "Code: 10\n",
      "Online Tutorial: 10\n",
      "Poster: 10\n",
      "Data: 8\n",
      "Document: 7\n",
      "Event: 7\n",
      "Website: 7\n",
      "Preprint: 5\n",
      "Application: 4\n",
      "Presentation: 4\n",
      "Conference Abstract: 2\n",
      "Forum Post: 2\n",
      "collection: 1\n"
     ]
    }
   ],
   "source": [
    "sorted_tag_stats = dict(sorted(tag_stats.items(), key=lambda item: item[1], reverse=True))\n",
    "\n",
    "for key, value in sorted_tag_stats.items():\n",
    "    print(f\"{key}: {value}\")"
   ]
  },
  {
   "cell_type": "code",
   "execution_count": null,
   "id": "6b41ca81-33e9-4465-b1e8-dd3c8249be97",
   "metadata": {},
   "outputs": [],
   "source": []
  }
 ],
 "metadata": {
  "kernelspec": {
   "display_name": "Python 3 (ipykernel)",
   "language": "python",
   "name": "python3"
  },
  "language_info": {
   "codemirror_mode": {
    "name": "ipython",
    "version": 3
   },
   "file_extension": ".py",
   "mimetype": "text/x-python",
   "name": "python",
   "nbconvert_exporter": "python",
   "pygments_lexer": "ipython3",
   "version": "3.11.9"
  }
 },
 "nbformat": 4,
 "nbformat_minor": 5
}
