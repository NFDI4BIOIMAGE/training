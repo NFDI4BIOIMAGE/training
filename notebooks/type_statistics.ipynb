{
 "cells": [
  {
   "cell_type": "markdown",
   "id": "2bc34237-e6c6-4d97-85f1-49ae9680be3d",
   "metadata": {},
   "source": [
    "# Type statistics\n",
    "In this notebook we demonstrate how to retrieve our link collection as pandas DataFrame and how show which types are used and how often."
   ]
  },
  {
   "cell_type": "code",
   "execution_count": 1,
   "id": "58de6710-4b1c-431d-92dd-ce2d49566384",
   "metadata": {
    "execution": {
     "iopub.execute_input": "2024-10-22T08:54:01.221828Z",
     "iopub.status.busy": "2024-10-22T08:54:01.221631Z",
     "iopub.status.idle": "2024-10-22T08:54:01.664740Z",
     "shell.execute_reply": "2024-10-22T08:54:01.663941Z"
    },
    "tags": []
   },
   "outputs": [
    {
     "ename": "ModuleNotFoundError",
     "evalue": "No module named 'generate_link_lists'",
     "output_type": "error",
     "traceback": [
      "\u001b[0;31m---------------------------------------------------------------------------\u001b[0m",
      "\u001b[0;31mModuleNotFoundError\u001b[0m                       Traceback (most recent call last)",
      "Cell \u001b[0;32mIn[1], line 2\u001b[0m\n\u001b[1;32m      1\u001b[0m \u001b[38;5;28;01mimport\u001b[39;00m \u001b[38;5;21;01mpandas\u001b[39;00m \u001b[38;5;28;01mas\u001b[39;00m \u001b[38;5;21;01mpd\u001b[39;00m\n\u001b[0;32m----> 2\u001b[0m \u001b[38;5;28;01mfrom\u001b[39;00m \u001b[38;5;21;01mgenerate_link_lists\u001b[39;00m \u001b[38;5;28;01mimport\u001b[39;00m load_dataframe\n\u001b[1;32m      3\u001b[0m \u001b[38;5;28;01mimport\u001b[39;00m \u001b[38;5;21;01mmatplotlib\u001b[39;00m\u001b[38;5;21;01m.\u001b[39;00m\u001b[38;5;21;01mpyplot\u001b[39;00m \u001b[38;5;28;01mas\u001b[39;00m \u001b[38;5;21;01mplt\u001b[39;00m\n\u001b[1;32m      4\u001b[0m \u001b[38;5;28;01mimport\u001b[39;00m \u001b[38;5;21;01mnumpy\u001b[39;00m \u001b[38;5;28;01mas\u001b[39;00m \u001b[38;5;21;01mnp\u001b[39;00m\n",
      "\u001b[0;31mModuleNotFoundError\u001b[0m: No module named 'generate_link_lists'"
     ]
    }
   ],
   "source": [
    "import pandas as pd\n",
    "from generate_link_lists import load_dataframe\n",
    "import matplotlib.pyplot as plt\n",
    "import numpy as np"
   ]
  },
  {
   "cell_type": "markdown",
   "id": "ee616d91-4f5e-4a39-aa03-c3795f8ba128",
   "metadata": {},
   "source": [
    "## Data import and cleaning"
   ]
  },
  {
   "cell_type": "code",
   "execution_count": null,
   "id": "5d00e9fb-283c-406d-8740-5c74de0bb851",
   "metadata": {
    "tags": []
   },
   "outputs": [],
   "source": [
    "df = load_dataframe(\"../resources/\")"
   ]
  },
  {
   "cell_type": "markdown",
   "id": "acb07743-b794-4e36-b90e-6005b81b7342",
   "metadata": {},
   "source": [
    "## Determine unique types"
   ]
  },
  {
   "cell_type": "code",
   "execution_count": null,
   "id": "12cae70f-ccf0-439f-a278-e42567fc25d0",
   "metadata": {
    "tags": []
   },
   "outputs": [],
   "source": [
    "unique_types = df['type'].dropna().unique()\n",
    "unique_types"
   ]
  },
  {
   "cell_type": "markdown",
   "id": "2bda8c3b-f641-41ca-8f2c-9a591227b73b",
   "metadata": {
    "tags": []
   },
   "source": [
    "## Count type occurrences"
   ]
  },
  {
   "cell_type": "code",
   "execution_count": null,
   "id": "f3821daa-bcfc-49af-bdd4-290bd8380e58",
   "metadata": {
    "tags": []
   },
   "outputs": [],
   "source": [
    "type_counts = df['type'].value_counts()\n",
    "type_counts"
   ]
  },
  {
   "cell_type": "markdown",
   "id": "008419af-45b7-45f0-a471-1fa831c5e8e5",
   "metadata": {
    "tags": []
   },
   "source": [
    "## Save type statistics\n",
    "Here we save the type statistics as a CSV file."
   ]
  },
  {
   "cell_type": "code",
   "execution_count": null,
   "id": "890b8112-d928-491e-af36-eabc561c5eca",
   "metadata": {
    "tags": []
   },
   "outputs": [],
   "source": [
    "type_counts.to_csv('type_statistics.csv')"
   ]
  }
 ],
 "metadata": {
  "language_info": {
   "codemirror_mode": {
    "name": "ipython",
    "version": 3
   },
   "file_extension": ".py",
   "mimetype": "text/x-python",
   "name": "python",
   "nbconvert_exporter": "python",
   "pygments_lexer": "ipython3",
   "version": "3.12.7"
  }
 },
 "nbformat": 4,
 "nbformat_minor": 5
}
