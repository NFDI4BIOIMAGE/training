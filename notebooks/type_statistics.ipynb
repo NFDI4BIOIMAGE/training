{
 "cells": [
  {
   "cell_type": "markdown",
   "id": "2bc34237-e6c6-4d97-85f1-49ae9680be3d",
   "metadata": {},
   "source": [
    "# Type Statistics\n",
    "This notebook retrieves our link collection as a pandas DataFrame and updates the 'type' field according to the proposed changes."
   ]
  },
  {
   "cell_type": "code",
   "execution_count": 1,
   "id": "58de6710-4b1c-431d-92dd-ce2d49566384",
   "metadata": {
    "execution": {
     "iopub.execute_input": "2024-10-22T09:06:03.367527Z",
     "iopub.status.busy": "2024-10-22T09:06:03.367335Z",
     "iopub.status.idle": "2024-10-22T09:06:03.795979Z",
     "shell.execute_reply": "2024-10-22T09:06:03.795194Z"
    },
    "tags": []
   },
   "outputs": [
    {
     "ename": "ModuleNotFoundError",
     "evalue": "No module named 'generate_link_lists'",
     "output_type": "error",
     "traceback": [
      "\u001b[0;31m---------------------------------------------------------------------------\u001b[0m",
      "\u001b[0;31mModuleNotFoundError\u001b[0m                       Traceback (most recent call last)",
      "Cell \u001b[0;32mIn[1], line 2\u001b[0m\n\u001b[1;32m      1\u001b[0m \u001b[38;5;28;01mimport\u001b[39;00m \u001b[38;5;21;01mpandas\u001b[39;00m \u001b[38;5;28;01mas\u001b[39;00m \u001b[38;5;21;01mpd\u001b[39;00m\n\u001b[0;32m----> 2\u001b[0m \u001b[38;5;28;01mfrom\u001b[39;00m \u001b[38;5;21;01mgenerate_link_lists\u001b[39;00m \u001b[38;5;28;01mimport\u001b[39;00m load_dataframe\n\u001b[1;32m      3\u001b[0m \u001b[38;5;28;01mimport\u001b[39;00m \u001b[38;5;21;01myaml\u001b[39;00m\n\u001b[1;32m      4\u001b[0m \u001b[38;5;28;01mimport\u001b[39;00m \u001b[38;5;21;01mos\u001b[39;00m\n",
      "\u001b[0;31mModuleNotFoundError\u001b[0m: No module named 'generate_link_lists'"
     ]
    }
   ],
   "source": [
    "import pandas as pd\n",
    "from generate_link_lists import load_dataframe\n",
    "import yaml\n",
    "import os"
   ]
  },
  {
   "cell_type": "markdown",
   "id": "ee616d91-4f5e-4a39-aa03-c3795f8ba128",
   "metadata": {},
   "source": [
    "## Data Import\n",
    "Load the YAML data as a pandas DataFrame for processing."
   ]
  },
  {
   "cell_type": "code",
   "execution_count": null,
   "id": "5d00e9fb-283c-406d-8740-5c74de0bb851",
   "metadata": {
    "tags": []
   },
   "outputs": [],
   "source": [
    "df = load_dataframe(\"../resources/\")\n",
    "df.head(4)"
   ]
  },
  {
   "cell_type": "markdown",
   "id": "acb07743-b794-4e36-b90e-6005b81b7342",
   "metadata": {},
   "source": [
    "## Define Update Rules\n",
    "Create a mapping of old types to new types, including types to be removed."
   ]
  },
  {
   "cell_type": "code",
   "execution_count": null,
   "id": "12cae70f-ccf0-439f-a278-e42567fc25d0",
   "metadata": {
    "tags": []
   },
   "outputs": [],
   "source": [
    "type_updates = {\n",
    "    'Videos': 'Video',\n",
    "    'Publiction': 'publication',\n",
    "    'Slide': 'Slides',\n",
    "    'Online Tutorial': 'Tutorial',\n",
    "    'Online Course': 'Tutorial',\n",
    "    'Practicals': 'Tutorial',\n",
    "    'Report': 'Document',\n",
    "    'Presentation': 'Slides'\n",
    "}\n",
    "\n",
    "types_to_remove = {'Big Data', 'Python', 'Bioimage Analysis'}"
   ]
  },
  {
   "cell_type": "markdown",
   "id": "cd344bc8-4f6e-4c59-be21-1f2fde6e20ea",
   "metadata": {},
   "source": [
    "## Update Types\n",
    "Apply updates to the 'type' field in the DataFrame."
   ]
  },
  {
   "cell_type": "code",
   "execution_count": null,
   "id": "7c2ffcd3-565f-4786-93bd-ce2f43e7d284",
   "metadata": {
    "tags": []
   },
   "outputs": [],
   "source": [
    "def update_types(type_list):\n",
    "    if not isinstance(type_list, list):\n",
    "        return type_list\n",
    "    updated_list = []\n",
    "    for t in type_list:\n",
    "        if t in types_to_remove:\n",
    "            continue\n",
    "        updated_list.append(type_updates.get(t, t))\n",
    "    return list(set(updated_list))\n",
    "\n",
    "df['type'] = df['type'].apply(update_types)"
   ]
  },
  {
   "cell_type": "markdown",
   "id": "839065ad-aeeb-4b5a-b8c8-0608de0f82f0",
   "metadata": {},
   "source": [
    "## Save the Updated DataFrame\n",
    "Save the updated types back to a YAML file."
   ]
  },
  {
   "cell_type": "code",
   "execution_count": null,
   "id": "20d87cc2-06d4-4355-a8e9-f09d9cf4f61f",
   "metadata": {
    "tags": []
   },
   "outputs": [],
   "source": [
    "updated_data = df.to_dict(orient='records')\n",
    "with open('../resources/updated_nfdi4bioimage.yml', 'w') as file:\n",
    "    yaml.dump({'resources': updated_data}, file)"
   ]
  },
  {
   "cell_type": "markdown",
   "id": "adae2c34-8bd6-4a2b-b349-03c9e8c8f1f7",
   "metadata": {},
   "source": [
    "## Display Updated Types\n",
    "Display the unique types after updating."
   ]
  },
  {
   "cell_type": "code",
   "execution_count": null,
   "id": "5e2b3c3c-9a32-42cd-bb9b-c8e5a16efd2e",
   "metadata": {
    "tags": []
   },
   "outputs": [],
   "source": [
    "unique_types = df['type'].explode().unique()\n",
    "unique_types"
   ]
  }
 ],
 "metadata": {
  "language_info": {
   "codemirror_mode": {
    "name": "ipython",
    "version": 3
   },
   "file_extension": ".py",
   "mimetype": "text/x-python",
   "name": "python",
   "nbconvert_exporter": "python",
   "pygments_lexer": "ipython3",
   "version": "3.12.7"
  }
 },
 "nbformat": 4,
 "nbformat_minor": 5
}
