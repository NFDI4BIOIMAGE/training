{
 "cells": [
  {
   "cell_type": "markdown",
   "id": "4f9f1961",
   "metadata": {},
   "source": [
    "# Plot Number of Zenodo Links Over Time\n",
    "\n",
    "This notebook opens CSV files from the `download_statistics` folder and plots how many records are in these files over time."
   ]
  },
  {
   "cell_type": "code",
   "execution_count": 1,
   "id": "8c1b8da8",
   "metadata": {
    "execution": {
     "iopub.execute_input": "2024-10-12T16:32:43.332395Z",
     "iopub.status.busy": "2024-10-12T16:32:43.332207Z",
     "iopub.status.idle": "2024-10-12T16:32:45.497526Z",
     "shell.execute_reply": "2024-10-12T16:32:45.496844Z"
    }
   },
   "outputs": [],
   "source": [
    "# Import necessary libraries\n",
    "import pandas as pd\n",
    "import matplotlib.pyplot as plt\n",
    "import os"
   ]
  },
  {
   "cell_type": "markdown",
   "id": "966f27a8",
   "metadata": {},
   "source": [
    "## List CSV Files\n",
    "\n",
    "List all CSV files in the `download_statistics` directory to find the data files."
   ]
  },
  {
   "cell_type": "code",
   "execution_count": 2,
   "id": "35e221fa",
   "metadata": {
    "execution": {
     "iopub.execute_input": "2024-10-12T16:32:45.499992Z",
     "iopub.status.busy": "2024-10-12T16:32:45.499696Z",
     "iopub.status.idle": "2024-10-12T16:32:45.506850Z",
     "shell.execute_reply": "2024-10-12T16:32:45.506346Z"
    }
   },
   "outputs": [
    {
     "data": {
      "text/plain": [
       "['20240628.csv',\n",
       " '20240711.csv',\n",
       " '20240809.csv',\n",
       " '20240826.csv',\n",
       " '20240903.csv',\n",
       " '20240910.csv',\n",
       " '20240917.csv',\n",
       " '20240924.csv',\n",
       " '20241001.csv',\n",
       " '20241008.csv']"
      ]
     },
     "execution_count": 2,
     "metadata": {},
     "output_type": "execute_result"
    }
   ],
   "source": [
    "# Directory containing CSV files\n",
    "directory = '../download_statistics'\n",
    "\n",
    "# List all CSV files in directory\n",
    "files = [f for f in os.listdir(directory) if f.endswith('.csv')]\n",
    "files.sort()\n",
    "files"
   ]
  },
  {
   "cell_type": "markdown",
   "id": "3eceed68",
   "metadata": {},
   "source": [
    "## Extract Dates and Record Counts\n",
    "\n",
    "Read each CSV file and count the number of records to associate with the corresponding date."
   ]
  },
  {
   "cell_type": "code",
   "execution_count": 3,
   "id": "730628d0",
   "metadata": {
    "execution": {
     "iopub.execute_input": "2024-10-12T16:32:45.508757Z",
     "iopub.status.busy": "2024-10-12T16:32:45.508394Z",
     "iopub.status.idle": "2024-10-12T16:32:45.528604Z",
     "shell.execute_reply": "2024-10-12T16:32:45.528136Z"
    }
   },
   "outputs": [
    {
     "data": {
      "text/html": [
       "<div>\n",
       "<style scoped>\n",
       "    .dataframe tbody tr th:only-of-type {\n",
       "        vertical-align: middle;\n",
       "    }\n",
       "\n",
       "    .dataframe tbody tr th {\n",
       "        vertical-align: top;\n",
       "    }\n",
       "\n",
       "    .dataframe thead th {\n",
       "        text-align: right;\n",
       "    }\n",
       "</style>\n",
       "<table border=\"1\" class=\"dataframe\">\n",
       "  <thead>\n",
       "    <tr style=\"text-align: right;\">\n",
       "      <th></th>\n",
       "      <th>Date</th>\n",
       "      <th>Records</th>\n",
       "    </tr>\n",
       "  </thead>\n",
       "  <tbody>\n",
       "    <tr>\n",
       "      <th>0</th>\n",
       "      <td>2024-06-28</td>\n",
       "      <td>34</td>\n",
       "    </tr>\n",
       "    <tr>\n",
       "      <th>1</th>\n",
       "      <td>2024-07-11</td>\n",
       "      <td>34</td>\n",
       "    </tr>\n",
       "    <tr>\n",
       "      <th>2</th>\n",
       "      <td>2024-08-09</td>\n",
       "      <td>37</td>\n",
       "    </tr>\n",
       "    <tr>\n",
       "      <th>3</th>\n",
       "      <td>2024-08-26</td>\n",
       "      <td>40</td>\n",
       "    </tr>\n",
       "    <tr>\n",
       "      <th>4</th>\n",
       "      <td>2024-09-03</td>\n",
       "      <td>43</td>\n",
       "    </tr>\n",
       "    <tr>\n",
       "      <th>5</th>\n",
       "      <td>2024-09-10</td>\n",
       "      <td>43</td>\n",
       "    </tr>\n",
       "    <tr>\n",
       "      <th>6</th>\n",
       "      <td>2024-09-17</td>\n",
       "      <td>43</td>\n",
       "    </tr>\n",
       "    <tr>\n",
       "      <th>7</th>\n",
       "      <td>2024-09-24</td>\n",
       "      <td>59</td>\n",
       "    </tr>\n",
       "    <tr>\n",
       "      <th>8</th>\n",
       "      <td>2024-10-01</td>\n",
       "      <td>59</td>\n",
       "    </tr>\n",
       "    <tr>\n",
       "      <th>9</th>\n",
       "      <td>2024-10-08</td>\n",
       "      <td>59</td>\n",
       "    </tr>\n",
       "  </tbody>\n",
       "</table>\n",
       "</div>"
      ],
      "text/plain": [
       "        Date  Records\n",
       "0 2024-06-28       34\n",
       "1 2024-07-11       34\n",
       "2 2024-08-09       37\n",
       "3 2024-08-26       40\n",
       "4 2024-09-03       43\n",
       "5 2024-09-10       43\n",
       "6 2024-09-17       43\n",
       "7 2024-09-24       59\n",
       "8 2024-10-01       59\n",
       "9 2024-10-08       59"
      ]
     },
     "execution_count": 3,
     "metadata": {},
     "output_type": "execute_result"
    }
   ],
   "source": [
    "# Initialize lists to store results\n",
    "dates = []\n",
    "record_counts = []\n",
    "\n",
    "# Process each file\n",
    "for file in files:\n",
    "    # Extract date from filename (assuming yyyyMMdd.csv format)\n",
    "    date = file.split('.')[0]\n",
    "    dates.append(date)\n",
    "    \n",
    "    # Read CSV and count records\n",
    "    file_path = os.path.join(directory, file)\n",
    "    df = pd.read_csv(file_path)\n",
    "    record_counts.append(len(df))\n",
    "\n",
    "# Create a DataFrame for plotting\n",
    "data = pd.DataFrame({'Date': dates, 'Records': record_counts})\n",
    "data['Date'] = pd.to_datetime(data['Date'])\n",
    "data"
   ]
  },
  {
   "cell_type": "markdown",
   "id": "a4bf5f21",
   "metadata": {},
   "source": [
    "## Plot the Data\n",
    "\n",
    "Create a plot showing the number of records over time."
   ]
  },
  {
   "cell_type": "code",
   "execution_count": 4,
   "id": "945f56bb",
   "metadata": {
    "execution": {
     "iopub.execute_input": "2024-10-12T16:32:45.530531Z",
     "iopub.status.busy": "2024-10-12T16:32:45.530182Z",
     "iopub.status.idle": "2024-10-12T16:32:45.657585Z",
     "shell.execute_reply": "2024-10-12T16:32:45.657058Z"
    }
   },
   "outputs": [],
   "source": [
    "# Plot\n",
    "plt.figure(figsize=(10, 6))\n",
    "plt.plot(data['Date'], data['Records'], marker='o')\n",
    "plt.title('Number of Zenodo Links Over Time')\n",
    "plt.xlabel('Date')\n",
    "plt.ylabel('Number of Records')\n",
    "plt.grid(True)\n",
    "\n",
    "# Save the plot as an image file\n",
    "plt.savefig('zenodo_links_over_time.png')\n",
    "plt.close()"
   ]
  }
 ],
 "metadata": {
  "language_info": {
   "codemirror_mode": {
    "name": "ipython",
    "version": 3
   },
   "file_extension": ".py",
   "mimetype": "text/x-python",
   "name": "python",
   "nbconvert_exporter": "python",
   "pygments_lexer": "ipython3",
   "version": "3.12.7"
  }
 },
 "nbformat": 4,
 "nbformat_minor": 5
}
