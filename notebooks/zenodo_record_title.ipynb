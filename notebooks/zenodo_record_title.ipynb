{
 "cells": [
  {
   "cell_type": "markdown",
   "id": "6534aee5",
   "metadata": {},
   "source": [
    "# Retrieving the Title of a Zenodo Record\n",
    "\n",
    "In this notebook, we will use Zenodo's REST API to get the title of a record by using its URL."
   ]
  },
  {
   "cell_type": "markdown",
   "id": "3b158813",
   "metadata": {},
   "source": [
    "## Step 1: Import necessary libraries\n",
    "First, we'll import the `requests` library to make HTTP calls."
   ]
  },
  {
   "cell_type": "code",
   "execution_count": 1,
   "id": "7489a549",
   "metadata": {
    "execution": {
     "iopub.execute_input": "2024-11-02T09:00:34.301841Z",
     "iopub.status.busy": "2024-11-02T09:00:34.301402Z",
     "iopub.status.idle": "2024-11-02T09:00:34.368026Z",
     "shell.execute_reply": "2024-11-02T09:00:34.367497Z"
    }
   },
   "outputs": [],
   "source": [
    "import requests"
   ]
  },
  {
   "cell_type": "markdown",
   "id": "4b678082",
   "metadata": {},
   "source": [
    "## Step 2: Define the record URL\n",
    "Specify the Zenodo record URL for which we want to get the title."
   ]
  },
  {
   "cell_type": "code",
   "execution_count": 2,
   "id": "8d84949c",
   "metadata": {
    "execution": {
     "iopub.execute_input": "2024-11-02T09:00:34.369930Z",
     "iopub.status.busy": "2024-11-02T09:00:34.369638Z",
     "iopub.status.idle": "2024-11-02T09:00:34.372207Z",
     "shell.execute_reply": "2024-11-02T09:00:34.371735Z"
    }
   },
   "outputs": [],
   "source": [
    "# Example record URL\n",
    "record_url = \"https://zenodo.org/records/11201216\""
   ]
  },
  {
   "cell_type": "markdown",
   "id": "436e559d",
   "metadata": {},
   "source": [
    "## Step 3: Extract the record ID\n",
    "The record ID is needed to form the correct API endpoint."
   ]
  },
  {
   "cell_type": "code",
   "execution_count": 3,
   "id": "123dc114",
   "metadata": {
    "execution": {
     "iopub.execute_input": "2024-11-02T09:00:34.374044Z",
     "iopub.status.busy": "2024-11-02T09:00:34.373703Z",
     "iopub.status.idle": "2024-11-02T09:00:34.379542Z",
     "shell.execute_reply": "2024-11-02T09:00:34.379010Z"
    }
   },
   "outputs": [
    {
     "data": {
      "text/plain": [
       "'11201216'"
      ]
     },
     "execution_count": 3,
     "metadata": {},
     "output_type": "execute_result"
    }
   ],
   "source": [
    "record_id = record_url.split('/')[-1]\n",
    "record_id"
   ]
  },
  {
   "cell_type": "markdown",
   "id": "a2c8bf62",
   "metadata": {},
   "source": [
    "## Step 4: Use the Zenodo API to get the record data\n",
    "We'll form the API URL and make a GET request to retrieve the record's metadata."
   ]
  },
  {
   "cell_type": "code",
   "execution_count": 4,
   "id": "563bcc3e",
   "metadata": {
    "execution": {
     "iopub.execute_input": "2024-11-02T09:00:34.381510Z",
     "iopub.status.busy": "2024-11-02T09:00:34.381111Z",
     "iopub.status.idle": "2024-11-02T09:00:35.004275Z",
     "shell.execute_reply": "2024-11-02T09:00:35.003735Z"
    }
   },
   "outputs": [
    {
     "data": {
      "text/plain": [
       "{'created': '2024-07-16T20:29:52.354518+00:00',\n",
       " 'modified': '2024-07-22T16:10:50.584185+00:00',\n",
       " 'id': 11201216,\n",
       " 'conceptrecid': '11201215',\n",
       " 'doi': '10.5281/zenodo.11201216',\n",
       " 'conceptdoi': '10.5281/zenodo.11201215',\n",
       " 'doi_url': 'https://doi.org/10.5281/zenodo.11201216',\n",
       " 'metadata': {'title': 'Insights and Impact From Five Cycles of Essential Open Source Software for Science',\n",
       "  'doi': '10.5281/zenodo.11201216',\n",
       "  'publication_date': '2024-07-16',\n",
       "  'description': '<p>This publication contains a PDF of the report, as well as associated data (README and six csv files).&nbsp;</p>\\n<h3>Executive Summary</h3>\\n<p>Open source software (OSS) is crucial to advance scientific discovery. In particular, biomedical research increasingly depends on computational analysis, and OSS has become critical to making these methods broadly accessible. Despite a steady increase in demand from the scientific community for usable, scalable, secure, and reliable OSS, funding to support the needs of the communities that create it and maintain it has been limited.&nbsp;&nbsp;</p>\\n<p>For the past five years, the Chan Zuckerberg Initiative has supported the maintenance, growth, development, and community engagement for critical open source tools that are used globally in the life sciences through its <a href=\"https://czi.co/EOSS\">Essential Open Source Software for Science</a> (EOSS) program. To our knowledge at the time of writing, this program (193 grants with $51.8 million in funding) represents the largest initiative to meet these needs. Stories and data from this unique grantee community represent one of the best available accounts on the impact of the open source foundations of science, and the urgent need to continue and expand support for them. In this report, we set out to review the impact of the first five cycles of the EOSS program to date from multiple perspectives and a variety of data sources, highlighting the support required to sustain OSS as well as the successes of our community. Questions we addressed and associated key findings include:</p>\\n<p><strong>1. What Support Does the Scientific Open Source Community Need?</strong></p>\\n<p>While all scientific open source projects request funding for technical work, mature projects also aim to improve their documentation and community building efforts. Additionally, maintainers of mature projects like those funded by EOSS typically feel equipped to tackle technical challenges associated with their work, but are interested in additional support to streamline their operations (e.g., project management), develop contributor communities, and ensure project sustainability.</p>\\n<p><strong>2. What Activities Did the Program Fund?&nbsp;</strong></p>\\n<p>All funded proposals engaged in activities which yielded technical outputs. A wide variety of non-technical outputs were also enabled by EOSS funding for almost all funded proposals. These include traditional scientific outputs like presentations, manuscripts, data and grant proposals, as well as software outputs in support of community, documentation, and training. Reviewing a broad array of outputs is required to understand how projects measure progress in their work.</p>\\n<p><strong>3.How Did the Program Impact Funded Software Projects?&nbsp;</strong></p>\\n<p>EOSS funding is intended to support the maintenance and ongoing development of scientific OSS projects, so the primary area of intended impact is on the software projects themselves. EOSS-supported projects are asked to adopt community guidelines (e.g., Codes of Conduct), encouraging the creation and maintenance of welcoming, inclusive communities. OSS projects supported by EOSS also reported a positive impact of funding on project maintainers through the recruitment of contributor communities and other outcomes that facilitate project sustainability.</p>\\n<p><strong>4. How Did the Program Impact the Broader Open Source Community?&nbsp;</strong></p>\\n<p>EOSS-supported software projects are leaders in scientific OSS, representing some of the most widely used and foundational packages for researchers and other software developers. A relatively high proportion of these projects apply software development best practices and continue to implement such practices during the course of their funded work, serving as examples to the rest of the OSS community. In addition to demonstrating best practices, many EOSS grantees engaged in collaborations with other software projects: nearly half of all funded proposals reported collaborative interactions with one or more other open source projects during the period of funding, including some collaborations that arose through CZI events.</p>\\n<p><strong>5. How Did the Program Impact Diverse Participation in Scientific Open Source?&nbsp;</strong></p>\\n<p>Improving diversity, equity and inclusion (DEI) bolsters the quality of science, but these activities are often deprioritized in under-resourced projects. Open source software was historically led by white men from North America and Europe; to change this trend there must be increased leadership and participation from members of previously underrepresented groups. Although we did not find changes to PI demographics across EOSS cycles, over half of funded projects reported EOSS funding as key to engaging contributors from underrepresented groups, translating documentation to additional human languages, and performing outreach to new demographics and groups.&nbsp;</p>\\n<p><strong>6. How Did EOSS-Funded Projects Impact Biomedical Research?&nbsp;</strong></p>\\n<p>All open source projects funded through the EOSS program were deemed &ldquo;essential&rdquo; for science and chosen for funding based on their existing adoption and impact, in particular for the biomedical community. Characterizing the impact of EOSS as a whole on biomedical research is a challenging task, but building direct connections between funded outcomes and examples of scientific progress is key to justify investments in open source. We used several approaches to building connections between projects and scientific progress. EOSS-supported software projects are mentioned and cited extensively in scientific literature, highlighting the large volume of research that relies on these projects. EOSS funding has also improved usability and accessibility of scientific software for all users, as well as users with disabilities, resulting in increased uptake by the research community. Finally, EOSS-funded projects are connected to a wide variety of biomedical advancements&ndash;development of new resources for biomedical topics, use of software packages in platforms, and use or implementation of features that enable cutting-edge scientific discovery.</p>\\n<p>&nbsp;</p>',\n",
       "  'access_right': 'open',\n",
       "  'creators': [{'name': 'Hertweck, Kate',\n",
       "    'affiliation': None,\n",
       "    'orcid': '0000-0002-4026-4612'},\n",
       "   {'name': 'Strasser, Carly',\n",
       "    'affiliation': None,\n",
       "    'orcid': '0000-0001-9592-2339'},\n",
       "   {'name': 'Taraborelli, Dario',\n",
       "    'affiliation': None,\n",
       "    'orcid': '0000-0002-0082-8508'}],\n",
       "  'keywords': ['scientific open source software',\n",
       "   'program assessment',\n",
       "   'science philanthropy'],\n",
       "  'language': 'eng',\n",
       "  'resource_type': {'title': 'Report',\n",
       "   'type': 'publication',\n",
       "   'subtype': 'report'},\n",
       "  'license': {'id': 'cc-by-4.0'},\n",
       "  'communities': [{'id': 'eoss'}],\n",
       "  'relations': {'version': [{'index': 0,\n",
       "     'is_last': True,\n",
       "     'parent': {'pid_type': 'recid', 'pid_value': '11201215'}}]}},\n",
       " 'title': 'Insights and Impact From Five Cycles of Essential Open Source Software for Science',\n",
       " 'links': {'self': 'https://zenodo.org/api/records/11201216',\n",
       "  'self_html': 'https://zenodo.org/records/11201216',\n",
       "  'doi': 'https://doi.org/10.5281/zenodo.11201216',\n",
       "  'self_doi': 'https://doi.org/10.5281/zenodo.11201216',\n",
       "  'self_doi_html': 'https://zenodo.org/doi/10.5281/zenodo.11201216',\n",
       "  'parent': 'https://zenodo.org/api/records/11201215',\n",
       "  'parent_html': 'https://zenodo.org/records/11201215',\n",
       "  'parent_doi': 'https://doi.org/10.5281/zenodo.11201215',\n",
       "  'parent_doi_html': 'https://zenodo.org/doi/10.5281/zenodo.11201215',\n",
       "  'self_iiif_manifest': 'https://zenodo.org/api/iiif/record:11201216/manifest',\n",
       "  'self_iiif_sequence': 'https://zenodo.org/api/iiif/record:11201216/sequence/default',\n",
       "  'files': 'https://zenodo.org/api/records/11201216/files',\n",
       "  'media_files': 'https://zenodo.org/api/records/11201216/media-files',\n",
       "  'thumbnails': {'10': 'https://zenodo.org/api/iiif/record:11201216:24_0715_CZI_Insights%20and%20Impact%20From%20%20Five%20Cycles%20of%20Essential%20Open%20Source%20Software%20for%20Science.pdf/full/^10,/0/default.jpg',\n",
       "   '50': 'https://zenodo.org/api/iiif/record:11201216:24_0715_CZI_Insights%20and%20Impact%20From%20%20Five%20Cycles%20of%20Essential%20Open%20Source%20Software%20for%20Science.pdf/full/^50,/0/default.jpg',\n",
       "   '100': 'https://zenodo.org/api/iiif/record:11201216:24_0715_CZI_Insights%20and%20Impact%20From%20%20Five%20Cycles%20of%20Essential%20Open%20Source%20Software%20for%20Science.pdf/full/^100,/0/default.jpg',\n",
       "   '250': 'https://zenodo.org/api/iiif/record:11201216:24_0715_CZI_Insights%20and%20Impact%20From%20%20Five%20Cycles%20of%20Essential%20Open%20Source%20Software%20for%20Science.pdf/full/^250,/0/default.jpg',\n",
       "   '750': 'https://zenodo.org/api/iiif/record:11201216:24_0715_CZI_Insights%20and%20Impact%20From%20%20Five%20Cycles%20of%20Essential%20Open%20Source%20Software%20for%20Science.pdf/full/^750,/0/default.jpg',\n",
       "   '1200': 'https://zenodo.org/api/iiif/record:11201216:24_0715_CZI_Insights%20and%20Impact%20From%20%20Five%20Cycles%20of%20Essential%20Open%20Source%20Software%20for%20Science.pdf/full/^1200,/0/default.jpg'},\n",
       "  'archive': 'https://zenodo.org/api/records/11201216/files-archive',\n",
       "  'archive_media': 'https://zenodo.org/api/records/11201216/media-files-archive',\n",
       "  'latest': 'https://zenodo.org/api/records/11201216/versions/latest',\n",
       "  'latest_html': 'https://zenodo.org/records/11201216/latest',\n",
       "  'versions': 'https://zenodo.org/api/records/11201216/versions',\n",
       "  'draft': 'https://zenodo.org/api/records/11201216/draft',\n",
       "  'reserve_doi': 'https://zenodo.org/api/records/11201216/draft/pids/doi',\n",
       "  'access_links': 'https://zenodo.org/api/records/11201216/access/links',\n",
       "  'access_grants': 'https://zenodo.org/api/records/11201216/access/grants',\n",
       "  'access_users': 'https://zenodo.org/api/records/11201216/access/users',\n",
       "  'access_request': 'https://zenodo.org/api/records/11201216/access/request',\n",
       "  'access': 'https://zenodo.org/api/records/11201216/access',\n",
       "  'communities': 'https://zenodo.org/api/records/11201216/communities',\n",
       "  'communities-suggestions': 'https://zenodo.org/api/records/11201216/communities-suggestions',\n",
       "  'requests': 'https://zenodo.org/api/records/11201216/requests'},\n",
       " 'updated': '2024-07-22T16:10:50.584185+00:00',\n",
       " 'recid': '11201216',\n",
       " 'revision': 8,\n",
       " 'files': [{'id': '70c8c856-665a-42e7-8863-4f8e51611c63',\n",
       "   'key': '24_0715_CZI_Insights and Impact From  Five Cycles of Essential Open Source Software for Science.pdf',\n",
       "   'size': 5712918,\n",
       "   'checksum': 'md5:3df9c3cc3bc3bf2e8cc131e6693117f4',\n",
       "   'links': {'self': 'https://zenodo.org/api/records/11201216/files/24_0715_CZI_Insights and Impact From  Five Cycles of Essential Open Source Software for Science.pdf/content'}},\n",
       "  {'id': 'b284a7fe-62ec-4403-946c-8eddbaa1b6dd',\n",
       "   'key': 'application_corpus_eoss_assessment.csv',\n",
       "   'size': 213191,\n",
       "   'checksum': 'md5:5b78de4cebc4e1aed52d6dec47908fad',\n",
       "   'links': {'self': 'https://zenodo.org/api/records/11201216/files/application_corpus_eoss_assessment.csv/content'}},\n",
       "  {'id': 'd10996da-dd00-45c8-b73c-4faee5686113',\n",
       "   'key': 'grantee_output_analysis_eoss_assessment.csv',\n",
       "   'size': 11230,\n",
       "   'checksum': 'md5:2ee296d495ffad7b45df6966922de8c8',\n",
       "   'links': {'self': 'https://zenodo.org/api/records/11201216/files/grantee_output_analysis_eoss_assessment.csv/content'}},\n",
       "  {'id': 'c3bc002e-e13a-47fb-bdab-57e50927b5c2',\n",
       "   'key': 'grantee_impact_survey_eoss_assessment.csv',\n",
       "   'size': 7546,\n",
       "   'checksum': 'md5:51724c571ab6801d1099884530e73731',\n",
       "   'links': {'self': 'https://zenodo.org/api/records/11201216/files/grantee_impact_survey_eoss_assessment.csv/content'}},\n",
       "  {'id': '9907dcf1-81a4-4d6b-957e-fef4611c9ef5',\n",
       "   'key': 'software_mentions_eoss_assessment.csv',\n",
       "   'size': 6784,\n",
       "   'checksum': 'md5:1ac331d20ddff0a5b9e93f051155efe3',\n",
       "   'links': {'self': 'https://zenodo.org/api/records/11201216/files/software_mentions_eoss_assessment.csv/content'}},\n",
       "  {'id': '74f68096-9c6f-42d9-8ed2-e55278fafb6e',\n",
       "   'key': 'needs_assessment_survey_eoss_assessment.csv',\n",
       "   'size': 19981,\n",
       "   'checksum': 'md5:79274d0035614f16cfb9e294f33b3e8f',\n",
       "   'links': {'self': 'https://zenodo.org/api/records/11201216/files/needs_assessment_survey_eoss_assessment.csv/content'}},\n",
       "  {'id': '9afe4d62-6432-4404-a69e-7361b9732c8f',\n",
       "   'key': 'eoss_grantee_information.csv',\n",
       "   'size': 47427,\n",
       "   'checksum': 'md5:f58f1ab31e3a88ec22009bbdb2b33d3c',\n",
       "   'links': {'self': 'https://zenodo.org/api/records/11201216/files/eoss_grantee_information.csv/content'}},\n",
       "  {'id': 'c8a021c7-6e6e-4a8f-bf92-e1126c85c24a',\n",
       "   'key': 'README-EOSS impact assessment.md',\n",
       "   'size': 8429,\n",
       "   'checksum': 'md5:f82449e7c4c39c823873efe70fcae331',\n",
       "   'links': {'self': 'https://zenodo.org/api/records/11201216/files/README-EOSS impact assessment.md/content'}}],\n",
       " 'owners': [{'id': '263476'}],\n",
       " 'status': 'published',\n",
       " 'stats': {'downloads': 1966,\n",
       "  'unique_downloads': 1668,\n",
       "  'views': 1877,\n",
       "  'unique_views': 1736,\n",
       "  'version_downloads': 1966,\n",
       "  'version_unique_downloads': 1668,\n",
       "  'version_unique_views': 1736,\n",
       "  'version_views': 1877},\n",
       " 'state': 'done',\n",
       " 'submitted': True}"
      ]
     },
     "execution_count": 4,
     "metadata": {},
     "output_type": "execute_result"
    }
   ],
   "source": [
    "# Form the API endpoint URL\n",
    "api_url = f\"https://zenodo.org/api/records/{record_id}\"\n",
    "\n",
    "# Make the GET request to fetch the data\n",
    "response = requests.get(api_url)\n",
    "record_data = response.json()\n",
    "record_data"
   ]
  },
  {
   "cell_type": "markdown",
   "id": "60d868ad",
   "metadata": {},
   "source": [
    "## Step 5: Extract the title from the record data\n",
    "We can extract the title by accessing the appropriate field in the JSON response."
   ]
  },
  {
   "cell_type": "code",
   "execution_count": 5,
   "id": "1fa3741c",
   "metadata": {
    "execution": {
     "iopub.execute_input": "2024-11-02T09:00:35.006038Z",
     "iopub.status.busy": "2024-11-02T09:00:35.005863Z",
     "iopub.status.idle": "2024-11-02T09:00:35.009619Z",
     "shell.execute_reply": "2024-11-02T09:00:35.009068Z"
    }
   },
   "outputs": [
    {
     "data": {
      "text/plain": [
       "'Insights and Impact From Five Cycles of Essential Open Source Software for Science'"
      ]
     },
     "execution_count": 5,
     "metadata": {},
     "output_type": "execute_result"
    }
   ],
   "source": [
    "record_title = record_data['metadata']['title']\n",
    "record_title"
   ]
  },
  {
   "cell_type": "markdown",
   "id": "48a87be6",
   "metadata": {},
   "source": [
    "## Step 6: Save the retrieved title to a text file\n",
    "Finally, we save the title to `record_title.txt` so we can inspect it without running the notebook."
   ]
  },
  {
   "cell_type": "code",
   "execution_count": 6,
   "id": "ccb3a79d",
   "metadata": {
    "execution": {
     "iopub.execute_input": "2024-11-02T09:00:35.011471Z",
     "iopub.status.busy": "2024-11-02T09:00:35.011161Z",
     "iopub.status.idle": "2024-11-02T09:00:35.014123Z",
     "shell.execute_reply": "2024-11-02T09:00:35.013578Z"
    }
   },
   "outputs": [],
   "source": [
    "with open('record_title.txt', 'w') as file:\n",
    "    file.write(record_title)"
   ]
  },
  {
   "cell_type": "markdown",
   "id": "4992a0a1",
   "metadata": {},
   "source": [
    "The process is complete. You can now check the `record_title.txt` file for the title of the Zenodo record."
   ]
  }
 ],
 "metadata": {
  "language_info": {
   "codemirror_mode": {
    "name": "ipython",
    "version": 3
   },
   "file_extension": ".py",
   "mimetype": "text/x-python",
   "name": "python",
   "nbconvert_exporter": "python",
   "pygments_lexer": "ipython3",
   "version": "3.12.7"
  }
 },
 "nbformat": 4,
 "nbformat_minor": 5
}
