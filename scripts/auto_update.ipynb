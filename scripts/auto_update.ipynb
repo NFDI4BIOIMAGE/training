{
 "cells": [
  {
   "cell_type": "code",
   "execution_count": 1,
   "id": "18e0aa8f-59a5-42ab-a85b-7b46a87943a2",
   "metadata": {},
   "outputs": [],
   "source": [
    "from bia_bob import bob"
   ]
  },
  {
   "cell_type": "code",
   "execution_count": 2,
   "id": "d2607e4b-42ba-4695-ac6d-baa0055ae7d2",
   "metadata": {},
   "outputs": [],
   "source": [
    "from generate_link_lists import update_all_yaml_files, read_yaml_file, write_yaml_file, read_doi, read_zenodo, remove_html_tags, read_github_license"
   ]
  },
  {
   "cell_type": "code",
   "execution_count": 3,
   "id": "ae36d665-ab45-4423-b1ed-ef10bcf8f2af",
   "metadata": {},
   "outputs": [],
   "source": [
    "#read_doi(\"https://doi.org/10.7490/f1000research.1119154.1\")"
   ]
  },
  {
   "cell_type": "code",
   "execution_count": 4,
   "id": "0f873039-1b1d-4018-b465-137f6bdb7b67",
   "metadata": {},
   "outputs": [],
   "source": [
    "#read_zenodo(\"https://zenodo.org/records/3490058\")"
   ]
  },
  {
   "cell_type": "code",
   "execution_count": 5,
   "id": "b9e3e4a3-33a1-44f4-ae29-7857e4a6b895",
   "metadata": {},
   "outputs": [],
   "source": [
    "#yaml_filename = \"../resources/materials.yml\""
   ]
  },
  {
   "cell_type": "code",
   "execution_count": null,
   "id": "fb4dce8e-5bee-4943-ae93-4d27637a776d",
   "metadata": {},
   "outputs": [],
   "source": []
  },
  {
   "cell_type": "code",
   "execution_count": 6,
   "id": "1a26ebea-902c-4c32-af5a-3d52e557fdd5",
   "metadata": {},
   "outputs": [],
   "source": [
    "#update_yaml_file(yaml_filename)"
   ]
  },
  {
   "cell_type": "code",
   "execution_count": 7,
   "id": "9f85f1bb-aa42-4a5d-bcff-9775ab9391b1",
   "metadata": {},
   "outputs": [
    {
     "name": "stdout",
     "output_type": "stream",
     "text": [
      "updating blog_posts.yml\n",
      "updating events.yml\n",
      "updating materials.yml\n",
      "updating nfdi4bioimage.yml\n",
      "updating papers.yml\n",
      "updating workflow-tools.yml\n",
      "updating youtube_channels.yml\n"
     ]
    }
   ],
   "source": [
    "update_all_yaml_files(\"../resources/\", use_github=False, use_zenodo=False)"
   ]
  },
  {
   "cell_type": "code",
   "execution_count": null,
   "id": "cd59625b-48a4-4831-a85c-d1228641e663",
   "metadata": {},
   "outputs": [],
   "source": []
  }
 ],
 "metadata": {
  "kernelspec": {
   "display_name": "Python 3 (ipykernel)",
   "language": "python",
   "name": "python3"
  },
  "language_info": {
   "codemirror_mode": {
    "name": "ipython",
    "version": 3
   },
   "file_extension": ".py",
   "mimetype": "text/x-python",
   "name": "python",
   "nbconvert_exporter": "python",
   "pygments_lexer": "ipython3",
   "version": "3.9.16"
  }
 },
 "nbformat": 4,
 "nbformat_minor": 5
}
